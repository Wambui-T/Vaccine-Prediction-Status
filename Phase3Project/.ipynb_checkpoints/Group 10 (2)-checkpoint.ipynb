{
 "cells": [
  {
   "cell_type": "markdown",
   "metadata": {},
   "source": [
    "### GOAL : To predict how likely individuals are to receive their H1N1 and seasonal flu vaccines. Specifically, you’ll be predicting two probabilities: one for h1n1_vaccine and one for seasonal_vaccine.\n",
    "\n",
    "#### Key points :\n",
    "\n",
    "- Multilabel Classification\n",
    "\n",
    "- Higher number of specific features thus will need proper feature selection scheme\n",
    "\n",
    "- Majority of data is categorical (binary)\n",
    "\n",
    "- Column number 23 to 36 (age group to employment occupation) needs some cleaning and transformation\n",
    "\n",
    "- Labels are provided in separate file\n",
    "\n",
    "- Both are binary variables, with 1 indicating that a person received the respective flu vaccine and 0 indicating that a person did not receive the respective flu vaccine."
   ]
  },
  {
   "cell_type": "markdown",
   "metadata": {},
   "source": [
    "# Metric of Success\n",
    "\n",
    "The choice of the evaluation metric, in this case, the F1 score, depends on the specific requirements and considerations of your project. Here's why the F1 score is commonly used in classification tasks:\n",
    "\n",
    "The F1 score is the harmonic mean of precision and recall, combining both metrics into a single value. It provides a balanced assessment of the model's performance by considering both false positives and false negatives.\n",
    "\n",
    "In many health-related data science projects, imbalanced class distribution is common, where one class may be significantly more prevalent than the other. In such cases, accuracy alone may not be an appropriate metric because a model can achieve high accuracy by simply predicting the majority class. This can be misleading when the focus is on the performance of the minority class.\n",
    "\n",
    "The F1 score takes into account both precision and recall. Precision measures the model's ability to correctly identify positive instances, while recall measures the model's ability to capture all positive instances. By combining precision and recall, the F1 score provides a comprehensive evaluation of the model's performance for both classes.\n",
    "\n",
    "The F1 score is particularly useful when the cost of false positives and false negatives is similar and needs to be balanced. For example, in disease diagnosis, both false positives (misdiagnosing a healthy person as diseased) and false negatives (missing a diseased person) can have serious consequences. In such cases, optimizing the F1 score helps find a trade-off between minimizing both types of errors.\n",
    "\n",
    "However, it's essential to note that the choice of evaluation metric should align with the specific goals and requirements of your project. Depending on your project's context and priorities, other metrics like accuracy, precision, recall, or AUC-ROC may be more appropriate. Consider the relative importance of false positives and false negatives in your project and select the evaluation metric accordingly.\n",
    "\n",
    "It's always a good practice to evaluate multiple metrics and consider the domain-specific implications of the model's predictions to gain a comprehensive understanding of its performance.\n",
    "\n",
    "Correct, when you use oversampling techniques like SMOTE to address class imbalance, accuracy alone may not be a good metric to evaluate the model's performance. Here's why:\n",
    "\n",
    "When you oversample the minority class using SMOTE, you create synthetic examples to balance the class distribution. As a result, the model trained on the oversampled data tends to perform well on the majority class, which may lead to a high accuracy. However, accuracy can be misleading in this scenario because it does not consider the performance on the minority class.\n",
    "\n",
    "Since the objective is usually to improve the model's ability to correctly identify the minority class (positive class), metrics that focus on the minority class become more relevant. Evaluation metrics like precision, recall, and F1 score take into account the true positive rate (sensitivity/recall) and positive predictive value (precision) of the minority class, which provide a more meaningful assessment of the model's performance in such imbalanced scenarios.\n",
    "\n",
    "By using metrics like F1 score, you balance the importance of correctly identifying positive instances (e.g., correctly diagnosing a disease) while also minimizing false positives and false negatives.\n",
    "\n",
    "Therefore, in your case where SMOTE was used to address class imbalance, it's recommended to consider evaluation metrics like precision, recall, and F1 score rather than relying solely on accuracy to assess the model's performance. These metrics will provide a better understanding of how well the model performs on the minority class and help you make more informed decisions."
   ]
  },
  {
   "cell_type": "markdown",
   "metadata": {},
   "source": [
    "# Data Description\n",
    "\n",
    "h1n1_concern - Level of concern about the H1N1 flu.\n",
    "h1n1_knowledge - Level of knowledge about H1N1 flu.\n",
    "behavioral_antiviral_meds - Has taken antiviral medications. (binary)\n",
    "behavioral_avoidance - Has avoided close contact with others with flu-like symptoms. (binary)\n",
    "behavioral_face_mask - Has bought a face mask. (binary)\n",
    "behavioral_wash_hands - Has frequently washed hands or used hand sanitizer. (binary)\n",
    "behavioral_large_gatherings - Has reduced time at large gatherings. (binary)\n",
    "behavioral_outside_home - Has reduced contact with people outside of own household. (binary)\n",
    "behavioral_touch_face - Has avoided touching eyes, nose, or mouth. (binary)\n",
    "doctor_recc_h1n1 - H1N1 flu vaccine was recommended by doctor. (binary)\n",
    "doctor_recc_seasonal - Seasonal flu vaccine was recommended by doctor. (binary)\n",
    "chronic_med_condition - Has any of the following chronic medical conditions: asthma or an other lung condition, diabetes, a heart condition, a kidney condition, sickle cell anemia or other anemia, a neurological or neuromuscular condition, a liver condition, or a weakened immune system caused by a chronic illness or by medicines taken for a chronic illness. (binary)\n",
    "child_under_6_months - Has regular close contact with a child under the age of six months. (binary)\n",
    "health_worker - Is a healthcare worker. (binary)\n",
    "health_insurance - Has health insurance. (binary)\n",
    "opinion_h1n1_vacc_effective - Respondent's opinion about H1N1 vaccine effectiveness.\n",
    "opinion_h1n1_risk - Respondent's opinion about risk of getting sick with H1N1 flu without vaccine.\n",
    "opinion_h1n1_sick_from_vacc - Respondent's worry of getting sick from taking H1N1 vaccine.\n",
    "opinion_seas_vacc_effective - Respondent's opinion about seasonal flu vaccine effectiveness.\n",
    "opinion_seas_risk - Respondent's opinion about risk of getting sick with seasonal flu without vaccine.\n",
    "opinion_seas_sick_from_vacc - Respondent's worry of getting sick from taking seasonal flu vaccine.\n",
    "age_group - Age group of respondent.\n",
    "education - Self-reported education level.\n",
    "race - Race of respondent.\n",
    "sex - Sex of respondent.\n",
    "income_poverty - Household annual income of respondent with respect to 2008 Census poverty thresholds.\n",
    "marital_status - Marital status of respondent.\n",
    "rent_or_own - Housing situation of respondent.\n",
    "employment_status - Employment status of respondent.\n",
    "hhs_geo_region - Respondent's residence using a 10-region geographic classification defined by the U.S. Dept. of Health and Human Services. Values are represented as short random character strings.\n",
    "census_msa - Respondent's residence within metropolitan statistical areas (MSA) as defined by the U.S. Census.\n",
    "household_adults - Number of other adults in household, top-coded to 3.\n",
    "household_children - Number of children in household, top-coded to 3.\n",
    "employment_industry - Type of industry respondent is employed in. Values are represented as short random character strings.\n",
    "employment_occupation - Type of occupation of respondent. Values are represented as short random character strings."
   ]
  },
  {
   "cell_type": "markdown",
   "metadata": {},
   "source": [
    "**Import Libraries**"
   ]
  },
  {
   "cell_type": "code",
   "execution_count": 1,
   "metadata": {},
   "outputs": [
    {
     "ename": "ImportError",
     "evalue": "cannot import name 'plot_confusion_matrix' from 'sklearn.metrics' (C:\\Users\\WambuiThuku(KE)\\Miniconda3\\envs\\learn-env\\lib\\site-packages\\sklearn\\metrics\\__init__.py)",
     "output_type": "error",
     "traceback": [
      "\u001b[1;31m---------------------------------------------------------------------------\u001b[0m",
      "\u001b[1;31mImportError\u001b[0m                               Traceback (most recent call last)",
      "Cell \u001b[1;32mIn[1], line 19\u001b[0m\n\u001b[0;32m     17\u001b[0m \u001b[38;5;28;01mfrom\u001b[39;00m \u001b[38;5;21;01msklearn\u001b[39;00m\u001b[38;5;21;01m.\u001b[39;00m\u001b[38;5;21;01msvm\u001b[39;00m \u001b[38;5;28;01mimport\u001b[39;00m SVC\n\u001b[0;32m     18\u001b[0m \u001b[38;5;28;01mfrom\u001b[39;00m \u001b[38;5;21;01msklearn\u001b[39;00m\u001b[38;5;21;01m.\u001b[39;00m\u001b[38;5;21;01mpipeline\u001b[39;00m \u001b[38;5;28;01mimport\u001b[39;00m Pipeline\n\u001b[1;32m---> 19\u001b[0m \u001b[38;5;28;01mfrom\u001b[39;00m \u001b[38;5;21;01msklearn\u001b[39;00m\u001b[38;5;21;01m.\u001b[39;00m\u001b[38;5;21;01mmetrics\u001b[39;00m \u001b[38;5;28;01mimport\u001b[39;00m classification_report, plot_confusion_matrix\n\u001b[0;32m     20\u001b[0m \u001b[38;5;28;01mfrom\u001b[39;00m \u001b[38;5;21;01msklearn\u001b[39;00m\u001b[38;5;21;01m.\u001b[39;00m\u001b[38;5;21;01mmetrics\u001b[39;00m \u001b[38;5;28;01mimport\u001b[39;00m accuracy_score, precision_score, recall_score, f1_score\n\u001b[0;32m     21\u001b[0m \u001b[38;5;28;01mfrom\u001b[39;00m \u001b[38;5;21;01mimblearn\u001b[39;00m\u001b[38;5;21;01m.\u001b[39;00m\u001b[38;5;21;01mover_sampling\u001b[39;00m \u001b[38;5;28;01mimport\u001b[39;00m SMOTE\n",
      "\u001b[1;31mImportError\u001b[0m: cannot import name 'plot_confusion_matrix' from 'sklearn.metrics' (C:\\Users\\WambuiThuku(KE)\\Miniconda3\\envs\\learn-env\\lib\\site-packages\\sklearn\\metrics\\__init__.py)"
     ]
    }
   ],
   "source": [
    "import pandas as pd\n",
    "import numpy as np\n",
    "import seaborn as sns\n",
    "import matplotlib.pyplot as plt\n",
    "from sklearn import datasets\n",
    "from sklearn.model_selection import cross_val_score, train_test_split, GridSearchCV\n",
    "from sklearn.preprocessing import StandardScaler, MaxAbsScaler, OneHotEncoder, MinMaxScaler\n",
    "from sklearn.impute import SimpleImputer\n",
    "from sklearn.dummy import DummyClassifier\n",
    "from sklearn.linear_model import LogisticRegression\n",
    "from sklearn.neighbors import KNeighborsClassifier\n",
    "from sklearn.tree import DecisionTreeClassifier\n",
    "from sklearn.ensemble import BaggingClassifier, RandomForestClassifier\n",
    "from sklearn.ensemble import AdaBoostClassifier, GradientBoostingClassifier\n",
    "from xgboost import XGBClassifier\n",
    "from sklearn.naive_bayes import GaussianNB\n",
    "from sklearn.svm import SVC\n",
    "from sklearn.pipeline import Pipeline\n",
    "from sklearn.metrics import classification_report, plot_confusion_matrix\n",
    "from sklearn.metrics import accuracy_score, precision_score, recall_score, f1_score\n",
    "from imblearn.over_sampling import SMOTE\n",
    "from imblearn.under_sampling import TomekLinks\n",
    "import warnings\n",
    "warnings.filterwarnings('ignore')"
   ]
  },
  {
   "cell_type": "markdown",
   "metadata": {},
   "source": [
    "**Load Data**"
   ]
  },
  {
   "cell_type": "code",
   "execution_count": null,
   "metadata": {},
   "outputs": [],
   "source": [
    "features_df = pd.read_csv(\"training_set_features.csv\", \n",
    "                          index_col=\"respondent_id\")\n",
    "\n",
    "labels_df = pd.read_csv(\"training_set_labels.csv\",\n",
    "                       index_col=\"respondent_id\")"
   ]
  },
  {
   "cell_type": "code",
   "execution_count": null,
   "metadata": {},
   "outputs": [],
   "source": [
    "# Check the first 5 entries\n",
    "features_df.head()"
   ]
  },
  {
   "cell_type": "code",
   "execution_count": null,
   "metadata": {},
   "outputs": [],
   "source": [
    "features_df.filter(like='age')"
   ]
  },
  {
   "cell_type": "code",
   "execution_count": null,
   "metadata": {},
   "outputs": [],
   "source": [
    "# Check the rows and columns\n",
    "features_df.shape"
   ]
  },
  {
   "cell_type": "code",
   "execution_count": null,
   "metadata": {},
   "outputs": [],
   "source": [
    "labels_df.shape"
   ]
  },
  {
   "cell_type": "code",
   "execution_count": null,
   "metadata": {},
   "outputs": [],
   "source": [
    "labels_df.head()"
   ]
  },
  {
   "cell_type": "code",
   "execution_count": 2,
   "metadata": {},
   "outputs": [
    {
     "ename": "NameError",
     "evalue": "name 'features_df' is not defined",
     "output_type": "error",
     "traceback": [
      "\u001b[1;31m---------------------------------------------------------------------------\u001b[0m",
      "\u001b[1;31mNameError\u001b[0m                                 Traceback (most recent call last)",
      "Cell \u001b[1;32mIn[2], line 2\u001b[0m\n\u001b[0;32m      1\u001b[0m \u001b[38;5;66;03m# Double-check that the rows between the features and the labels match up\u001b[39;00m\n\u001b[1;32m----> 2\u001b[0m np\u001b[38;5;241m.\u001b[39mtesting\u001b[38;5;241m.\u001b[39massert_array_equal(\u001b[43mfeatures_df\u001b[49m\u001b[38;5;241m.\u001b[39mindex\u001b[38;5;241m.\u001b[39mvalues, labels_df\u001b[38;5;241m.\u001b[39mindex\u001b[38;5;241m.\u001b[39mvalues)\n",
      "\u001b[1;31mNameError\u001b[0m: name 'features_df' is not defined"
     ]
    }
   ],
   "source": [
    "# Double-check that the rows between the features and the labels match up\n",
    "np.testing.assert_array_equal(features_df.index.values, labels_df.index.values)"
   ]
  },
  {
   "cell_type": "code",
   "execution_count": 3,
   "metadata": {},
   "outputs": [
    {
     "ename": "NameError",
     "evalue": "name 'features_df' is not defined",
     "output_type": "error",
     "traceback": [
      "\u001b[1;31m---------------------------------------------------------------------------\u001b[0m",
      "\u001b[1;31mNameError\u001b[0m                                 Traceback (most recent call last)",
      "Cell \u001b[1;32mIn[3], line 2\u001b[0m\n\u001b[0;32m      1\u001b[0m \u001b[38;5;66;03m# Merge the df's\u001b[39;00m\n\u001b[1;32m----> 2\u001b[0m merged_df \u001b[38;5;241m=\u001b[39m pd\u001b[38;5;241m.\u001b[39mconcat([\u001b[43mfeatures_df\u001b[49m, labels_df], axis\u001b[38;5;241m=\u001b[39m\u001b[38;5;241m1\u001b[39m)\n\u001b[0;32m      3\u001b[0m merged_df\u001b[38;5;241m.\u001b[39mhead()\n",
      "\u001b[1;31mNameError\u001b[0m: name 'features_df' is not defined"
     ]
    }
   ],
   "source": [
    "# Merge the df's\n",
    "merged_df = pd.concat([features_df, labels_df], axis=1)\n",
    "merged_df.head()"
   ]
  },
  {
   "cell_type": "code",
   "execution_count": 4,
   "metadata": {},
   "outputs": [
    {
     "ename": "NameError",
     "evalue": "name 'merged_df' is not defined",
     "output_type": "error",
     "traceback": [
      "\u001b[1;31m---------------------------------------------------------------------------\u001b[0m",
      "\u001b[1;31mNameError\u001b[0m                                 Traceback (most recent call last)",
      "Cell \u001b[1;32mIn[4], line 2\u001b[0m\n\u001b[0;32m      1\u001b[0m \u001b[38;5;66;03m# Check the metadata of the data\u001b[39;00m\n\u001b[1;32m----> 2\u001b[0m \u001b[43mmerged_df\u001b[49m\u001b[38;5;241m.\u001b[39minfo()\n",
      "\u001b[1;31mNameError\u001b[0m: name 'merged_df' is not defined"
     ]
    }
   ],
   "source": [
    "# Check the metadata of the data\n",
    "merged_df.info()"
   ]
  },
  {
   "cell_type": "markdown",
   "metadata": {},
   "source": [
    "# Data Cleaning and Preparation"
   ]
  },
  {
   "cell_type": "code",
   "execution_count": 5,
   "metadata": {},
   "outputs": [
    {
     "ename": "NameError",
     "evalue": "name 'merged_df' is not defined",
     "output_type": "error",
     "traceback": [
      "\u001b[1;31m---------------------------------------------------------------------------\u001b[0m",
      "\u001b[1;31mNameError\u001b[0m                                 Traceback (most recent call last)",
      "Cell \u001b[1;32mIn[5], line 2\u001b[0m\n\u001b[0;32m      1\u001b[0m \u001b[38;5;66;03m# check for null values percentages\u001b[39;00m\n\u001b[1;32m----> 2\u001b[0m \u001b[43mmerged_df\u001b[49m\u001b[38;5;241m.\u001b[39misna()\u001b[38;5;241m.\u001b[39mmean() \u001b[38;5;241m*\u001b[39m \u001b[38;5;241m100\u001b[39m\n",
      "\u001b[1;31mNameError\u001b[0m: name 'merged_df' is not defined"
     ]
    }
   ],
   "source": [
    "# check for null values percentages\n",
    "merged_df.isna().mean() * 100"
   ]
  },
  {
   "cell_type": "markdown",
   "metadata": {},
   "source": [
    "- We will use 30% as the threshold for null frequency in the columns to decide whether to consider the column for analysis or not.\n",
    "\n",
    "- Sometimes columns with greater null percentage have more semantic meaning and thus they cannot be ignored.\n",
    "\n",
    "- Here we can see `health_insurance`, `employment_industry` and `employment_occupation` columns with approximately **46%, 50% and 50%** missing values percentages respectively, and thus they cannot be used for analysis as nearly half of the data is missing in those columns."
   ]
  },
  {
   "cell_type": "code",
   "execution_count": 6,
   "metadata": {},
   "outputs": [
    {
     "ename": "NameError",
     "evalue": "name 'merged_df' is not defined",
     "output_type": "error",
     "traceback": [
      "\u001b[1;31m---------------------------------------------------------------------------\u001b[0m",
      "\u001b[1;31mNameError\u001b[0m                                 Traceback (most recent call last)",
      "Cell \u001b[1;32mIn[6], line 2\u001b[0m\n\u001b[0;32m      1\u001b[0m \u001b[38;5;66;03m# Drop columns with high missing values percentages\u001b[39;00m\n\u001b[1;32m----> 2\u001b[0m \u001b[43mmerged_df\u001b[49m\u001b[38;5;241m.\u001b[39mdrop(columns\u001b[38;5;241m=\u001b[39m[\u001b[38;5;124m'\u001b[39m\u001b[38;5;124mhealth_insurance\u001b[39m\u001b[38;5;124m'\u001b[39m, \u001b[38;5;124m'\u001b[39m\u001b[38;5;124memployment_industry\u001b[39m\u001b[38;5;124m'\u001b[39m, \n\u001b[0;32m      3\u001b[0m                         \u001b[38;5;124m'\u001b[39m\u001b[38;5;124memployment_occupation\u001b[39m\u001b[38;5;124m'\u001b[39m, \u001b[38;5;124m'\u001b[39m\u001b[38;5;124mage\u001b[39m\u001b[38;5;124m'\u001b[39m], inplace\u001b[38;5;241m=\u001b[39m\u001b[38;5;28;01mTrue\u001b[39;00m)\n",
      "\u001b[1;31mNameError\u001b[0m: name 'merged_df' is not defined"
     ]
    }
   ],
   "source": [
    "# Drop columns with high missing values percentages\n",
    "merged_df.drop(columns=['health_insurance', 'employment_industry', \n",
    "                        'employment_occupation', 'age'], inplace=True)"
   ]
  },
  {
   "cell_type": "code",
   "execution_count": 7,
   "metadata": {},
   "outputs": [
    {
     "ename": "NameError",
     "evalue": "name 'merged_df' is not defined",
     "output_type": "error",
     "traceback": [
      "\u001b[1;31m---------------------------------------------------------------------------\u001b[0m",
      "\u001b[1;31mNameError\u001b[0m                                 Traceback (most recent call last)",
      "Cell \u001b[1;32mIn[7], line 4\u001b[0m\n\u001b[0;32m      1\u001b[0m \u001b[38;5;66;03m# For categorigal data, impute missing with mode\u001b[39;00m\n\u001b[0;32m      2\u001b[0m \u001b[38;5;28;01mfor\u001b[39;00m column \u001b[38;5;129;01min\u001b[39;00m [\u001b[38;5;124m'\u001b[39m\u001b[38;5;124mage_group\u001b[39m\u001b[38;5;124m'\u001b[39m,\u001b[38;5;124m'\u001b[39m\u001b[38;5;124meducation\u001b[39m\u001b[38;5;124m'\u001b[39m,\u001b[38;5;124m'\u001b[39m\u001b[38;5;124mrace\u001b[39m\u001b[38;5;124m'\u001b[39m,\u001b[38;5;124m'\u001b[39m\u001b[38;5;124msex\u001b[39m\u001b[38;5;124m'\u001b[39m,\u001b[38;5;124m'\u001b[39m\u001b[38;5;124mincome_poverty\u001b[39m\u001b[38;5;124m'\u001b[39m,\u001b[38;5;124m'\u001b[39m\u001b[38;5;124mmarital_status\u001b[39m\u001b[38;5;124m'\u001b[39m,\n\u001b[0;32m      3\u001b[0m                \u001b[38;5;124m'\u001b[39m\u001b[38;5;124mrent_or_own\u001b[39m\u001b[38;5;124m'\u001b[39m,\u001b[38;5;124m'\u001b[39m\u001b[38;5;124memployment_status\u001b[39m\u001b[38;5;124m'\u001b[39m,\u001b[38;5;124m'\u001b[39m\u001b[38;5;124mhhs_geo_region\u001b[39m\u001b[38;5;124m'\u001b[39m,\u001b[38;5;124m'\u001b[39m\u001b[38;5;124mcensus_msa\u001b[39m\u001b[38;5;124m'\u001b[39m]:\n\u001b[1;32m----> 4\u001b[0m     \u001b[43mmerged_df\u001b[49m[column]\u001b[38;5;241m.\u001b[39mfillna(merged_df[column]\u001b[38;5;241m.\u001b[39mmode()[\u001b[38;5;241m0\u001b[39m], inplace\u001b[38;5;241m=\u001b[39m\u001b[38;5;28;01mTrue\u001b[39;00m)\n",
      "\u001b[1;31mNameError\u001b[0m: name 'merged_df' is not defined"
     ]
    }
   ],
   "source": [
    "# For categorigal data, impute missing with mode\n",
    "for column in ['age_group','education','race','sex','income_poverty','marital_status',\n",
    "               'rent_or_own','employment_status','hhs_geo_region','census_msa']:\n",
    "    merged_df[column].fillna(merged_df[column].mode()[0], inplace=True)"
   ]
  },
  {
   "cell_type": "code",
   "execution_count": 34,
   "metadata": {},
   "outputs": [],
   "source": [
    "# For numeric data, impute with median\n",
    "impute=['h1n1_concern','h1n1_knowledge','behavioral_antiviral_meds','behavioral_avoidance',\n",
    "        'behavioral_face_mask','behavioral_wash_hands','behavioral_large_gatherings',\n",
    "        'behavioral_outside_home','behavioral_touch_face','doctor_recc_h1n1'\n",
    "        ,'doctor_recc_seasonal','chronic_med_condition','child_under_6_months','health_worker',\n",
    "        'opinion_h1n1_vacc_effective'\n",
    "        ,'opinion_h1n1_risk','opinion_h1n1_sick_from_vacc','opinion_seas_vacc_effective',\n",
    "        'opinion_seas_risk','opinion_seas_sick_from_vacc',\n",
    "        'household_adults','household_children','h1n1_vaccine','seasonal_vaccine']\n",
    "\n",
    "for i in impute:\n",
    "    merged_df[i].fillna(merged_df[i].median(),inplace=True)"
   ]
  },
  {
   "cell_type": "code",
   "execution_count": 24,
   "metadata": {},
   "outputs": [
    {
     "data": {
      "text/plain": [
       "0"
      ]
     },
     "execution_count": 24,
     "metadata": {},
     "output_type": "execute_result"
    }
   ],
   "source": [
    "# Check for duplicates\n",
    "merged_df.duplicated().sum()"
   ]
  },
  {
   "cell_type": "markdown",
   "metadata": {},
   "source": [
    "#### Check for Class Imbalance"
   ]
  },
  {
   "cell_type": "code",
   "execution_count": 13,
   "metadata": {},
   "outputs": [
    {
     "data": {
      "text/plain": [
       "0    21033\n",
       "1     5674\n",
       "Name: h1n1_vaccine, dtype: int64"
      ]
     },
     "execution_count": 13,
     "metadata": {},
     "output_type": "execute_result"
    }
   ],
   "source": [
    "merged_df['h1n1_vaccine'].value_counts()"
   ]
  },
  {
   "cell_type": "markdown",
   "metadata": {},
   "source": [
    "There is presence of class imbalance in the `h1n1_vaccine` target variable."
   ]
  },
  {
   "cell_type": "code",
   "execution_count": 14,
   "metadata": {},
   "outputs": [
    {
     "data": {
      "text/plain": [
       "0    14272\n",
       "1    12435\n",
       "Name: seasonal_vaccine, dtype: int64"
      ]
     },
     "execution_count": 14,
     "metadata": {},
     "output_type": "execute_result"
    }
   ],
   "source": [
    "merged_df['seasonal_vaccine'].value_counts()"
   ]
  },
  {
   "cell_type": "markdown",
   "metadata": {},
   "source": [
    "`seasonal_vaccine` looks good in terms of class distribution"
   ]
  },
  {
   "cell_type": "markdown",
   "metadata": {},
   "source": [
    "We are proceeding with modeling the `h1_n1_vaccine` as our target variable. "
   ]
  },
  {
   "cell_type": "markdown",
   "metadata": {},
   "source": [
    "# Exploratory Data Analysis"
   ]
  },
  {
   "cell_type": "code",
   "execution_count": null,
   "metadata": {},
   "outputs": [],
   "source": []
  },
  {
   "cell_type": "markdown",
   "metadata": {},
   "source": [
    "# `MODELING`"
   ]
  },
  {
   "cell_type": "code",
   "execution_count": 36,
   "metadata": {},
   "outputs": [],
   "source": [
    "# merged_df2 = pd.concat([features_df, labels_df], axis=1)"
   ]
  },
  {
   "cell_type": "code",
   "execution_count": 37,
   "metadata": {},
   "outputs": [],
   "source": [
    "# Separating the features and the target\n",
    "X = features_df\n",
    "y = labels_df['h1n1_vaccine']"
   ]
  },
  {
   "cell_type": "code",
   "execution_count": 38,
   "metadata": {},
   "outputs": [
    {
     "name": "stdout",
     "output_type": "stream",
     "text": [
      "(21365, 35) (21365,)\n"
     ]
    }
   ],
   "source": [
    "# Train-test split\n",
    "X_train, X_test, y_train, y_test = train_test_split(X, y, test_size=0.2, random_state=42)\n",
    "\n",
    "print(X_train.shape, y_train.shape)"
   ]
  },
  {
   "cell_type": "code",
   "execution_count": 39,
   "metadata": {},
   "outputs": [
    {
     "data": {
      "text/plain": [
       "0    16821\n",
       "1     4544\n",
       "Name: h1n1_vaccine, dtype: int64"
      ]
     },
     "execution_count": 39,
     "metadata": {},
     "output_type": "execute_result"
    }
   ],
   "source": [
    "y_train.value_counts()"
   ]
  },
  {
   "cell_type": "markdown",
   "metadata": {},
   "source": [
    "## Data Preprocessing\n",
    "\n",
    "\n",
    "#### 1. Train-Test-Split\n",
    "#### 2. Imputing Missing Values\n",
    "#### 3. One Hot Encoding Categorical variables"
   ]
  },
  {
   "cell_type": "code",
   "execution_count": 47,
   "metadata": {},
   "outputs": [],
   "source": [
    "# Perform train-test split\n",
    "X_train, X_test, y_train, y_test = train_test_split(X, y, test_size=0.2, random_state=42)\n",
    "\n",
    "# List of categorical column names to one-hot encode\n",
    "categorical_columns = ['age_group', 'education', 'race', 'sex', 'income_poverty',\n",
    "                       'marital_status', 'rent_or_own', 'employment_status',\n",
    "                       'hhs_geo_region', 'census_msa', 'employment_industry',\n",
    "                       'employment_occupation']\n",
    "\n",
    "# List of numerical column names\n",
    "numerical_columns = ['h1n1_concern', 'h1n1_knowledge', 'behavioral_antiviral_meds',\n",
    "                     'behavioral_avoidance', 'behavioral_face_mask', 'behavioral_wash_hands',\n",
    "                     'behavioral_large_gatherings', 'behavioral_outside_home',\n",
    "                     'behavioral_touch_face', 'doctor_recc_h1n1', 'doctor_recc_seasonal',\n",
    "                     'chronic_med_condition', 'child_under_6_months', 'health_worker',\n",
    "                     'health_insurance', 'opinion_h1n1_vacc_effective', 'opinion_h1n1_risk',\n",
    "                     'opinion_h1n1_sick_from_vacc', 'opinion_seas_vacc_effective',\n",
    "                     'opinion_seas_risk', 'opinion_seas_sick_from_vacc', 'household_adults',\n",
    "                     'household_children']\n",
    "\n",
    "# Impute missing values in numerical columns with median\n",
    "numerical_imputer = SimpleImputer(strategy='median')\n",
    "X_train[numerical_columns] = numerical_imputer.fit_transform(X_train[numerical_columns])\n",
    "X_test[numerical_columns] = numerical_imputer.transform(X_test[numerical_columns])\n",
    "\n",
    "# Impute missing values in categorical columns with most frequent\n",
    "categorical_imputer = SimpleImputer(strategy='most_frequent')\n",
    "X_train[categorical_columns] = categorical_imputer.fit_transform(X_train[categorical_columns])\n",
    "X_test[categorical_columns] = categorical_imputer.transform(X_test[categorical_columns])\n",
    "\n",
    "# Fit the OneHotEncoder on the training data\n",
    "encoder = OneHotEncoder(handle_unknown='ignore')\n",
    "encoder.fit(X_train[categorical_columns])\n",
    "\n",
    "# Transform the categorical columns in the training set\n",
    "X_train_encoded = encoder.transform(X_train[categorical_columns])\n",
    "X_train_encoded_df = pd.DataFrame(X_train_encoded.toarray(), columns=encoder.get_feature_names(categorical_columns))\n",
    "\n",
    "# Transform the categorical columns in the test set\n",
    "X_test_encoded = encoder.transform(X_test[categorical_columns])\n",
    "X_test_encoded_df = pd.DataFrame(X_test_encoded.toarray(), columns=encoder.get_feature_names(categorical_columns))\n",
    "\n",
    "# Display the encoded DataFrames\n",
    "# print(X_train_encoded_df.head())\n",
    "# print(X_test_encoded_df.head())\n"
   ]
  },
  {
   "cell_type": "markdown",
   "metadata": {},
   "source": [
    "Use SMOTE algorithm to **oversample** the minority class which will take care of the class imbalance."
   ]
  },
  {
   "cell_type": "code",
   "execution_count": 48,
   "metadata": {},
   "outputs": [
    {
     "name": "stdout",
     "output_type": "stream",
     "text": [
      "(33642, 82) (33642,)\n"
     ]
    }
   ],
   "source": [
    "# Using SMOTE algorithm to oversample our minority class\n",
    "\n",
    "oversample = SMOTE()\n",
    "\n",
    "X_train_smote, y_train_smote = oversample.fit_resample(X_train_encoded, y_train)\n",
    "\n",
    "print(X_train_smote.shape, y_train_smote.shape)"
   ]
  },
  {
   "cell_type": "code",
   "execution_count": 49,
   "metadata": {},
   "outputs": [
    {
     "data": {
      "text/plain": [
       "1    16821\n",
       "0    16821\n",
       "Name: h1n1_vaccine, dtype: int64"
      ]
     },
     "execution_count": 49,
     "metadata": {},
     "output_type": "execute_result"
    }
   ],
   "source": [
    "# Notice how the minority class has been oversampled\n",
    "\n",
    "y_train_smote.value_counts()"
   ]
  },
  {
   "cell_type": "markdown",
   "metadata": {},
   "source": [
    "# Baseline Model (Logistic Regression)\n",
    "\n",
    "- **Normalize/Standardize** the data for Logistic Regression since by default this algorithm has **regularization** built into it."
   ]
  },
  {
   "cell_type": "code",
   "execution_count": 54,
   "metadata": {},
   "outputs": [
    {
     "data": {
      "text/plain": [
       "LogisticRegression()"
      ]
     },
     "execution_count": 54,
     "metadata": {},
     "output_type": "execute_result"
    }
   ],
   "source": [
    "# Instantiate your model\n",
    "logreg = LogisticRegression()\n",
    "\n",
    "# Scaler object\n",
    "scaler = StandardScaler(with_mean=False)\n",
    "\n",
    "X_train_smote_scaled = scaler.fit_transform(X_train_smote)\n",
    "X_test_scaled = scaler.transform(X_test_encoded)\n",
    "\n",
    "# Fit the model\n",
    "logreg.fit(X_train_smote_scaled, y_train_smote)"
   ]
  },
  {
   "cell_type": "code",
   "execution_count": 64,
   "metadata": {},
   "outputs": [
    {
     "name": "stdout",
     "output_type": "stream",
     "text": [
      "\n",
      "\t   Train \t \t Test\n",
      "Accuracy:  0.548 \t \t 0.586\n",
      "\n",
      "Precision: 0.27 \t \t 0.272\n",
      "\n",
      "Recall:    0.661 \t \t 0.572\n",
      "\n",
      "F1 score:  0.384 \t \t 0.369\n",
      "\n"
     ]
    }
   ],
   "source": [
    "# Predictions (back to using NON-SMOTED data)\n",
    "y_pred_train = logreg.predict(X_train_encoded)\n",
    "y_pred_test = logreg.predict(X_test_scaled)\n",
    "\n",
    "# Evaluations on training data\n",
    "train_acc = round(accuracy_score(y_train, y_pred_train), 3)\n",
    "train_prec = round(precision_score(y_train, y_pred_train), 3)\n",
    "train_rec = round(recall_score(y_train, y_pred_train), 3)\n",
    "train_f1 = round(f1_score(y_train, y_pred_train), 3)\n",
    "\n",
    "# Evaluations on test data\n",
    "test_acc = round(accuracy_score(y_test, y_pred_test), 3)\n",
    "test_prec = round(precision_score(y_test, y_pred_test), 3)\n",
    "test_rec = round(recall_score(y_test, y_pred_test), 3)\n",
    "test_f1 = round(f1_score(y_test, y_pred_test), 3)\n",
    "\n",
    "print(f\"\"\"\n",
    "\\t   Train \\t \\t Test\n",
    "Accuracy:  {train_acc} \\t \\t {test_acc}\n",
    "\n",
    "Precision: {train_prec} \\t \\t {test_prec}\n",
    "\n",
    "Recall:    {train_rec} \\t \\t {test_rec}\n",
    "\n",
    "F1 score:  {train_f1} \\t \\t {test_f1}\n",
    "\"\"\")\n"
   ]
  },
  {
   "cell_type": "code",
   "execution_count": 72,
   "metadata": {},
   "outputs": [
    {
     "name": "stdout",
     "output_type": "stream",
     "text": [
      "Training set:\n",
      "              precision    recall  f1-score   support\n",
      "\n",
      "           0       0.85      0.52      0.64     16821\n",
      "           1       0.27      0.66      0.38      4544\n",
      "\n",
      "    accuracy                           0.55     21365\n",
      "   macro avg       0.56      0.59      0.51     21365\n",
      "weighted avg       0.73      0.55      0.59     21365\n",
      "\n",
      "Test set:\n",
      "              precision    recall  f1-score   support\n",
      "\n",
      "           0       0.84      0.59      0.69      4212\n",
      "           1       0.27      0.57      0.37      1130\n",
      "\n",
      "    accuracy                           0.59      5342\n",
      "   macro avg       0.55      0.58      0.53      5342\n",
      "weighted avg       0.72      0.59      0.62      5342\n",
      "\n"
     ]
    }
   ],
   "source": [
    "# Classification report for both train and test sets\n",
    "print('Training set:')\n",
    "print(classification_report(y_train, y_pred_train))\n",
    "print('Test set:')\n",
    "print(classification_report(y_test, y_pred_test))"
   ]
  },
  {
   "cell_type": "code",
   "execution_count": 65,
   "metadata": {},
   "outputs": [
    {
     "data": {
      "image/png": "[encoded data removed]",
      "text/plain": [
       "<Figure size 720x360 with 4 Axes>"
      ]
     },
     "metadata": {
      "needs_background": "light"
     },
     "output_type": "display_data"
    }
   ],
   "source": [
    "# Confusion matrix for both train and test sets\n",
    "fig, axes = plt.subplots(nrows=1, ncols=2, figsize=(10, 5))  # Create subplots\n",
    "\n",
    "# Plot confusion matrix for the training set\n",
    "ax1 = axes[0]  # Subplot 1\n",
    "plot_confusion_matrix(logreg, X_train_encoded, y_train, ax=ax1)\n",
    "ax1.set_title('Training Set')\n",
    "\n",
    "# Plot confusion matrix for the test set\n",
    "ax2 = axes[1]  # Subplot 2\n",
    "plot_confusion_matrix(logreg, X_test_scaled, y_test, ax=ax2)\n",
    "ax2.set_title('Test Set')\n",
    "\n",
    "plt.tight_layout()  # Adjust the spacing between subplots\n",
    "plt.show()  # Display the plots"
   ]
  },
  {
   "cell_type": "markdown",
   "metadata": {},
   "source": [
    "# Hyperparameter Tuning for the baseline model\n",
    "\n",
    "Here we will use the `GridSearchCV` function to tune the main parameters for Logistic Regression."
   ]
  },
  {
   "cell_type": "code",
   "execution_count": 67,
   "metadata": {},
   "outputs": [
    {
     "name": "stdout",
     "output_type": "stream",
     "text": [
      "Fitting 5 folds for each of 20 candidates, totalling 100 fits\n"
     ]
    },
    {
     "name": "stderr",
     "output_type": "stream",
     "text": [
      "[Parallel(n_jobs=1)]: Using backend SequentialBackend with 1 concurrent workers.\n",
      "[Parallel(n_jobs=1)]: Done 100 out of 100 | elapsed:  2.3min finished\n"
     ]
    },
    {
     "data": {
      "text/plain": [
       "GridSearchCV(cv=5, estimator=LogisticRegression(),\n",
       "             param_grid={'C': [0.001, 0.01, 0.1, 1, 10],\n",
       "                         'penalty': ['l1', 'l2'],\n",
       "                         'solver': ['liblinear', 'saga']},\n",
       "             scoring='f1', verbose=1)"
      ]
     },
     "execution_count": 67,
     "metadata": {},
     "output_type": "execute_result"
    }
   ],
   "source": [
    "# Define the hyperparameters to tune\n",
    "param_grid = {\n",
    "    'penalty': ['l1', 'l2'],\n",
    "    'C': [0.001, 0.01, 0.1, 1, 10],\n",
    "    'solver': ['liblinear', 'saga']\n",
    "}\n",
    "\n",
    "# Instantiate the logistic regression model\n",
    "logreg = LogisticRegression()\n",
    "\n",
    "# Create the GridSearchCV object\n",
    "grid_search = GridSearchCV(logreg, param_grid, cv=5, scoring='f1', verbose=1)\n",
    "\n",
    "# Fit the GridSearchCV object to the training data\n",
    "grid_search.fit(X_train_smote_scaled, y_train_smote)"
   ]
  },
  {
   "cell_type": "code",
   "execution_count": 70,
   "metadata": {},
   "outputs": [
    {
     "name": "stdout",
     "output_type": "stream",
     "text": [
      "Best Hyperparameters: {'C': 0.01, 'penalty': 'l1', 'solver': 'liblinear'}\n",
      "Best F1 Score: 0.6131627233979181\n",
      "Best Estimator: LogisticRegression(C=0.01, penalty='l1', solver='liblinear')\n"
     ]
    }
   ],
   "source": [
    "# Get the best hyperparameters, best score and best estimator\n",
    "best_params = grid_search.best_params_\n",
    "best_score = grid_search.best_score_\n",
    "best_estimator = grid_search.best_estimator_\n",
    "\n",
    "# Print the best hyperparameters, best score and best estimator\n",
    "print(\"Best Hyperparameters:\", best_params)\n",
    "print(\"Best F1 Score:\", best_score)\n",
    "print(\"Best Estimator:\", best_estimator)"
   ]
  },
  {
   "cell_type": "code",
   "execution_count": 73,
   "metadata": {},
   "outputs": [
    {
     "data": {
      "image/png": "[encoded data removed]",
      "text/plain": [
       "<Figure size 432x288 with 2 Axes>"
      ]
     },
     "metadata": {
      "needs_background": "light"
     },
     "output_type": "display_data"
    }
   ],
   "source": [
    "# Instantiate the best estimator with the hyperparameters from grid search\n",
    "best_estimator = LogisticRegression(C=0.01, penalty='l1', solver='liblinear')\n",
    "\n",
    "# Fit the best estimator on the scaled training data\n",
    "best_estimator.fit(X_train_smote_scaled, y_train_smote)\n",
    "\n",
    "# Predictions on the test set using the best estimator\n",
    "y_pred_test = best_estimator.predict(X_test_scaled)\n",
    "\n",
    "# Plotting the confusion matrix\n",
    "plot_confusion_matrix(best_estimator, X_test_scaled, y_test)\n",
    "plt.title('Confusion Matrix - Test Set')\n",
    "plt.show()"
   ]
  },
  {
   "cell_type": "markdown",
   "metadata": {},
   "source": [
    "- Here we will define a function and wrap our whole modeling process in it. This approach allows us to reuse the function for various classifiers by simply passing the appropriate data and `model` object. It also helps to reduce redundancy and makes our code more modular and organized."
   ]
  },
  {
   "cell_type": "code",
   "execution_count": 135,
   "metadata": {},
   "outputs": [],
   "source": [
    "# Wrap the whole modeling process in a defined function\n",
    "\n",
    "def train_and_evaluate_model(X, y, model):\n",
    "    # Perform train-test split\n",
    "    X_train, X_test, y_train, y_test = train_test_split(X, y, test_size=0.2, random_state=42)\n",
    "\n",
    "    # List of categorical column names to one-hot encode\n",
    "    categorical_columns = ['age_group', 'education', 'race', 'sex', 'income_poverty',\n",
    "                           'marital_status', 'rent_or_own', 'employment_status',\n",
    "                           'hhs_geo_region', 'census_msa', 'employment_industry',\n",
    "                           'employment_occupation']\n",
    "\n",
    "    # List of numerical column names\n",
    "    numerical_columns = ['h1n1_concern', 'h1n1_knowledge', 'behavioral_antiviral_meds',\n",
    "                         'behavioral_avoidance', 'behavioral_face_mask', 'behavioral_wash_hands',\n",
    "                         'behavioral_large_gatherings', 'behavioral_outside_home',\n",
    "                         'behavioral_touch_face', 'doctor_recc_h1n1', 'doctor_recc_seasonal',\n",
    "                         'chronic_med_condition', 'child_under_6_months', 'health_worker',\n",
    "                         'health_insurance', 'opinion_h1n1_vacc_effective', 'opinion_h1n1_risk',\n",
    "                         'opinion_h1n1_sick_from_vacc', 'opinion_seas_vacc_effective',\n",
    "                         'opinion_seas_risk', 'opinion_seas_sick_from_vacc', 'household_adults',\n",
    "                         'household_children']\n",
    "\n",
    "    # Impute missing values in numerical columns with median\n",
    "    numerical_imputer = SimpleImputer(strategy='median')\n",
    "    X_train[numerical_columns] = numerical_imputer.fit_transform(X_train[numerical_columns])\n",
    "    X_test[numerical_columns] = numerical_imputer.transform(X_test[numerical_columns])\n",
    "\n",
    "    # Impute missing values in categorical columns with most frequent\n",
    "    categorical_imputer = SimpleImputer(strategy='most_frequent')\n",
    "    X_train[categorical_columns] = categorical_imputer.fit_transform(X_train[categorical_columns])\n",
    "    X_test[categorical_columns] = categorical_imputer.transform(X_test[categorical_columns])\n",
    "\n",
    "    # Fit the OneHotEncoder on the training data\n",
    "    encoder = OneHotEncoder(handle_unknown='ignore')\n",
    "    encoder.fit(X_train[categorical_columns])\n",
    "\n",
    "    # Transform the categorical columns in the training set\n",
    "    X_train_encoded = encoder.transform(X_train[categorical_columns])\n",
    "    X_train_encoded_df = pd.DataFrame(X_train_encoded.toarray(), columns=encoder.get_feature_names(categorical_columns))\n",
    "\n",
    "    # Transform the categorical columns in the test set\n",
    "    X_test_encoded = encoder.transform(X_test[categorical_columns])\n",
    "    X_test_encoded_df = pd.DataFrame(X_test_encoded.toarray(), columns=encoder.get_feature_names(categorical_columns))\n",
    "\n",
    "    # Using SMOTE algorithm to oversample the minority class\n",
    "    oversample = SMOTE()\n",
    "    X_train_smote, y_train_smote = oversample.fit_resample(X_train_encoded, y_train)\n",
    "    \n",
    "    # Normalize/Standardize the data for K-NN\n",
    "    scaler = MaxAbsScaler()\n",
    "    X_train_smote_scaled = scaler.fit_transform(X_train_smote)\n",
    "    X_test_scaled = scaler.transform(X_test_encoded)\n",
    "\n",
    "    # Instantiate your model\n",
    "    model.fit(X_train_smote_scaled, y_train_smote)\n",
    "\n",
    "    # Predictions on the training and test sets\n",
    "    y_pred_train = model.predict(X_train_encoded)\n",
    "    y_pred_test = model.predict(X_test_scaled)\n",
    "\n",
    "    # Evaluation metrics on the training set\n",
    "    train_acc = round(accuracy_score(y_train, y_pred_train), 3)\n",
    "    train_prec = round(precision_score(y_train, y_pred_train), 3)\n",
    "    train_rec = round(recall_score(y_train, y_pred_train), 3)\n",
    "    train_f1 = round(f1_score(y_train, y_pred_train), 3)\n",
    "\n",
    "    # Evaluation metrics on the test set\n",
    "    test_acc = round(accuracy_score(y_test, y_pred_test), 3)\n",
    "    test_prec = round(precision_score(y_test, y_pred_test), 3)\n",
    "    test_rec = round(recall_score(y_test, y_pred_test), 3)\n",
    "    test_f1 = round(f1_score(y_test, y_pred_test), 3)\n",
    "\n",
    "    print(f\"\"\"\n",
    "    \\t   Train \\t \\t Test\n",
    "    Accuracy:  {train_acc} \\t \\t {test_acc}\n",
    "\n",
    "    Precision: {train_prec} \\t \\t {test_prec}\n",
    "\n",
    "    Recall:    {train_rec} \\t \\t {test_rec}\n",
    "\n",
    "    F1 score:  {train_f1} \\t \\t {test_f1}\n",
    "    \"\"\")\n",
    "\n",
    "    # Classification report for both train and test sets\n",
    "    print(\"Classification Report (Training Set):\")\n",
    "    print(classification_report(y_train, y_pred_train))\n",
    "\n",
    "    print(\"Classification Report (Test Set):\")\n",
    "    print(classification_report(y_test, y_pred_test))\n",
    "    \n",
    "    # Confusion matrix for both train and test sets\n",
    "    fig, axes = plt.subplots(nrows=1, ncols=2, figsize=(10, 5))  # Create subplots\n",
    "\n",
    "    # Plot confusion matrix for the training set\n",
    "    ax1 = axes[0]  # Subplot 1\n",
    "    plot_confusion_matrix(model, X_train_encoded, y_train, ax=ax1)\n",
    "    ax1.set_title('Training Set')\n",
    "\n",
    "    # Plot confusion matrix for the test set\n",
    "    ax2 = axes[1]  # Subplot 2\n",
    "    plot_confusion_matrix(model, X_test_scaled, y_test, ax=ax2)\n",
    "    ax2.set_title('Test Set')\n",
    "\n",
    "    plt.tight_layout()  # Adjust the spacing between subplots\n",
    "    plt.show()  # Display the plots"
   ]
  },
  {
   "cell_type": "markdown",
   "metadata": {},
   "source": [
    "# Iteration 1: K-Nearest Neighbors\n",
    "\n",
    "We will also Standardize our data here since this is a **distance-based model**."
   ]
  },
  {
   "cell_type": "code",
   "execution_count": 100,
   "metadata": {},
   "outputs": [
    {
     "name": "stdout",
     "output_type": "stream",
     "text": [
      "\n",
      "    \t   Train \t \t Test\n",
      "    Accuracy:  0.667 \t \t 0.507\n",
      "\n",
      "    Precision: 0.377 \t \t 0.233\n",
      "\n",
      "    Recall:    0.868 \t \t 0.58\n",
      "\n",
      "    F1 score:  0.526 \t \t 0.332\n",
      "    \n",
      "Classification Report (Training Set):\n",
      "              precision    recall  f1-score   support\n",
      "\n",
      "           0       0.95      0.61      0.74     16821\n",
      "           1       0.38      0.87      0.53      4544\n",
      "\n",
      "    accuracy                           0.67     21365\n",
      "   macro avg       0.66      0.74      0.63     21365\n",
      "weighted avg       0.82      0.67      0.70     21365\n",
      "\n",
      "Classification Report (Test Set):\n",
      "              precision    recall  f1-score   support\n",
      "\n",
      "           0       0.81      0.49      0.61      4212\n",
      "           1       0.23      0.58      0.33      1130\n",
      "\n",
      "    accuracy                           0.51      5342\n",
      "   macro avg       0.52      0.53      0.47      5342\n",
      "weighted avg       0.69      0.51      0.55      5342\n",
      "\n"
     ]
    },
    {
     "data": {
      "image/png": "[encoded data removed]",
      "text/plain": [
       "<Figure size 720x360 with 4 Axes>"
      ]
     },
     "metadata": {
      "needs_background": "light"
     },
     "output_type": "display_data"
    }
   ],
   "source": [
    "# Instantiate the K-NN classifier\n",
    "knn = KNeighborsClassifier(n_neighbors=5)\n",
    "\n",
    "# Call the function with the K-NN classifier\n",
    "train_and_evaluate_model(X, y, knn)"
   ]
  },
  {
   "cell_type": "markdown",
   "metadata": {},
   "source": [
    "# Hyperparameter Tuning for our K-NN model"
   ]
  },
  {
   "cell_type": "code",
   "execution_count": 82,
   "metadata": {},
   "outputs": [
    {
     "name": "stdout",
     "output_type": "stream",
     "text": [
      "Fitting 5 folds for each of 16 candidates, totalling 80 fits\n"
     ]
    },
    {
     "name": "stderr",
     "output_type": "stream",
     "text": [
      "[Parallel(n_jobs=1)]: Using backend SequentialBackend with 1 concurrent workers.\n",
      "[Parallel(n_jobs=1)]: Done  80 out of  80 | elapsed: 10.0min finished\n"
     ]
    },
    {
     "data": {
      "text/plain": [
       "GridSearchCV(cv=5, estimator=KNeighborsClassifier(),\n",
       "             param_grid={'n_neighbors': [3, 5, 7, 9], 'p': [1, 2],\n",
       "                         'weights': ['uniform', 'distance']},\n",
       "             scoring='f1', verbose=1)"
      ]
     },
     "execution_count": 82,
     "metadata": {},
     "output_type": "execute_result"
    }
   ],
   "source": [
    "# Define the parameter grid\n",
    "param_grid = {\n",
    "    'n_neighbors': [3, 5, 7, 9],\n",
    "    'weights': ['uniform', 'distance'],\n",
    "    'p': [1, 2]\n",
    "}\n",
    "\n",
    "# Instantiate the K-NN classifier\n",
    "knn = KNeighborsClassifier()\n",
    "\n",
    "# Create GridSearchCV object\n",
    "grid_search = GridSearchCV(knn, param_grid, cv=5, scoring='f1', verbose=1)\n",
    "\n",
    "# Perform grid search\n",
    "grid_search.fit(X_train_smote_scaled, y_train_smote)"
   ]
  },
  {
   "cell_type": "code",
   "execution_count": 84,
   "metadata": {},
   "outputs": [
    {
     "name": "stdout",
     "output_type": "stream",
     "text": [
      "Best Hyperparameters: {'n_neighbors': 5, 'p': 1, 'weights': 'distance'}\n",
      "Best F1 Score: 0.8000217269240621\n",
      "Best Estimator: KNeighborsClassifier(p=1, weights='distance')\n"
     ]
    }
   ],
   "source": [
    "# Get the best hyperparameters, best score and best estimator\n",
    "best_params = grid_search.best_params_\n",
    "best_score = grid_search.best_score_\n",
    "best_estimator = grid_search.best_estimator_\n",
    "\n",
    "# Print the best hyperparameters, best score and best estimator\n",
    "print(\"Best Hyperparameters:\", best_params)\n",
    "print(\"Best F1 Score:\", best_score)\n",
    "print(\"Best Estimator:\", best_estimator)"
   ]
  },
  {
   "cell_type": "code",
   "execution_count": 90,
   "metadata": {},
   "outputs": [
    {
     "name": "stdout",
     "output_type": "stream",
     "text": [
      "\n",
      "    \t   Train \t \t Test\n",
      "    Accuracy:  0.92 \t \t 0.679\n",
      "\n",
      "    Precision: 0.841 \t \t 0.257\n",
      "\n",
      "    Recall:    0.768 \t \t 0.273\n",
      "\n",
      "    F1 score:  0.803 \t \t 0.264\n",
      "    \n",
      "Classification Report (Training Set):\n",
      "              precision    recall  f1-score   support\n",
      "\n",
      "           0       0.94      0.96      0.95     16821\n",
      "           1       0.84      0.77      0.80      4544\n",
      "\n",
      "    accuracy                           0.92     21365\n",
      "   macro avg       0.89      0.86      0.88     21365\n",
      "weighted avg       0.92      0.92      0.92     21365\n",
      "\n",
      "Classification Report (Test Set):\n",
      "              precision    recall  f1-score   support\n",
      "\n",
      "           0       0.80      0.79      0.79      4212\n",
      "           1       0.26      0.27      0.26      1130\n",
      "\n",
      "    accuracy                           0.68      5342\n",
      "   macro avg       0.53      0.53      0.53      5342\n",
      "weighted avg       0.69      0.68      0.68      5342\n",
      "\n"
     ]
    },
    {
     "data": {
      "image/png": "[encoded data removed]",
      "text/plain": [
       "<Figure size 720x360 with 4 Axes>"
      ]
     },
     "metadata": {
      "needs_background": "light"
     },
     "output_type": "display_data"
    }
   ],
   "source": [
    "# Get the best estimator\n",
    "best_knn = grid_search.best_estimator_\n",
    "\n",
    "# Train and evaluate the model with the best hyperparameters\n",
    "train_and_evaluate_model(X, y, best_knn)"
   ]
  },
  {
   "cell_type": "markdown",
   "metadata": {},
   "source": [
    "The K-NN model might be **overfitting**. This is because the performance metrics for the training set are good; while for the test set are wanting. "
   ]
  },
  {
   "cell_type": "markdown",
   "metadata": {},
   "source": [
    "# Iteration 2: Decision Tree\n",
    "\n",
    "Here we don't need to Standardize our data since this is a **non-parametric model**."
   ]
  },
  {
   "cell_type": "code",
   "execution_count": 123,
   "metadata": {},
   "outputs": [
    {
     "name": "stdout",
     "output_type": "stream",
     "text": [
      "\n",
      "    \t   Train \t \t Test\n",
      "    Accuracy:  0.752 \t \t 0.742\n",
      "\n",
      "    Precision: 0.36 \t \t 0.319\n",
      "\n",
      "    Recall:    0.216 \t \t 0.192\n",
      "\n",
      "    F1 score:  0.27 \t \t 0.24\n",
      "    \n",
      "Classification Report (Training Set):\n",
      "              precision    recall  f1-score   support\n",
      "\n",
      "           0       0.81      0.90      0.85     16821\n",
      "           1       0.36      0.22      0.27      4544\n",
      "\n",
      "    accuracy                           0.75     21365\n",
      "   macro avg       0.58      0.56      0.56     21365\n",
      "weighted avg       0.71      0.75      0.73     21365\n",
      "\n",
      "Classification Report (Test Set):\n",
      "              precision    recall  f1-score   support\n",
      "\n",
      "           0       0.80      0.89      0.84      4212\n",
      "           1       0.32      0.19      0.24      1130\n",
      "\n",
      "    accuracy                           0.74      5342\n",
      "   macro avg       0.56      0.54      0.54      5342\n",
      "weighted avg       0.70      0.74      0.72      5342\n",
      "\n"
     ]
    },
    {
     "data": {
      "image/png": "[encoded data removed]",
      "text/plain": [
       "<Figure size 720x360 with 4 Axes>"
      ]
     },
     "metadata": {
      "needs_background": "light"
     },
     "output_type": "display_data"
    },
    {
     "name": "stdout",
     "output_type": "stream",
     "text": [
      "h1n1_concern: 0.00%\n",
      "h1n1_knowledge: 0.00%\n",
      "behavioral_antiviral_meds: 0.00%\n",
      "behavioral_avoidance: 0.26%\n",
      "behavioral_face_mask: 0.41%\n",
      "behavioral_wash_hands: 0.00%\n",
      "behavioral_large_gatherings: 0.00%\n",
      "behavioral_outside_home: 0.00%\n",
      "behavioral_touch_face: 0.00%\n",
      "doctor_recc_h1n1: 0.52%\n",
      "doctor_recc_seasonal: 0.00%\n",
      "chronic_med_condition: 0.00%\n",
      "child_under_6_months: 2.00%\n",
      "health_worker: 0.00%\n",
      "health_insurance: 0.00%\n",
      "opinion_h1n1_vacc_effective: 0.00%\n",
      "opinion_h1n1_risk: 0.00%\n",
      "opinion_h1n1_sick_from_vacc: 0.00%\n",
      "opinion_seas_vacc_effective: 0.22%\n",
      "opinion_seas_risk: 0.00%\n",
      "opinion_seas_sick_from_vacc: 0.19%\n",
      "age_group: 0.00%\n",
      "education: 0.00%\n",
      "race: 0.00%\n",
      "sex: 3.80%\n",
      "income_poverty: 0.32%\n",
      "marital_status: 13.86%\n",
      "rent_or_own: 0.00%\n",
      "employment_status: 0.00%\n",
      "hhs_geo_region: 0.00%\n",
      "census_msa: 0.00%\n",
      "household_adults: 0.00%\n",
      "household_children: 0.00%\n",
      "employment_industry: 0.00%\n",
      "employment_occupation: 0.00%\n"
     ]
    }
   ],
   "source": [
    "# Instantiate the Decision Tree classifier\n",
    "dec_tree = DecisionTreeClassifier(max_depth=5)\n",
    "\n",
    "# Call the function with the Decision Tree classifier\n",
    "train_and_evaluate_model(X, y, dec_tree)\n",
    "\n",
    "# Get the feature importances\n",
    "importances = dec_tree.feature_importances_\n",
    "\n",
    "# # Print the feature importances\n",
    "# for feature, importance in zip(X.columns, importances):\n",
    "#     print(f\"{feature}: {importance}\")\n",
    "    \n",
    "# Calculate total importances\n",
    "total_importance = sum(importances)\n",
    "\n",
    "# Print the feature importances as percentages\n",
    "for feature, importance in zip(X.columns, importances):\n",
    "    importance_percentage = (importance / total_importance) * 100\n",
    "    print(f\"{feature}: {importance_percentage:.2f}%\")"
   ]
  },
  {
   "cell_type": "markdown",
   "metadata": {},
   "source": [
    "# Hyperparameter Tuning for our Decision Tree model"
   ]
  },
  {
   "cell_type": "code",
   "execution_count": 132,
   "metadata": {},
   "outputs": [
    {
     "name": "stdout",
     "output_type": "stream",
     "text": [
      "Fitting 5 folds for each of 72 candidates, totalling 360 fits\n"
     ]
    },
    {
     "name": "stderr",
     "output_type": "stream",
     "text": [
      "[Parallel(n_jobs=1)]: Using backend SequentialBackend with 1 concurrent workers.\n",
      "[Parallel(n_jobs=1)]: Done 360 out of 360 | elapsed:   37.3s finished\n"
     ]
    },
    {
     "data": {
      "text/plain": [
       "GridSearchCV(cv=5, estimator=DecisionTreeClassifier(),\n",
       "             param_grid={'criterion': ['gini', 'entropy'],\n",
       "                         'max_depth': [3, 5, 7, 9],\n",
       "                         'min_samples_leaf': [1, 2, 3],\n",
       "                         'min_samples_split': [2, 4, 6]},\n",
       "             scoring='f1', verbose=1)"
      ]
     },
     "execution_count": 132,
     "metadata": {},
     "output_type": "execute_result"
    }
   ],
   "source": [
    "# Instantiate the Decision Tree classifier\n",
    "dec_tree = DecisionTreeClassifier()\n",
    "\n",
    "# Define the parameter grid\n",
    "param_grid = {\n",
    "    'max_depth': [3, 5, 7, 9],\n",
    "    'criterion': ['gini', 'entropy'],\n",
    "    'min_samples_split': [2, 4, 6],\n",
    "    'min_samples_leaf': [1, 2, 3]\n",
    "}\n",
    "\n",
    "# Create GridSearchCV object\n",
    "grid_search = GridSearchCV(dec_tree, param_grid, cv=5, scoring='f1', \n",
    "                           verbose=1)\n",
    "\n",
    "# Perform grid search\n",
    "grid_search.fit(X_train_smote_scaled, y_train_smote)"
   ]
  },
  {
   "cell_type": "code",
   "execution_count": 133,
   "metadata": {},
   "outputs": [
    {
     "name": "stdout",
     "output_type": "stream",
     "text": [
      "Best Hyperparameters: {'criterion': 'entropy', 'max_depth': 9, 'min_samples_leaf': 1, 'min_samples_split': 2}\n",
      "Best F1 Score: 0.6606896061893144\n",
      "Best Estimator: DecisionTreeClassifier(criterion='entropy', max_depth=9)\n"
     ]
    }
   ],
   "source": [
    "# Get the best hyperparameters, best score and best estimator\n",
    "best_params = grid_search.best_params_\n",
    "best_score = grid_search.best_score_\n",
    "best_estimator = grid_search.best_estimator_\n",
    "\n",
    "# Print the best hyperparameters, best score and best estimator\n",
    "print(\"Best Hyperparameters:\", best_params)\n",
    "print(\"Best F1 Score:\", best_score)\n",
    "print(\"Best Estimator:\", best_estimator)"
   ]
  },
  {
   "cell_type": "code",
   "execution_count": 136,
   "metadata": {},
   "outputs": [
    {
     "name": "stdout",
     "output_type": "stream",
     "text": [
      "\n",
      "    \t   Train \t \t Test\n",
      "    Accuracy:  0.66 \t \t 0.636\n",
      "\n",
      "    Precision: 0.299 \t \t 0.259\n",
      "\n",
      "    Recall:    0.447 \t \t 0.387\n",
      "\n",
      "    F1 score:  0.358 \t \t 0.31\n",
      "    \n",
      "Classification Report (Training Set):\n",
      "              precision    recall  f1-score   support\n",
      "\n",
      "           0       0.83      0.72      0.77     16821\n",
      "           1       0.30      0.45      0.36      4544\n",
      "\n",
      "    accuracy                           0.66     21365\n",
      "   macro avg       0.56      0.58      0.56     21365\n",
      "weighted avg       0.72      0.66      0.68     21365\n",
      "\n",
      "Classification Report (Test Set):\n",
      "              precision    recall  f1-score   support\n",
      "\n",
      "           0       0.81      0.70      0.75      4212\n",
      "           1       0.26      0.39      0.31      1130\n",
      "\n",
      "    accuracy                           0.64      5342\n",
      "   macro avg       0.53      0.54      0.53      5342\n",
      "weighted avg       0.69      0.64      0.66      5342\n",
      "\n"
     ]
    },
    {
     "data": {
      "image/png": "[encoded data removed]",
      "text/plain": [
       "<Figure size 720x360 with 4 Axes>"
      ]
     },
     "metadata": {
      "needs_background": "light"
     },
     "output_type": "display_data"
    }
   ],
   "source": [
    "# Get the best estimator\n",
    "best_dec_Tree = grid_search.best_estimator_\n",
    "\n",
    "# Train and evaluate the model with the best hyperparameters\n",
    "train_and_evaluate_model(X, y, best_dec_Tree)"
   ]
  },
  {
   "cell_type": "code",
   "execution_count": 131,
   "metadata": {},
   "outputs": [
    {
     "ename": "ValueError",
     "evalue": "could not convert string to float: '45 - 54 Years'",
     "output_type": "error",
     "traceback": [
      "\u001b[1;31m---------------------------------------------------------------------------\u001b[0m",
      "\u001b[1;31mValueError\u001b[0m                                Traceback (most recent call last)",
      "\u001b[1;32m<ipython-input-131-72d0fc987079>\u001b[0m in \u001b[0;36m<module>\u001b[1;34m\u001b[0m\n\u001b[0;32m     38\u001b[0m \u001b[1;31m# Oversample the minority class\u001b[0m\u001b[1;33m\u001b[0m\u001b[1;33m\u001b[0m\u001b[1;33m\u001b[0m\u001b[0m\n\u001b[0;32m     39\u001b[0m \u001b[0moversample\u001b[0m \u001b[1;33m=\u001b[0m \u001b[0mSMOTE\u001b[0m\u001b[1;33m(\u001b[0m\u001b[1;33m)\u001b[0m\u001b[1;33m\u001b[0m\u001b[1;33m\u001b[0m\u001b[0m\n\u001b[1;32m---> 40\u001b[1;33m \u001b[0mX_train_oversampled\u001b[0m\u001b[1;33m,\u001b[0m \u001b[0my_train_oversampled\u001b[0m \u001b[1;33m=\u001b[0m \u001b[0moversample\u001b[0m\u001b[1;33m.\u001b[0m\u001b[0mfit_resample\u001b[0m\u001b[1;33m(\u001b[0m\u001b[0mX_train\u001b[0m\u001b[1;33m,\u001b[0m \u001b[0my_train\u001b[0m\u001b[1;33m)\u001b[0m\u001b[1;33m\u001b[0m\u001b[1;33m\u001b[0m\u001b[0m\n\u001b[0m\u001b[0;32m     41\u001b[0m \u001b[1;33m\u001b[0m\u001b[0m\n\u001b[0;32m     42\u001b[0m \u001b[1;31m# Create a pipeline with preprocessing and classifier\u001b[0m\u001b[1;33m\u001b[0m\u001b[1;33m\u001b[0m\u001b[1;33m\u001b[0m\u001b[0m\n",
      "\u001b[1;32m~\\anaconda3\\envs\\learn-env\\lib\\site-packages\\imblearn\\base.py\u001b[0m in \u001b[0;36mfit_resample\u001b[1;34m(self, X, y)\u001b[0m\n\u001b[0;32m     75\u001b[0m         \u001b[0mcheck_classification_targets\u001b[0m\u001b[1;33m(\u001b[0m\u001b[0my\u001b[0m\u001b[1;33m)\u001b[0m\u001b[1;33m\u001b[0m\u001b[1;33m\u001b[0m\u001b[0m\n\u001b[0;32m     76\u001b[0m         \u001b[0marrays_transformer\u001b[0m \u001b[1;33m=\u001b[0m \u001b[0mArraysTransformer\u001b[0m\u001b[1;33m(\u001b[0m\u001b[0mX\u001b[0m\u001b[1;33m,\u001b[0m \u001b[0my\u001b[0m\u001b[1;33m)\u001b[0m\u001b[1;33m\u001b[0m\u001b[1;33m\u001b[0m\u001b[0m\n\u001b[1;32m---> 77\u001b[1;33m         \u001b[0mX\u001b[0m\u001b[1;33m,\u001b[0m \u001b[0my\u001b[0m\u001b[1;33m,\u001b[0m \u001b[0mbinarize_y\u001b[0m \u001b[1;33m=\u001b[0m \u001b[0mself\u001b[0m\u001b[1;33m.\u001b[0m\u001b[0m_check_X_y\u001b[0m\u001b[1;33m(\u001b[0m\u001b[0mX\u001b[0m\u001b[1;33m,\u001b[0m \u001b[0my\u001b[0m\u001b[1;33m)\u001b[0m\u001b[1;33m\u001b[0m\u001b[1;33m\u001b[0m\u001b[0m\n\u001b[0m\u001b[0;32m     78\u001b[0m \u001b[1;33m\u001b[0m\u001b[0m\n\u001b[0;32m     79\u001b[0m         self.sampling_strategy_ = check_sampling_strategy(\n",
      "\u001b[1;32m~\\anaconda3\\envs\\learn-env\\lib\\site-packages\\imblearn\\base.py\u001b[0m in \u001b[0;36m_check_X_y\u001b[1;34m(self, X, y, accept_sparse)\u001b[0m\n\u001b[0;32m    132\u001b[0m             \u001b[0maccept_sparse\u001b[0m \u001b[1;33m=\u001b[0m \u001b[1;33m[\u001b[0m\u001b[1;34m\"csr\"\u001b[0m\u001b[1;33m,\u001b[0m \u001b[1;34m\"csc\"\u001b[0m\u001b[1;33m]\u001b[0m\u001b[1;33m\u001b[0m\u001b[1;33m\u001b[0m\u001b[0m\n\u001b[0;32m    133\u001b[0m         \u001b[0my\u001b[0m\u001b[1;33m,\u001b[0m \u001b[0mbinarize_y\u001b[0m \u001b[1;33m=\u001b[0m \u001b[0mcheck_target_type\u001b[0m\u001b[1;33m(\u001b[0m\u001b[0my\u001b[0m\u001b[1;33m,\u001b[0m \u001b[0mindicate_one_vs_all\u001b[0m\u001b[1;33m=\u001b[0m\u001b[1;32mTrue\u001b[0m\u001b[1;33m)\u001b[0m\u001b[1;33m\u001b[0m\u001b[1;33m\u001b[0m\u001b[0m\n\u001b[1;32m--> 134\u001b[1;33m         X, y = self._validate_data(\n\u001b[0m\u001b[0;32m    135\u001b[0m             \u001b[0mX\u001b[0m\u001b[1;33m,\u001b[0m \u001b[0my\u001b[0m\u001b[1;33m,\u001b[0m \u001b[0mreset\u001b[0m\u001b[1;33m=\u001b[0m\u001b[1;32mTrue\u001b[0m\u001b[1;33m,\u001b[0m \u001b[0maccept_sparse\u001b[0m\u001b[1;33m=\u001b[0m\u001b[0maccept_sparse\u001b[0m\u001b[1;33m\u001b[0m\u001b[1;33m\u001b[0m\u001b[0m\n\u001b[0;32m    136\u001b[0m         )\n",
      "\u001b[1;32m~\\anaconda3\\envs\\learn-env\\lib\\site-packages\\sklearn\\base.py\u001b[0m in \u001b[0;36m_validate_data\u001b[1;34m(self, X, y, reset, validate_separately, **check_params)\u001b[0m\n\u001b[0;32m    430\u001b[0m                 \u001b[0my\u001b[0m \u001b[1;33m=\u001b[0m \u001b[0mcheck_array\u001b[0m\u001b[1;33m(\u001b[0m\u001b[0my\u001b[0m\u001b[1;33m,\u001b[0m \u001b[1;33m**\u001b[0m\u001b[0mcheck_y_params\u001b[0m\u001b[1;33m)\u001b[0m\u001b[1;33m\u001b[0m\u001b[1;33m\u001b[0m\u001b[0m\n\u001b[0;32m    431\u001b[0m             \u001b[1;32melse\u001b[0m\u001b[1;33m:\u001b[0m\u001b[1;33m\u001b[0m\u001b[1;33m\u001b[0m\u001b[0m\n\u001b[1;32m--> 432\u001b[1;33m                 \u001b[0mX\u001b[0m\u001b[1;33m,\u001b[0m \u001b[0my\u001b[0m \u001b[1;33m=\u001b[0m \u001b[0mcheck_X_y\u001b[0m\u001b[1;33m(\u001b[0m\u001b[0mX\u001b[0m\u001b[1;33m,\u001b[0m \u001b[0my\u001b[0m\u001b[1;33m,\u001b[0m \u001b[1;33m**\u001b[0m\u001b[0mcheck_params\u001b[0m\u001b[1;33m)\u001b[0m\u001b[1;33m\u001b[0m\u001b[1;33m\u001b[0m\u001b[0m\n\u001b[0m\u001b[0;32m    433\u001b[0m             \u001b[0mout\u001b[0m \u001b[1;33m=\u001b[0m \u001b[0mX\u001b[0m\u001b[1;33m,\u001b[0m \u001b[0my\u001b[0m\u001b[1;33m\u001b[0m\u001b[1;33m\u001b[0m\u001b[0m\n\u001b[0;32m    434\u001b[0m \u001b[1;33m\u001b[0m\u001b[0m\n",
      "\u001b[1;32m~\\anaconda3\\envs\\learn-env\\lib\\site-packages\\sklearn\\utils\\validation.py\u001b[0m in \u001b[0;36minner_f\u001b[1;34m(*args, **kwargs)\u001b[0m\n\u001b[0;32m     70\u001b[0m                           FutureWarning)\n\u001b[0;32m     71\u001b[0m         \u001b[0mkwargs\u001b[0m\u001b[1;33m.\u001b[0m\u001b[0mupdate\u001b[0m\u001b[1;33m(\u001b[0m\u001b[1;33m{\u001b[0m\u001b[0mk\u001b[0m\u001b[1;33m:\u001b[0m \u001b[0marg\u001b[0m \u001b[1;32mfor\u001b[0m \u001b[0mk\u001b[0m\u001b[1;33m,\u001b[0m \u001b[0marg\u001b[0m \u001b[1;32min\u001b[0m \u001b[0mzip\u001b[0m\u001b[1;33m(\u001b[0m\u001b[0msig\u001b[0m\u001b[1;33m.\u001b[0m\u001b[0mparameters\u001b[0m\u001b[1;33m,\u001b[0m \u001b[0margs\u001b[0m\u001b[1;33m)\u001b[0m\u001b[1;33m}\u001b[0m\u001b[1;33m)\u001b[0m\u001b[1;33m\u001b[0m\u001b[1;33m\u001b[0m\u001b[0m\n\u001b[1;32m---> 72\u001b[1;33m         \u001b[1;32mreturn\u001b[0m \u001b[0mf\u001b[0m\u001b[1;33m(\u001b[0m\u001b[1;33m**\u001b[0m\u001b[0mkwargs\u001b[0m\u001b[1;33m)\u001b[0m\u001b[1;33m\u001b[0m\u001b[1;33m\u001b[0m\u001b[0m\n\u001b[0m\u001b[0;32m     73\u001b[0m     \u001b[1;32mreturn\u001b[0m \u001b[0minner_f\u001b[0m\u001b[1;33m\u001b[0m\u001b[1;33m\u001b[0m\u001b[0m\n\u001b[0;32m     74\u001b[0m \u001b[1;33m\u001b[0m\u001b[0m\n",
      "\u001b[1;32m~\\anaconda3\\envs\\learn-env\\lib\\site-packages\\sklearn\\utils\\validation.py\u001b[0m in \u001b[0;36mcheck_X_y\u001b[1;34m(X, y, accept_sparse, accept_large_sparse, dtype, order, copy, force_all_finite, ensure_2d, allow_nd, multi_output, ensure_min_samples, ensure_min_features, y_numeric, estimator)\u001b[0m\n\u001b[0;32m    793\u001b[0m         \u001b[1;32mraise\u001b[0m \u001b[0mValueError\u001b[0m\u001b[1;33m(\u001b[0m\u001b[1;34m\"y cannot be None\"\u001b[0m\u001b[1;33m)\u001b[0m\u001b[1;33m\u001b[0m\u001b[1;33m\u001b[0m\u001b[0m\n\u001b[0;32m    794\u001b[0m \u001b[1;33m\u001b[0m\u001b[0m\n\u001b[1;32m--> 795\u001b[1;33m     X = check_array(X, accept_sparse=accept_sparse,\n\u001b[0m\u001b[0;32m    796\u001b[0m                     \u001b[0maccept_large_sparse\u001b[0m\u001b[1;33m=\u001b[0m\u001b[0maccept_large_sparse\u001b[0m\u001b[1;33m,\u001b[0m\u001b[1;33m\u001b[0m\u001b[1;33m\u001b[0m\u001b[0m\n\u001b[0;32m    797\u001b[0m                     \u001b[0mdtype\u001b[0m\u001b[1;33m=\u001b[0m\u001b[0mdtype\u001b[0m\u001b[1;33m,\u001b[0m \u001b[0morder\u001b[0m\u001b[1;33m=\u001b[0m\u001b[0morder\u001b[0m\u001b[1;33m,\u001b[0m \u001b[0mcopy\u001b[0m\u001b[1;33m=\u001b[0m\u001b[0mcopy\u001b[0m\u001b[1;33m,\u001b[0m\u001b[1;33m\u001b[0m\u001b[1;33m\u001b[0m\u001b[0m\n",
      "\u001b[1;32m~\\anaconda3\\envs\\learn-env\\lib\\site-packages\\sklearn\\utils\\validation.py\u001b[0m in \u001b[0;36minner_f\u001b[1;34m(*args, **kwargs)\u001b[0m\n\u001b[0;32m     70\u001b[0m                           FutureWarning)\n\u001b[0;32m     71\u001b[0m         \u001b[0mkwargs\u001b[0m\u001b[1;33m.\u001b[0m\u001b[0mupdate\u001b[0m\u001b[1;33m(\u001b[0m\u001b[1;33m{\u001b[0m\u001b[0mk\u001b[0m\u001b[1;33m:\u001b[0m \u001b[0marg\u001b[0m \u001b[1;32mfor\u001b[0m \u001b[0mk\u001b[0m\u001b[1;33m,\u001b[0m \u001b[0marg\u001b[0m \u001b[1;32min\u001b[0m \u001b[0mzip\u001b[0m\u001b[1;33m(\u001b[0m\u001b[0msig\u001b[0m\u001b[1;33m.\u001b[0m\u001b[0mparameters\u001b[0m\u001b[1;33m,\u001b[0m \u001b[0margs\u001b[0m\u001b[1;33m)\u001b[0m\u001b[1;33m}\u001b[0m\u001b[1;33m)\u001b[0m\u001b[1;33m\u001b[0m\u001b[1;33m\u001b[0m\u001b[0m\n\u001b[1;32m---> 72\u001b[1;33m         \u001b[1;32mreturn\u001b[0m \u001b[0mf\u001b[0m\u001b[1;33m(\u001b[0m\u001b[1;33m**\u001b[0m\u001b[0mkwargs\u001b[0m\u001b[1;33m)\u001b[0m\u001b[1;33m\u001b[0m\u001b[1;33m\u001b[0m\u001b[0m\n\u001b[0m\u001b[0;32m     73\u001b[0m     \u001b[1;32mreturn\u001b[0m \u001b[0minner_f\u001b[0m\u001b[1;33m\u001b[0m\u001b[1;33m\u001b[0m\u001b[0m\n\u001b[0;32m     74\u001b[0m \u001b[1;33m\u001b[0m\u001b[0m\n",
      "\u001b[1;32m~\\anaconda3\\envs\\learn-env\\lib\\site-packages\\sklearn\\utils\\validation.py\u001b[0m in \u001b[0;36mcheck_array\u001b[1;34m(array, accept_sparse, accept_large_sparse, dtype, order, copy, force_all_finite, ensure_2d, allow_nd, ensure_min_samples, ensure_min_features, estimator)\u001b[0m\n\u001b[0;32m    596\u001b[0m                     \u001b[0marray\u001b[0m \u001b[1;33m=\u001b[0m \u001b[0marray\u001b[0m\u001b[1;33m.\u001b[0m\u001b[0mastype\u001b[0m\u001b[1;33m(\u001b[0m\u001b[0mdtype\u001b[0m\u001b[1;33m,\u001b[0m \u001b[0mcasting\u001b[0m\u001b[1;33m=\u001b[0m\u001b[1;34m\"unsafe\"\u001b[0m\u001b[1;33m,\u001b[0m \u001b[0mcopy\u001b[0m\u001b[1;33m=\u001b[0m\u001b[1;32mFalse\u001b[0m\u001b[1;33m)\u001b[0m\u001b[1;33m\u001b[0m\u001b[1;33m\u001b[0m\u001b[0m\n\u001b[0;32m    597\u001b[0m                 \u001b[1;32melse\u001b[0m\u001b[1;33m:\u001b[0m\u001b[1;33m\u001b[0m\u001b[1;33m\u001b[0m\u001b[0m\n\u001b[1;32m--> 598\u001b[1;33m                     \u001b[0marray\u001b[0m \u001b[1;33m=\u001b[0m \u001b[0mnp\u001b[0m\u001b[1;33m.\u001b[0m\u001b[0masarray\u001b[0m\u001b[1;33m(\u001b[0m\u001b[0marray\u001b[0m\u001b[1;33m,\u001b[0m \u001b[0morder\u001b[0m\u001b[1;33m=\u001b[0m\u001b[0morder\u001b[0m\u001b[1;33m,\u001b[0m \u001b[0mdtype\u001b[0m\u001b[1;33m=\u001b[0m\u001b[0mdtype\u001b[0m\u001b[1;33m)\u001b[0m\u001b[1;33m\u001b[0m\u001b[1;33m\u001b[0m\u001b[0m\n\u001b[0m\u001b[0;32m    599\u001b[0m             \u001b[1;32mexcept\u001b[0m \u001b[0mComplexWarning\u001b[0m\u001b[1;33m:\u001b[0m\u001b[1;33m\u001b[0m\u001b[1;33m\u001b[0m\u001b[0m\n\u001b[0;32m    600\u001b[0m                 raise ValueError(\"Complex data not supported\\n\"\n",
      "\u001b[1;32m~\\anaconda3\\envs\\learn-env\\lib\\site-packages\\numpy\\core\\_asarray.py\u001b[0m in \u001b[0;36masarray\u001b[1;34m(a, dtype, order)\u001b[0m\n\u001b[0;32m     83\u001b[0m \u001b[1;33m\u001b[0m\u001b[0m\n\u001b[0;32m     84\u001b[0m     \"\"\"\n\u001b[1;32m---> 85\u001b[1;33m     \u001b[1;32mreturn\u001b[0m \u001b[0marray\u001b[0m\u001b[1;33m(\u001b[0m\u001b[0ma\u001b[0m\u001b[1;33m,\u001b[0m \u001b[0mdtype\u001b[0m\u001b[1;33m,\u001b[0m \u001b[0mcopy\u001b[0m\u001b[1;33m=\u001b[0m\u001b[1;32mFalse\u001b[0m\u001b[1;33m,\u001b[0m \u001b[0morder\u001b[0m\u001b[1;33m=\u001b[0m\u001b[0morder\u001b[0m\u001b[1;33m)\u001b[0m\u001b[1;33m\u001b[0m\u001b[1;33m\u001b[0m\u001b[0m\n\u001b[0m\u001b[0;32m     86\u001b[0m \u001b[1;33m\u001b[0m\u001b[0m\n\u001b[0;32m     87\u001b[0m \u001b[1;33m\u001b[0m\u001b[0m\n",
      "\u001b[1;32m~\\anaconda3\\envs\\learn-env\\lib\\site-packages\\pandas\\core\\generic.py\u001b[0m in \u001b[0;36m__array__\u001b[1;34m(self, dtype)\u001b[0m\n\u001b[0;32m   1779\u001b[0m \u001b[1;33m\u001b[0m\u001b[0m\n\u001b[0;32m   1780\u001b[0m     \u001b[1;32mdef\u001b[0m \u001b[0m__array__\u001b[0m\u001b[1;33m(\u001b[0m\u001b[0mself\u001b[0m\u001b[1;33m,\u001b[0m \u001b[0mdtype\u001b[0m\u001b[1;33m=\u001b[0m\u001b[1;32mNone\u001b[0m\u001b[1;33m)\u001b[0m \u001b[1;33m->\u001b[0m \u001b[0mnp\u001b[0m\u001b[1;33m.\u001b[0m\u001b[0mndarray\u001b[0m\u001b[1;33m:\u001b[0m\u001b[1;33m\u001b[0m\u001b[1;33m\u001b[0m\u001b[0m\n\u001b[1;32m-> 1781\u001b[1;33m         \u001b[1;32mreturn\u001b[0m \u001b[0mnp\u001b[0m\u001b[1;33m.\u001b[0m\u001b[0masarray\u001b[0m\u001b[1;33m(\u001b[0m\u001b[0mself\u001b[0m\u001b[1;33m.\u001b[0m\u001b[0m_values\u001b[0m\u001b[1;33m,\u001b[0m \u001b[0mdtype\u001b[0m\u001b[1;33m=\u001b[0m\u001b[0mdtype\u001b[0m\u001b[1;33m)\u001b[0m\u001b[1;33m\u001b[0m\u001b[1;33m\u001b[0m\u001b[0m\n\u001b[0m\u001b[0;32m   1782\u001b[0m \u001b[1;33m\u001b[0m\u001b[0m\n\u001b[0;32m   1783\u001b[0m     \u001b[1;32mdef\u001b[0m \u001b[0m__array_wrap__\u001b[0m\u001b[1;33m(\u001b[0m\u001b[0mself\u001b[0m\u001b[1;33m,\u001b[0m \u001b[0mresult\u001b[0m\u001b[1;33m,\u001b[0m \u001b[0mcontext\u001b[0m\u001b[1;33m=\u001b[0m\u001b[1;32mNone\u001b[0m\u001b[1;33m)\u001b[0m\u001b[1;33m:\u001b[0m\u001b[1;33m\u001b[0m\u001b[1;33m\u001b[0m\u001b[0m\n",
      "\u001b[1;32m~\\anaconda3\\envs\\learn-env\\lib\\site-packages\\numpy\\core\\_asarray.py\u001b[0m in \u001b[0;36masarray\u001b[1;34m(a, dtype, order)\u001b[0m\n\u001b[0;32m     83\u001b[0m \u001b[1;33m\u001b[0m\u001b[0m\n\u001b[0;32m     84\u001b[0m     \"\"\"\n\u001b[1;32m---> 85\u001b[1;33m     \u001b[1;32mreturn\u001b[0m \u001b[0marray\u001b[0m\u001b[1;33m(\u001b[0m\u001b[0ma\u001b[0m\u001b[1;33m,\u001b[0m \u001b[0mdtype\u001b[0m\u001b[1;33m,\u001b[0m \u001b[0mcopy\u001b[0m\u001b[1;33m=\u001b[0m\u001b[1;32mFalse\u001b[0m\u001b[1;33m,\u001b[0m \u001b[0morder\u001b[0m\u001b[1;33m=\u001b[0m\u001b[0morder\u001b[0m\u001b[1;33m)\u001b[0m\u001b[1;33m\u001b[0m\u001b[1;33m\u001b[0m\u001b[0m\n\u001b[0m\u001b[0;32m     86\u001b[0m \u001b[1;33m\u001b[0m\u001b[0m\n\u001b[0;32m     87\u001b[0m \u001b[1;33m\u001b[0m\u001b[0m\n",
      "\u001b[1;31mValueError\u001b[0m: could not convert string to float: '45 - 54 Years'"
     ]
    }
   ],
   "source": [
    "from sklearn.model_selection import GridSearchCV\n",
    "from sklearn.tree import DecisionTreeClassifier\n",
    "from sklearn.preprocessing import StandardScaler\n",
    "from sklearn.compose import ColumnTransformer\n",
    "from sklearn.pipeline import Pipeline\n",
    "from imblearn.over_sampling import SMOTE\n",
    "from sklearn.model_selection import train_test_split\n",
    "from sklearn.impute import SimpleImputer\n",
    "from sklearn.preprocessing import OneHotEncoder\n",
    "\n",
    "# Define the categorical columns\n",
    "categorical_columns = ['age_group', 'education', 'race', 'sex', 'income_poverty',\n",
    "                       'marital_status', 'rent_or_own', 'employment_status',\n",
    "                       'hhs_geo_region', 'census_msa', 'employment_industry',\n",
    "                       'employment_occupation']\n",
    "\n",
    "# Define the numerical columns\n",
    "numerical_columns = ['h1n1_concern', 'h1n1_knowledge', 'behavioral_antiviral_meds',\n",
    "                     'behavioral_avoidance', 'behavioral_face_mask', 'behavioral_wash_hands',\n",
    "                     'behavioral_large_gatherings', 'behavioral_outside_home',\n",
    "                     'behavioral_touch_face', 'doctor_recc_h1n1', 'doctor_recc_seasonal',\n",
    "                     'chronic_med_condition', 'child_under_6_months', 'health_worker',\n",
    "                     'health_insurance', 'opinion_h1n1_vacc_effective', 'opinion_h1n1_risk',\n",
    "                     'opinion_h1n1_sick_from_vacc', 'opinion_seas_vacc_effective',\n",
    "                     'opinion_seas_risk', 'opinion_seas_sick_from_vacc', 'household_adults',\n",
    "                     'household_children']\n",
    "\n",
    "# Perform train-test split\n",
    "X_train, X_test, y_train, y_test = train_test_split(X, y, test_size=0.2, random_state=42)\n",
    "\n",
    "# Preprocess the data\n",
    "preprocessor = ColumnTransformer([\n",
    "    ('imputer', SimpleImputer(strategy='median'), numerical_columns),\n",
    "    ('encoder', OneHotEncoder(handle_unknown='ignore'), \n",
    "     categorical_columns)\n",
    "])\n",
    "\n",
    "# Oversample the minority class\n",
    "oversample = SMOTE()\n",
    "X_train_oversampled, y_train_oversampled = oversample.fit_resample(X_train, y_train)\n",
    "\n",
    "# Create a pipeline with preprocessing and classifier\n",
    "pipeline = Pipeline([\n",
    "    ('preprocessor', preprocessor),\n",
    "    ('scaler', StandardScaler()),\n",
    "    ('classifier', DecisionTreeClassifier())\n",
    "])\n",
    "\n",
    "# Define the parameter grid\n",
    "param_grid = {\n",
    "    'classifier__max_depth': [3, 5, 7, 9],\n",
    "    'classifier__criterion': ['gini', 'entropy'],\n",
    "    'classifier__min_samples_split': [2, 4, 6],\n",
    "    'classifier__min_samples_leaf': [1, 2, 3]\n",
    "}\n",
    "\n",
    "# Create GridSearchCV object\n",
    "grid_search = GridSearchCV(pipeline, param_grid, cv=5, scoring='f1', verbose=1)\n",
    "\n",
    "# Perform grid search\n",
    "grid_search.fit(X_train_oversampled, y_train_oversampled)\n",
    "\n",
    "# Print the best parameters and best score\n",
    "print(\"Best Parameters: \", grid_search.best_params_)\n",
    "print(\"Best F1 Score: \", grid_search.best_score_)\n"
   ]
  },
  {
   "cell_type": "markdown",
   "metadata": {},
   "source": [
    "# Iteration 3: Random Forest\n",
    "\n",
    "Here we don't need to Standardize our data since this is a **non-parametric model**."
   ]
  },
  {
   "cell_type": "code",
   "execution_count": 116,
   "metadata": {},
   "outputs": [
    {
     "name": "stdout",
     "output_type": "stream",
     "text": [
      "\n",
      "    \t   Train \t \t Test\n",
      "    Accuracy:  0.922 \t \t 0.737\n",
      "\n",
      "    Precision: 0.821 \t \t 0.276\n",
      "\n",
      "    Recall:    0.806 \t \t 0.151\n",
      "\n",
      "    F1 score:  0.814 \t \t 0.196\n",
      "    \n",
      "Classification Report (Training Set):\n",
      "              precision    recall  f1-score   support\n",
      "\n",
      "           0       0.95      0.95      0.95     16821\n",
      "           1       0.82      0.81      0.81      4544\n",
      "\n",
      "    accuracy                           0.92     21365\n",
      "   macro avg       0.88      0.88      0.88     21365\n",
      "weighted avg       0.92      0.92      0.92     21365\n",
      "\n",
      "Classification Report (Test Set):\n",
      "              precision    recall  f1-score   support\n",
      "\n",
      "           0       0.80      0.89      0.84      4212\n",
      "           1       0.28      0.15      0.20      1130\n",
      "\n",
      "    accuracy                           0.74      5342\n",
      "   macro avg       0.54      0.52      0.52      5342\n",
      "weighted avg       0.69      0.74      0.71      5342\n",
      "\n"
     ]
    },
    {
     "data": {
      "image/png": "[encoded data removed]",
      "text/plain": [
       "<Figure size 720x360 with 4 Axes>"
      ]
     },
     "metadata": {
      "needs_background": "light"
     },
     "output_type": "display_data"
    },
    {
     "name": "stdout",
     "output_type": "stream",
     "text": [
      "h1n1_concern: 2.33%\n",
      "h1n1_knowledge: 2.18%\n",
      "behavioral_antiviral_meds: 2.50%\n",
      "behavioral_avoidance: 2.59%\n",
      "behavioral_face_mask: 2.51%\n",
      "behavioral_wash_hands: 2.24%\n",
      "behavioral_large_gatherings: 1.50%\n",
      "behavioral_outside_home: 2.62%\n",
      "behavioral_touch_face: 2.23%\n",
      "doctor_recc_h1n1: 1.27%\n",
      "doctor_recc_seasonal: 1.01%\n",
      "chronic_med_condition: 0.97%\n",
      "child_under_6_months: 2.56%\n",
      "health_worker: 2.43%\n",
      "health_insurance: 2.46%\n",
      "opinion_h1n1_vacc_effective: 2.52%\n",
      "opinion_h1n1_risk: 1.91%\n",
      "opinion_h1n1_sick_from_vacc: 1.10%\n",
      "opinion_seas_vacc_effective: 2.13%\n",
      "opinion_seas_risk: 2.22%\n",
      "opinion_seas_sick_from_vacc: 1.71%\n",
      "age_group: 1.78%\n",
      "education: 1.10%\n",
      "race: 1.32%\n",
      "sex: 0.95%\n",
      "income_poverty: 1.85%\n",
      "marital_status: 2.58%\n",
      "rent_or_own: 1.37%\n",
      "employment_status: 2.55%\n",
      "hhs_geo_region: 2.28%\n",
      "census_msa: 1.85%\n",
      "household_adults: 2.98%\n",
      "household_children: 1.70%\n",
      "employment_industry: 2.02%\n",
      "employment_occupation: 2.38%\n"
     ]
    }
   ],
   "source": [
    "# Instantiate the Decision Tree classifier\n",
    "RF = RandomForestClassifier()\n",
    "\n",
    "# Call the function with the Decision Tree classifier\n",
    "train_and_evaluate_model(X, y, RF)\n",
    "\n",
    "# Get the feature importances\n",
    "importances = RF.feature_importances_\n",
    "\n",
    "# # Print the feature importances\n",
    "# for feature, importance in zip(X.columns, importances):\n",
    "#     print(f\"{feature}: {importance}\")\n",
    "    \n",
    "# Calculate total importances\n",
    "total_importance = sum(importances)\n",
    "\n",
    "# Print the feature importances as percentages\n",
    "for feature, importance in zip(X.columns, importances):\n",
    "    importance_percentage = (importance / total_importance) * 100\n",
    "    print(f\"{feature}: {importance_percentage:.2f}%\")"
   ]
  },
  {
   "cell_type": "code",
   "execution_count": null,
   "metadata": {},
   "outputs": [],
   "source": []
  }
 ],
 "metadata": {
  "kernelspec": {
   "display_name": "Python (learn-env)",
   "language": "python",
   "name": "learn-env"
  },
  "language_info": {
   "codemirror_mode": {
    "name": "ipython",
    "version": 3
   },
   "file_extension": ".py",
   "mimetype": "text/x-python",
   "name": "python",
   "nbconvert_exporter": "python",
   "pygments_lexer": "ipython3",
   "version": "3.10.10"
  }
 },
 "nbformat": 4,
 "nbformat_minor": 4
}
