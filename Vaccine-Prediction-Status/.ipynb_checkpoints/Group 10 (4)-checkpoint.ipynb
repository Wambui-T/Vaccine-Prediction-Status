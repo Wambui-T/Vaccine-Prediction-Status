{
 "cells": [
  {
   "cell_type": "markdown",
   "metadata": {},
   "source": [
    "#### Key points :\n",
    "\n",
    "\n",
    "- Higher number of specific features thus will need proper feature selection scheme\n",
    "\n",
    "- Majority of data is categorical (binary)\n",
    "\n",
    "- Column number 23 to 36 (age group to employment occupation) needs some cleaning and transformation\n",
    "\n",
    "- Labels are provided in separate file\n",
    "\n",
    "- Labels are binary variables, with 1 indicating that a person received the respective flu vaccine and 0 indicating that a person did not receive the respective flu vaccine."
   ]
  },
  {
   "cell_type": "markdown",
   "metadata": {},
   "source": [
    "![Image Description](Downloads\\\\vaccines-gettyimages-1289345741.jpeg)"
   ]
  },
  {
   "cell_type": "markdown",
   "metadata": {},
   "source": [
    "# Title: Flu Shot Learning: Predict H1N1 and Seasonal Flu Vaccines\n",
    "\n",
    "\n",
    "# Overview\n",
    "\n",
    "The goal of this project is to predict how likely individuals are to receive their H1N1 and seasonal flu vaccines. Specifically, we’ll be predicting for the `h1n1_vaccine` target variable.\n",
    "\n",
    "\n",
    "# Business Understanding\n",
    "\n",
    "\n",
    "# Data Understanding\n",
    "\n",
    "\n",
    "# Metric of Success"
   ]
  },
  {
   "cell_type": "code",
   "execution_count": null,
   "metadata": {},
   "outputs": [],
   "source": []
  },
  {
   "cell_type": "markdown",
   "metadata": {},
   "source": [
    "# Metric of Success\n",
    "\n",
    "The choice of the evaluation metric, in this case, the F1 score, depends on the specific requirements and considerations of your project. Here's why the F1 score is commonly used in classification tasks:\n",
    "\n",
    "The F1 score is the harmonic mean of precision and recall, combining both metrics into a single value. It provides a balanced assessment of the model's performance by considering both false positives and false negatives.\n",
    "\n",
    "In many health-related data science projects, imbalanced class distribution is common, where one class may be significantly more prevalent than the other. In such cases, accuracy alone may not be an appropriate metric because a model can achieve high accuracy by simply predicting the majority class. This can be misleading when the focus is on the performance of the minority class.\n",
    "\n",
    "The F1 score takes into account both precision and recall. Precision measures the model's ability to correctly identify positive instances, while recall measures the model's ability to capture all positive instances. By combining precision and recall, the F1 score provides a comprehensive evaluation of the model's performance for both classes.\n",
    "\n",
    "The F1 score is particularly useful when the cost of false positives and false negatives is similar and needs to be balanced. For example, in disease diagnosis, both false positives (misdiagnosing a healthy person as diseased) and false negatives (missing a diseased person) can have serious consequences. In such cases, optimizing the F1 score helps find a trade-off between minimizing both types of errors.\n",
    "\n",
    "However, it's essential to note that the choice of evaluation metric should align with the specific goals and requirements of your project. Depending on your project's context and priorities, other metrics like accuracy, precision, recall, or AUC-ROC may be more appropriate. Consider the relative importance of false positives and false negatives in your project and select the evaluation metric accordingly.\n",
    "\n",
    "It's always a good practice to evaluate multiple metrics and consider the domain-specific implications of the model's predictions to gain a comprehensive understanding of its performance.\n",
    "\n",
    "Correct, when you use oversampling techniques like SMOTE to address class imbalance, accuracy alone may not be a good metric to evaluate the model's performance. Here's why:\n",
    "\n",
    "When you oversample the minority class using SMOTE, you create synthetic examples to balance the class distribution. As a result, the model trained on the oversampled data tends to perform well on the majority class, which may lead to a high accuracy. However, accuracy can be misleading in this scenario because it does not consider the performance on the minority class.\n",
    "\n",
    "Since the objective is usually to improve the model's ability to correctly identify the minority class (positive class), metrics that focus on the minority class become more relevant. Evaluation metrics like precision, recall, and F1 score take into account the true positive rate (sensitivity/recall) and positive predictive value (precision) of the minority class, which provide a more meaningful assessment of the model's performance in such imbalanced scenarios.\n",
    "\n",
    "By using metrics like F1 score, you balance the importance of correctly identifying positive instances (e.g., correctly diagnosing a disease) while also minimizing false positives and false negatives.\n",
    "\n",
    "Therefore, in your case where SMOTE was used to address class imbalance, it's recommended to consider evaluation metrics like precision, recall, and F1 score rather than relying solely on accuracy to assess the model's performance. These metrics will provide a better understanding of how well the model performs on the minority class and help you make more informed decisions."
   ]
  },
  {
   "cell_type": "markdown",
   "metadata": {},
   "source": [
    "# Data Description\n",
    "\n",
    "- h1n1_concern - Level of concern about the H1N1 flu.\n",
    "- h1n1_knowledge - Level of knowledge about H1N1 flu.\n",
    "- behavioral_antiviral_meds - Has taken antiviral medications. (binary)\n",
    "- behavioral_avoidance - Has avoided close contact with others with flu-like symptoms. (binary)\n",
    "- behavioral_face_mask - Has bought a face mask. (binary)\n",
    "- behavioral_wash_hands - Has frequently washed hands or used hand sanitizer. (binary)\n",
    "- behavioral_large_gatherings - Has reduced time at large gatherings. (binary)\n",
    "- behavioral_outside_home - Has reduced contact with people outside of own household. (binary)\n",
    "- behavioral_touch_face - Has avoided touching eyes, nose, or mouth. (binary)\n",
    "- doctor_recc_h1n1 - H1N1 flu vaccine was recommended by doctor. (binary)\n",
    "- doctor_recc_seasonal - Seasonal flu vaccine was recommended by doctor. (binary)\n",
    "- chronic_med_condition - Has any of the following chronic medical conditions: asthma or an other lung condition, diabetes, a heart condition, a kidney condition, sickle cell anemia or other anemia, a neurological or neuromuscular condition, a liver condition, or a weakened immune system caused by a chronic illness or by medicines taken for a chronic illness. (binary)\n",
    "- child_under_6_months - Has regular close contact with a child under the age of six months. (binary)\n",
    "- health_worker - Is a healthcare worker. (binary)\n",
    "- health_insurance - Has health insurance. (binary)\n",
    "- opinion_h1n1_vacc_effective - Respondent's opinion about H1N1 vaccine effectiveness.\n",
    "- opinion_h1n1_risk - Respondent's opinion about risk of getting sick with H1N1 flu without vaccine.\n",
    "- opinion_h1n1_sick_from_vacc - Respondent's worry of getting sick from taking H1N1 vaccine.\n",
    "- opinion_seas_vacc_effective - Respondent's opinion about seasonal flu vaccine effectiveness.\n",
    "- opinion_seas_risk - Respondent's opinion about risk of getting sick with seasonal flu without vaccine.\n",
    "- opinion_seas_sick_from_vacc - Respondent's worry of getting sick from taking seasonal flu vaccine.\n",
    "- age_group - Age group of respondent.\n",
    "- education - Self-reported education level.\n",
    "- race - Race of respondent.\n",
    "- sex - Sex of respondent.\n",
    "- income_poverty - Household annual income of respondent with respect to 2008 Census poverty thresholds.\n",
    "- marital_status - Marital status of respondent.\n",
    "- rent_or_own - Housing situation of respondent.\n",
    "- employment_status - Employment status of respondent.\n",
    "- hhs_geo_region - Respondent's residence using a 10-region geographic classification defined by the U.S. Dept. of Health and Human Services. Values are represented as short random character strings.\n",
    "- census_msa - Respondent's residence within metropolitan statistical areas (MSA) as defined by the U.S. Census.\n",
    "- household_adults - Number of other adults in household, top-coded to 3.\n",
    "- household_children - Number of children in household, top-coded to 3.\n",
    "- employment_industry - Type of industry respondent is employed in. Values are represented as short random character strings.\n",
    "- employment_occupation - Type of occupation of respondent. Values are represented as short random character strings."
   ]
  },
  {
   "cell_type": "markdown",
   "metadata": {},
   "source": [
    "**Import Libraries**"
   ]
  },
  {
   "cell_type": "code",
   "execution_count": 68,
   "metadata": {},
   "outputs": [],
   "source": [
    "import pandas as pd\n",
    "import numpy as np\n",
    "import seaborn as sns\n",
    "import matplotlib.pyplot as plt\n",
    "from sklearn import datasets\n",
    "from sklearn.feature_selection import RFE\n",
    "from sklearn.model_selection import cross_val_score, train_test_split, GridSearchCV\n",
    "from sklearn.preprocessing import StandardScaler, MaxAbsScaler, OneHotEncoder, MinMaxScaler\n",
    "from sklearn.impute import SimpleImputer\n",
    "from sklearn.dummy import DummyClassifier\n",
    "from sklearn.linear_model import LogisticRegression\n",
    "from sklearn.neighbors import KNeighborsClassifier\n",
    "from sklearn.tree import DecisionTreeClassifier\n",
    "from sklearn.ensemble import BaggingClassifier, RandomForestClassifier\n",
    "from sklearn.ensemble import AdaBoostClassifier, GradientBoostingClassifier\n",
    "from xgboost import XGBClassifier\n",
    "from sklearn.naive_bayes import GaussianNB\n",
    "from sklearn.svm import SVC\n",
    "from sklearn.pipeline import Pipeline\n",
    "from sklearn.metrics import classification_report, plot_confusion_matrix\n",
    "from sklearn.metrics import accuracy_score, precision_score, recall_score, f1_score\n",
    "from imblearn.over_sampling import SMOTE\n",
    "from imblearn.under_sampling import TomekLinks\n",
    "import warnings\n",
    "warnings.filterwarnings('ignore')\n",
    "from IPython.display import Image"
   ]
  },
  {
   "cell_type": "markdown",
   "metadata": {},
   "source": [
    "**Load Data**\n",
    "\n",
    "And also get a feel for the data and its characteristics."
   ]
  },
  {
   "cell_type": "code",
   "execution_count": 2,
   "metadata": {},
   "outputs": [],
   "source": [
    "data_path = \"C:\\\\Users\\\\bryso\\\\Downloads\"\n",
    "\n",
    "features_df = pd.read_csv(data_path + \"\\\\training_set_features.csv\", \n",
    "                          index_col=\"respondent_id\")\n",
    "\n",
    "labels_df = pd.read_csv(data_path + \"\\\\training_set_labels.csv\",\n",
    "                       index_col=\"respondent_id\")\n",
    "\n",
    "validation_df = pd.read_csv(data_path + \"\\\\test_set_features.csv\",\n",
    "                       index_col=\"respondent_id\")"
   ]
  },
  {
   "cell_type": "code",
   "execution_count": 3,
   "metadata": {},
   "outputs": [
    {
     "data": {
      "text/html": [
       "<div>\n",
       "<style scoped>\n",
       "    .dataframe tbody tr th:only-of-type {\n",
       "        vertical-align: middle;\n",
       "    }\n",
       "\n",
       "    .dataframe tbody tr th {\n",
       "        vertical-align: top;\n",
       "    }\n",
       "\n",
       "    .dataframe thead th {\n",
       "        text-align: right;\n",
       "    }\n",
       "</style>\n",
       "<table border=\"1\" class=\"dataframe\">\n",
       "  <thead>\n",
       "    <tr style=\"text-align: right;\">\n",
       "      <th></th>\n",
       "      <th>h1n1_concern</th>\n",
       "      <th>h1n1_knowledge</th>\n",
       "      <th>behavioral_antiviral_meds</th>\n",
       "      <th>behavioral_avoidance</th>\n",
       "      <th>behavioral_face_mask</th>\n",
       "      <th>behavioral_wash_hands</th>\n",
       "      <th>behavioral_large_gatherings</th>\n",
       "      <th>behavioral_outside_home</th>\n",
       "      <th>behavioral_touch_face</th>\n",
       "      <th>doctor_recc_h1n1</th>\n",
       "      <th>...</th>\n",
       "      <th>income_poverty</th>\n",
       "      <th>marital_status</th>\n",
       "      <th>rent_or_own</th>\n",
       "      <th>employment_status</th>\n",
       "      <th>hhs_geo_region</th>\n",
       "      <th>census_msa</th>\n",
       "      <th>household_adults</th>\n",
       "      <th>household_children</th>\n",
       "      <th>employment_industry</th>\n",
       "      <th>employment_occupation</th>\n",
       "    </tr>\n",
       "    <tr>\n",
       "      <th>respondent_id</th>\n",
       "      <th></th>\n",
       "      <th></th>\n",
       "      <th></th>\n",
       "      <th></th>\n",
       "      <th></th>\n",
       "      <th></th>\n",
       "      <th></th>\n",
       "      <th></th>\n",
       "      <th></th>\n",
       "      <th></th>\n",
       "      <th></th>\n",
       "      <th></th>\n",
       "      <th></th>\n",
       "      <th></th>\n",
       "      <th></th>\n",
       "      <th></th>\n",
       "      <th></th>\n",
       "      <th></th>\n",
       "      <th></th>\n",
       "      <th></th>\n",
       "      <th></th>\n",
       "    </tr>\n",
       "  </thead>\n",
       "  <tbody>\n",
       "    <tr>\n",
       "      <th>0</th>\n",
       "      <td>1.0</td>\n",
       "      <td>0.0</td>\n",
       "      <td>0.0</td>\n",
       "      <td>0.0</td>\n",
       "      <td>0.0</td>\n",
       "      <td>0.0</td>\n",
       "      <td>0.0</td>\n",
       "      <td>1.0</td>\n",
       "      <td>1.0</td>\n",
       "      <td>0.0</td>\n",
       "      <td>...</td>\n",
       "      <td>Below Poverty</td>\n",
       "      <td>Not Married</td>\n",
       "      <td>Own</td>\n",
       "      <td>Not in Labor Force</td>\n",
       "      <td>oxchjgsf</td>\n",
       "      <td>Non-MSA</td>\n",
       "      <td>0.0</td>\n",
       "      <td>0.0</td>\n",
       "      <td>NaN</td>\n",
       "      <td>NaN</td>\n",
       "    </tr>\n",
       "    <tr>\n",
       "      <th>1</th>\n",
       "      <td>3.0</td>\n",
       "      <td>2.0</td>\n",
       "      <td>0.0</td>\n",
       "      <td>1.0</td>\n",
       "      <td>0.0</td>\n",
       "      <td>1.0</td>\n",
       "      <td>0.0</td>\n",
       "      <td>1.0</td>\n",
       "      <td>1.0</td>\n",
       "      <td>0.0</td>\n",
       "      <td>...</td>\n",
       "      <td>Below Poverty</td>\n",
       "      <td>Not Married</td>\n",
       "      <td>Rent</td>\n",
       "      <td>Employed</td>\n",
       "      <td>bhuqouqj</td>\n",
       "      <td>MSA, Not Principle  City</td>\n",
       "      <td>0.0</td>\n",
       "      <td>0.0</td>\n",
       "      <td>pxcmvdjn</td>\n",
       "      <td>xgwztkwe</td>\n",
       "    </tr>\n",
       "    <tr>\n",
       "      <th>2</th>\n",
       "      <td>1.0</td>\n",
       "      <td>1.0</td>\n",
       "      <td>0.0</td>\n",
       "      <td>1.0</td>\n",
       "      <td>0.0</td>\n",
       "      <td>0.0</td>\n",
       "      <td>0.0</td>\n",
       "      <td>0.0</td>\n",
       "      <td>0.0</td>\n",
       "      <td>NaN</td>\n",
       "      <td>...</td>\n",
       "      <td>&lt;= $75,000, Above Poverty</td>\n",
       "      <td>Not Married</td>\n",
       "      <td>Own</td>\n",
       "      <td>Employed</td>\n",
       "      <td>qufhixun</td>\n",
       "      <td>MSA, Not Principle  City</td>\n",
       "      <td>2.0</td>\n",
       "      <td>0.0</td>\n",
       "      <td>rucpziij</td>\n",
       "      <td>xtkaffoo</td>\n",
       "    </tr>\n",
       "    <tr>\n",
       "      <th>3</th>\n",
       "      <td>1.0</td>\n",
       "      <td>1.0</td>\n",
       "      <td>0.0</td>\n",
       "      <td>1.0</td>\n",
       "      <td>0.0</td>\n",
       "      <td>1.0</td>\n",
       "      <td>1.0</td>\n",
       "      <td>0.0</td>\n",
       "      <td>0.0</td>\n",
       "      <td>0.0</td>\n",
       "      <td>...</td>\n",
       "      <td>Below Poverty</td>\n",
       "      <td>Not Married</td>\n",
       "      <td>Rent</td>\n",
       "      <td>Not in Labor Force</td>\n",
       "      <td>lrircsnp</td>\n",
       "      <td>MSA, Principle City</td>\n",
       "      <td>0.0</td>\n",
       "      <td>0.0</td>\n",
       "      <td>NaN</td>\n",
       "      <td>NaN</td>\n",
       "    </tr>\n",
       "    <tr>\n",
       "      <th>4</th>\n",
       "      <td>2.0</td>\n",
       "      <td>1.0</td>\n",
       "      <td>0.0</td>\n",
       "      <td>1.0</td>\n",
       "      <td>0.0</td>\n",
       "      <td>1.0</td>\n",
       "      <td>1.0</td>\n",
       "      <td>0.0</td>\n",
       "      <td>1.0</td>\n",
       "      <td>0.0</td>\n",
       "      <td>...</td>\n",
       "      <td>&lt;= $75,000, Above Poverty</td>\n",
       "      <td>Married</td>\n",
       "      <td>Own</td>\n",
       "      <td>Employed</td>\n",
       "      <td>qufhixun</td>\n",
       "      <td>MSA, Not Principle  City</td>\n",
       "      <td>1.0</td>\n",
       "      <td>0.0</td>\n",
       "      <td>wxleyezf</td>\n",
       "      <td>emcorrxb</td>\n",
       "    </tr>\n",
       "  </tbody>\n",
       "</table>\n",
       "<p>5 rows × 35 columns</p>\n",
       "</div>"
      ],
      "text/plain": [
       "               h1n1_concern  h1n1_knowledge  behavioral_antiviral_meds  \\\n",
       "respondent_id                                                            \n",
       "0                       1.0             0.0                        0.0   \n",
       "1                       3.0             2.0                        0.0   \n",
       "2                       1.0             1.0                        0.0   \n",
       "3                       1.0             1.0                        0.0   \n",
       "4                       2.0             1.0                        0.0   \n",
       "\n",
       "               behavioral_avoidance  behavioral_face_mask  \\\n",
       "respondent_id                                               \n",
       "0                               0.0                   0.0   \n",
       "1                               1.0                   0.0   \n",
       "2                               1.0                   0.0   \n",
       "3                               1.0                   0.0   \n",
       "4                               1.0                   0.0   \n",
       "\n",
       "               behavioral_wash_hands  behavioral_large_gatherings  \\\n",
       "respondent_id                                                       \n",
       "0                                0.0                          0.0   \n",
       "1                                1.0                          0.0   \n",
       "2                                0.0                          0.0   \n",
       "3                                1.0                          1.0   \n",
       "4                                1.0                          1.0   \n",
       "\n",
       "               behavioral_outside_home  behavioral_touch_face  \\\n",
       "respondent_id                                                   \n",
       "0                                  1.0                    1.0   \n",
       "1                                  1.0                    1.0   \n",
       "2                                  0.0                    0.0   \n",
       "3                                  0.0                    0.0   \n",
       "4                                  0.0                    1.0   \n",
       "\n",
       "               doctor_recc_h1n1  ...             income_poverty  \\\n",
       "respondent_id                    ...                              \n",
       "0                           0.0  ...              Below Poverty   \n",
       "1                           0.0  ...              Below Poverty   \n",
       "2                           NaN  ...  <= $75,000, Above Poverty   \n",
       "3                           0.0  ...              Below Poverty   \n",
       "4                           0.0  ...  <= $75,000, Above Poverty   \n",
       "\n",
       "               marital_status  rent_or_own   employment_status  \\\n",
       "respondent_id                                                    \n",
       "0                 Not Married          Own  Not in Labor Force   \n",
       "1                 Not Married         Rent            Employed   \n",
       "2                 Not Married          Own            Employed   \n",
       "3                 Not Married         Rent  Not in Labor Force   \n",
       "4                     Married          Own            Employed   \n",
       "\n",
       "               hhs_geo_region                census_msa  household_adults  \\\n",
       "respondent_id                                                               \n",
       "0                    oxchjgsf                   Non-MSA               0.0   \n",
       "1                    bhuqouqj  MSA, Not Principle  City               0.0   \n",
       "2                    qufhixun  MSA, Not Principle  City               2.0   \n",
       "3                    lrircsnp       MSA, Principle City               0.0   \n",
       "4                    qufhixun  MSA, Not Principle  City               1.0   \n",
       "\n",
       "               household_children  employment_industry  employment_occupation  \n",
       "respondent_id                                                                  \n",
       "0                             0.0                  NaN                    NaN  \n",
       "1                             0.0             pxcmvdjn               xgwztkwe  \n",
       "2                             0.0             rucpziij               xtkaffoo  \n",
       "3                             0.0                  NaN                    NaN  \n",
       "4                             0.0             wxleyezf               emcorrxb  \n",
       "\n",
       "[5 rows x 35 columns]"
      ]
     },
     "execution_count": 3,
     "metadata": {},
     "output_type": "execute_result"
    }
   ],
   "source": [
    "# Check the first 5 entries\n",
    "features_df.head()"
   ]
  },
  {
   "cell_type": "code",
   "execution_count": 4,
   "metadata": {},
   "outputs": [
    {
     "data": {
      "text/plain": [
       "(26707, 35)"
      ]
     },
     "execution_count": 4,
     "metadata": {},
     "output_type": "execute_result"
    }
   ],
   "source": [
    "# Check the rows and columns\n",
    "features_df.shape"
   ]
  },
  {
   "cell_type": "code",
   "execution_count": 5,
   "metadata": {},
   "outputs": [
    {
     "data": {
      "text/plain": [
       "(26707, 2)"
      ]
     },
     "execution_count": 5,
     "metadata": {},
     "output_type": "execute_result"
    }
   ],
   "source": [
    "labels_df.shape"
   ]
  },
  {
   "cell_type": "code",
   "execution_count": 6,
   "metadata": {},
   "outputs": [
    {
     "data": {
      "text/html": [
       "<div>\n",
       "<style scoped>\n",
       "    .dataframe tbody tr th:only-of-type {\n",
       "        vertical-align: middle;\n",
       "    }\n",
       "\n",
       "    .dataframe tbody tr th {\n",
       "        vertical-align: top;\n",
       "    }\n",
       "\n",
       "    .dataframe thead th {\n",
       "        text-align: right;\n",
       "    }\n",
       "</style>\n",
       "<table border=\"1\" class=\"dataframe\">\n",
       "  <thead>\n",
       "    <tr style=\"text-align: right;\">\n",
       "      <th></th>\n",
       "      <th>h1n1_vaccine</th>\n",
       "      <th>seasonal_vaccine</th>\n",
       "    </tr>\n",
       "    <tr>\n",
       "      <th>respondent_id</th>\n",
       "      <th></th>\n",
       "      <th></th>\n",
       "    </tr>\n",
       "  </thead>\n",
       "  <tbody>\n",
       "    <tr>\n",
       "      <th>0</th>\n",
       "      <td>0</td>\n",
       "      <td>0</td>\n",
       "    </tr>\n",
       "    <tr>\n",
       "      <th>1</th>\n",
       "      <td>0</td>\n",
       "      <td>1</td>\n",
       "    </tr>\n",
       "    <tr>\n",
       "      <th>2</th>\n",
       "      <td>0</td>\n",
       "      <td>0</td>\n",
       "    </tr>\n",
       "    <tr>\n",
       "      <th>3</th>\n",
       "      <td>0</td>\n",
       "      <td>1</td>\n",
       "    </tr>\n",
       "    <tr>\n",
       "      <th>4</th>\n",
       "      <td>0</td>\n",
       "      <td>0</td>\n",
       "    </tr>\n",
       "  </tbody>\n",
       "</table>\n",
       "</div>"
      ],
      "text/plain": [
       "               h1n1_vaccine  seasonal_vaccine\n",
       "respondent_id                                \n",
       "0                         0                 0\n",
       "1                         0                 1\n",
       "2                         0                 0\n",
       "3                         0                 1\n",
       "4                         0                 0"
      ]
     },
     "execution_count": 6,
     "metadata": {},
     "output_type": "execute_result"
    }
   ],
   "source": [
    "labels_df.head()"
   ]
  },
  {
   "cell_type": "code",
   "execution_count": 7,
   "metadata": {},
   "outputs": [],
   "source": [
    "# Double-check that the rows between the features and the labels match up\n",
    "np.testing.assert_array_equal(features_df.index.values, labels_df.index.values)"
   ]
  },
  {
   "cell_type": "code",
   "execution_count": 8,
   "metadata": {},
   "outputs": [
    {
     "data": {
      "text/html": [
       "<div>\n",
       "<style scoped>\n",
       "    .dataframe tbody tr th:only-of-type {\n",
       "        vertical-align: middle;\n",
       "    }\n",
       "\n",
       "    .dataframe tbody tr th {\n",
       "        vertical-align: top;\n",
       "    }\n",
       "\n",
       "    .dataframe thead th {\n",
       "        text-align: right;\n",
       "    }\n",
       "</style>\n",
       "<table border=\"1\" class=\"dataframe\">\n",
       "  <thead>\n",
       "    <tr style=\"text-align: right;\">\n",
       "      <th></th>\n",
       "      <th>h1n1_concern</th>\n",
       "      <th>h1n1_knowledge</th>\n",
       "      <th>behavioral_antiviral_meds</th>\n",
       "      <th>behavioral_avoidance</th>\n",
       "      <th>behavioral_face_mask</th>\n",
       "      <th>behavioral_wash_hands</th>\n",
       "      <th>behavioral_large_gatherings</th>\n",
       "      <th>behavioral_outside_home</th>\n",
       "      <th>behavioral_touch_face</th>\n",
       "      <th>doctor_recc_h1n1</th>\n",
       "      <th>...</th>\n",
       "      <th>rent_or_own</th>\n",
       "      <th>employment_status</th>\n",
       "      <th>hhs_geo_region</th>\n",
       "      <th>census_msa</th>\n",
       "      <th>household_adults</th>\n",
       "      <th>household_children</th>\n",
       "      <th>employment_industry</th>\n",
       "      <th>employment_occupation</th>\n",
       "      <th>h1n1_vaccine</th>\n",
       "      <th>seasonal_vaccine</th>\n",
       "    </tr>\n",
       "    <tr>\n",
       "      <th>respondent_id</th>\n",
       "      <th></th>\n",
       "      <th></th>\n",
       "      <th></th>\n",
       "      <th></th>\n",
       "      <th></th>\n",
       "      <th></th>\n",
       "      <th></th>\n",
       "      <th></th>\n",
       "      <th></th>\n",
       "      <th></th>\n",
       "      <th></th>\n",
       "      <th></th>\n",
       "      <th></th>\n",
       "      <th></th>\n",
       "      <th></th>\n",
       "      <th></th>\n",
       "      <th></th>\n",
       "      <th></th>\n",
       "      <th></th>\n",
       "      <th></th>\n",
       "      <th></th>\n",
       "    </tr>\n",
       "  </thead>\n",
       "  <tbody>\n",
       "    <tr>\n",
       "      <th>0</th>\n",
       "      <td>1.0</td>\n",
       "      <td>0.0</td>\n",
       "      <td>0.0</td>\n",
       "      <td>0.0</td>\n",
       "      <td>0.0</td>\n",
       "      <td>0.0</td>\n",
       "      <td>0.0</td>\n",
       "      <td>1.0</td>\n",
       "      <td>1.0</td>\n",
       "      <td>0.0</td>\n",
       "      <td>...</td>\n",
       "      <td>Own</td>\n",
       "      <td>Not in Labor Force</td>\n",
       "      <td>oxchjgsf</td>\n",
       "      <td>Non-MSA</td>\n",
       "      <td>0.0</td>\n",
       "      <td>0.0</td>\n",
       "      <td>NaN</td>\n",
       "      <td>NaN</td>\n",
       "      <td>0</td>\n",
       "      <td>0</td>\n",
       "    </tr>\n",
       "    <tr>\n",
       "      <th>1</th>\n",
       "      <td>3.0</td>\n",
       "      <td>2.0</td>\n",
       "      <td>0.0</td>\n",
       "      <td>1.0</td>\n",
       "      <td>0.0</td>\n",
       "      <td>1.0</td>\n",
       "      <td>0.0</td>\n",
       "      <td>1.0</td>\n",
       "      <td>1.0</td>\n",
       "      <td>0.0</td>\n",
       "      <td>...</td>\n",
       "      <td>Rent</td>\n",
       "      <td>Employed</td>\n",
       "      <td>bhuqouqj</td>\n",
       "      <td>MSA, Not Principle  City</td>\n",
       "      <td>0.0</td>\n",
       "      <td>0.0</td>\n",
       "      <td>pxcmvdjn</td>\n",
       "      <td>xgwztkwe</td>\n",
       "      <td>0</td>\n",
       "      <td>1</td>\n",
       "    </tr>\n",
       "    <tr>\n",
       "      <th>2</th>\n",
       "      <td>1.0</td>\n",
       "      <td>1.0</td>\n",
       "      <td>0.0</td>\n",
       "      <td>1.0</td>\n",
       "      <td>0.0</td>\n",
       "      <td>0.0</td>\n",
       "      <td>0.0</td>\n",
       "      <td>0.0</td>\n",
       "      <td>0.0</td>\n",
       "      <td>NaN</td>\n",
       "      <td>...</td>\n",
       "      <td>Own</td>\n",
       "      <td>Employed</td>\n",
       "      <td>qufhixun</td>\n",
       "      <td>MSA, Not Principle  City</td>\n",
       "      <td>2.0</td>\n",
       "      <td>0.0</td>\n",
       "      <td>rucpziij</td>\n",
       "      <td>xtkaffoo</td>\n",
       "      <td>0</td>\n",
       "      <td>0</td>\n",
       "    </tr>\n",
       "    <tr>\n",
       "      <th>3</th>\n",
       "      <td>1.0</td>\n",
       "      <td>1.0</td>\n",
       "      <td>0.0</td>\n",
       "      <td>1.0</td>\n",
       "      <td>0.0</td>\n",
       "      <td>1.0</td>\n",
       "      <td>1.0</td>\n",
       "      <td>0.0</td>\n",
       "      <td>0.0</td>\n",
       "      <td>0.0</td>\n",
       "      <td>...</td>\n",
       "      <td>Rent</td>\n",
       "      <td>Not in Labor Force</td>\n",
       "      <td>lrircsnp</td>\n",
       "      <td>MSA, Principle City</td>\n",
       "      <td>0.0</td>\n",
       "      <td>0.0</td>\n",
       "      <td>NaN</td>\n",
       "      <td>NaN</td>\n",
       "      <td>0</td>\n",
       "      <td>1</td>\n",
       "    </tr>\n",
       "    <tr>\n",
       "      <th>4</th>\n",
       "      <td>2.0</td>\n",
       "      <td>1.0</td>\n",
       "      <td>0.0</td>\n",
       "      <td>1.0</td>\n",
       "      <td>0.0</td>\n",
       "      <td>1.0</td>\n",
       "      <td>1.0</td>\n",
       "      <td>0.0</td>\n",
       "      <td>1.0</td>\n",
       "      <td>0.0</td>\n",
       "      <td>...</td>\n",
       "      <td>Own</td>\n",
       "      <td>Employed</td>\n",
       "      <td>qufhixun</td>\n",
       "      <td>MSA, Not Principle  City</td>\n",
       "      <td>1.0</td>\n",
       "      <td>0.0</td>\n",
       "      <td>wxleyezf</td>\n",
       "      <td>emcorrxb</td>\n",
       "      <td>0</td>\n",
       "      <td>0</td>\n",
       "    </tr>\n",
       "  </tbody>\n",
       "</table>\n",
       "<p>5 rows × 37 columns</p>\n",
       "</div>"
      ],
      "text/plain": [
       "               h1n1_concern  h1n1_knowledge  behavioral_antiviral_meds  \\\n",
       "respondent_id                                                            \n",
       "0                       1.0             0.0                        0.0   \n",
       "1                       3.0             2.0                        0.0   \n",
       "2                       1.0             1.0                        0.0   \n",
       "3                       1.0             1.0                        0.0   \n",
       "4                       2.0             1.0                        0.0   \n",
       "\n",
       "               behavioral_avoidance  behavioral_face_mask  \\\n",
       "respondent_id                                               \n",
       "0                               0.0                   0.0   \n",
       "1                               1.0                   0.0   \n",
       "2                               1.0                   0.0   \n",
       "3                               1.0                   0.0   \n",
       "4                               1.0                   0.0   \n",
       "\n",
       "               behavioral_wash_hands  behavioral_large_gatherings  \\\n",
       "respondent_id                                                       \n",
       "0                                0.0                          0.0   \n",
       "1                                1.0                          0.0   \n",
       "2                                0.0                          0.0   \n",
       "3                                1.0                          1.0   \n",
       "4                                1.0                          1.0   \n",
       "\n",
       "               behavioral_outside_home  behavioral_touch_face  \\\n",
       "respondent_id                                                   \n",
       "0                                  1.0                    1.0   \n",
       "1                                  1.0                    1.0   \n",
       "2                                  0.0                    0.0   \n",
       "3                                  0.0                    0.0   \n",
       "4                                  0.0                    1.0   \n",
       "\n",
       "               doctor_recc_h1n1  ...  rent_or_own   employment_status  \\\n",
       "respondent_id                    ...                                    \n",
       "0                           0.0  ...          Own  Not in Labor Force   \n",
       "1                           0.0  ...         Rent            Employed   \n",
       "2                           NaN  ...          Own            Employed   \n",
       "3                           0.0  ...         Rent  Not in Labor Force   \n",
       "4                           0.0  ...          Own            Employed   \n",
       "\n",
       "               hhs_geo_region                census_msa  household_adults  \\\n",
       "respondent_id                                                               \n",
       "0                    oxchjgsf                   Non-MSA               0.0   \n",
       "1                    bhuqouqj  MSA, Not Principle  City               0.0   \n",
       "2                    qufhixun  MSA, Not Principle  City               2.0   \n",
       "3                    lrircsnp       MSA, Principle City               0.0   \n",
       "4                    qufhixun  MSA, Not Principle  City               1.0   \n",
       "\n",
       "               household_children  employment_industry  employment_occupation  \\\n",
       "respondent_id                                                                   \n",
       "0                             0.0                  NaN                    NaN   \n",
       "1                             0.0             pxcmvdjn               xgwztkwe   \n",
       "2                             0.0             rucpziij               xtkaffoo   \n",
       "3                             0.0                  NaN                    NaN   \n",
       "4                             0.0             wxleyezf               emcorrxb   \n",
       "\n",
       "               h1n1_vaccine  seasonal_vaccine  \n",
       "respondent_id                                  \n",
       "0                         0                 0  \n",
       "1                         0                 1  \n",
       "2                         0                 0  \n",
       "3                         0                 1  \n",
       "4                         0                 0  \n",
       "\n",
       "[5 rows x 37 columns]"
      ]
     },
     "execution_count": 8,
     "metadata": {},
     "output_type": "execute_result"
    }
   ],
   "source": [
    "# Merge the df's\n",
    "merged_df = pd.concat([features_df, labels_df], axis=1)\n",
    "merged_df.head()"
   ]
  },
  {
   "cell_type": "code",
   "execution_count": 9,
   "metadata": {},
   "outputs": [
    {
     "name": "stdout",
     "output_type": "stream",
     "text": [
      "<class 'pandas.core.frame.DataFrame'>\n",
      "Int64Index: 26707 entries, 0 to 26706\n",
      "Data columns (total 37 columns):\n",
      " #   Column                       Non-Null Count  Dtype  \n",
      "---  ------                       --------------  -----  \n",
      " 0   h1n1_concern                 26615 non-null  float64\n",
      " 1   h1n1_knowledge               26591 non-null  float64\n",
      " 2   behavioral_antiviral_meds    26636 non-null  float64\n",
      " 3   behavioral_avoidance         26499 non-null  float64\n",
      " 4   behavioral_face_mask         26688 non-null  float64\n",
      " 5   behavioral_wash_hands        26665 non-null  float64\n",
      " 6   behavioral_large_gatherings  26620 non-null  float64\n",
      " 7   behavioral_outside_home      26625 non-null  float64\n",
      " 8   behavioral_touch_face        26579 non-null  float64\n",
      " 9   doctor_recc_h1n1             24547 non-null  float64\n",
      " 10  doctor_recc_seasonal         24547 non-null  float64\n",
      " 11  chronic_med_condition        25736 non-null  float64\n",
      " 12  child_under_6_months         25887 non-null  float64\n",
      " 13  health_worker                25903 non-null  float64\n",
      " 14  health_insurance             14433 non-null  float64\n",
      " 15  opinion_h1n1_vacc_effective  26316 non-null  float64\n",
      " 16  opinion_h1n1_risk            26319 non-null  float64\n",
      " 17  opinion_h1n1_sick_from_vacc  26312 non-null  float64\n",
      " 18  opinion_seas_vacc_effective  26245 non-null  float64\n",
      " 19  opinion_seas_risk            26193 non-null  float64\n",
      " 20  opinion_seas_sick_from_vacc  26170 non-null  float64\n",
      " 21  age_group                    26707 non-null  object \n",
      " 22  education                    25300 non-null  object \n",
      " 23  race                         26707 non-null  object \n",
      " 24  sex                          26707 non-null  object \n",
      " 25  income_poverty               22284 non-null  object \n",
      " 26  marital_status               25299 non-null  object \n",
      " 27  rent_or_own                  24665 non-null  object \n",
      " 28  employment_status            25244 non-null  object \n",
      " 29  hhs_geo_region               26707 non-null  object \n",
      " 30  census_msa                   26707 non-null  object \n",
      " 31  household_adults             26458 non-null  float64\n",
      " 32  household_children           26458 non-null  float64\n",
      " 33  employment_industry          13377 non-null  object \n",
      " 34  employment_occupation        13237 non-null  object \n",
      " 35  h1n1_vaccine                 26707 non-null  int64  \n",
      " 36  seasonal_vaccine             26707 non-null  int64  \n",
      "dtypes: float64(23), int64(2), object(12)\n",
      "memory usage: 7.7+ MB\n"
     ]
    }
   ],
   "source": [
    "# Check the metadata of the data\n",
    "merged_df.info()"
   ]
  },
  {
   "cell_type": "markdown",
   "metadata": {},
   "source": [
    "#### Check for Class Imbalance"
   ]
  },
  {
   "cell_type": "code",
   "execution_count": 11,
   "metadata": {},
   "outputs": [
    {
     "data": {
      "text/plain": [
       "0    21033\n",
       "1     5674\n",
       "Name: h1n1_vaccine, dtype: int64"
      ]
     },
     "execution_count": 11,
     "metadata": {},
     "output_type": "execute_result"
    }
   ],
   "source": [
    "# For the h1n1_vaccine category\n",
    "merged_df['h1n1_vaccine'].value_counts()"
   ]
  },
  {
   "cell_type": "markdown",
   "metadata": {},
   "source": [
    "There is presence of class imbalance in the `h1n1_vaccine` target variable."
   ]
  },
  {
   "cell_type": "code",
   "execution_count": 12,
   "metadata": {},
   "outputs": [
    {
     "data": {
      "text/plain": [
       "0    14272\n",
       "1    12435\n",
       "Name: seasonal_vaccine, dtype: int64"
      ]
     },
     "execution_count": 12,
     "metadata": {},
     "output_type": "execute_result"
    }
   ],
   "source": [
    "# For the seasonal_vaccine category\n",
    "merged_df['seasonal_vaccine'].value_counts()"
   ]
  },
  {
   "cell_type": "markdown",
   "metadata": {},
   "source": [
    "`seasonal_vaccine` looks good in terms of class distribution."
   ]
  },
  {
   "cell_type": "markdown",
   "metadata": {},
   "source": [
    "We will proceed with modeling and analyzing the `h1_n1_vaccine` as our target variable for our minimum viable project. "
   ]
  },
  {
   "cell_type": "markdown",
   "metadata": {},
   "source": [
    "# Data Cleaning and Preparation"
   ]
  },
  {
   "cell_type": "code",
   "execution_count": 13,
   "metadata": {},
   "outputs": [
    {
     "data": {
      "text/plain": [
       "h1n1_concern                    0.344479\n",
       "h1n1_knowledge                  0.434343\n",
       "behavioral_antiviral_meds       0.265848\n",
       "behavioral_avoidance            0.778822\n",
       "behavioral_face_mask            0.071142\n",
       "behavioral_wash_hands           0.157262\n",
       "behavioral_large_gatherings     0.325757\n",
       "behavioral_outside_home         0.307036\n",
       "behavioral_touch_face           0.479275\n",
       "doctor_recc_h1n1                8.087767\n",
       "doctor_recc_seasonal            8.087767\n",
       "chronic_med_condition           3.635751\n",
       "child_under_6_months            3.070356\n",
       "health_worker                   3.010447\n",
       "health_insurance               45.957989\n",
       "opinion_h1n1_vacc_effective     1.464036\n",
       "opinion_h1n1_risk               1.452803\n",
       "opinion_h1n1_sick_from_vacc     1.479013\n",
       "opinion_seas_vacc_effective     1.729884\n",
       "opinion_seas_risk               1.924589\n",
       "opinion_seas_sick_from_vacc     2.010709\n",
       "age_group                       0.000000\n",
       "education                       5.268282\n",
       "race                            0.000000\n",
       "sex                             0.000000\n",
       "income_poverty                 16.561201\n",
       "marital_status                  5.272026\n",
       "rent_or_own                     7.645936\n",
       "employment_status               5.477965\n",
       "hhs_geo_region                  0.000000\n",
       "census_msa                      0.000000\n",
       "household_adults                0.932340\n",
       "household_children              0.932340\n",
       "employment_industry            49.912008\n",
       "employment_occupation          50.436215\n",
       "h1n1_vaccine                    0.000000\n",
       "seasonal_vaccine                0.000000\n",
       "dtype: float64"
      ]
     },
     "execution_count": 13,
     "metadata": {},
     "output_type": "execute_result"
    }
   ],
   "source": [
    "# check for null values percentages\n",
    "merged_df.isna().mean() * 100"
   ]
  },
  {
   "cell_type": "markdown",
   "metadata": {},
   "source": [
    "- We will use 30% as the threshold for null frequency in the columns to decide whether to consider the column for analysis or not.\n",
    "\n",
    "- Sometimes columns with greater null percentage have more semantic meaning and thus they cannot be ignored.\n",
    "\n",
    "- Here we can see `health_insurance`, `employment_industry` and `employment_occupation` columns with approximately **46%, 50% and 50%** missing values percentages respectively, and thus they cannot be used for analysis as nearly half of the data is missing in those columns."
   ]
  },
  {
   "cell_type": "code",
   "execution_count": 14,
   "metadata": {},
   "outputs": [],
   "source": [
    "# Drop columns with high missing values percentages\n",
    "merged_df.drop(columns=['health_insurance', 'employment_industry', \n",
    "                        'employment_occupation'], inplace=True)"
   ]
  },
  {
   "cell_type": "code",
   "execution_count": 15,
   "metadata": {},
   "outputs": [],
   "source": [
    "# For categorigal data, impute missing with mode\n",
    "for column in ['age_group','education','race','sex','income_poverty','marital_status',\n",
    "               'rent_or_own','employment_status','hhs_geo_region','census_msa']:\n",
    "    merged_df[column].fillna(merged_df[column].mode()[0], inplace=True)"
   ]
  },
  {
   "cell_type": "code",
   "execution_count": 16,
   "metadata": {},
   "outputs": [],
   "source": [
    "# For numeric data, impute with median\n",
    "impute=['h1n1_concern','h1n1_knowledge','behavioral_antiviral_meds','behavioral_avoidance',\n",
    "        'behavioral_face_mask','behavioral_wash_hands','behavioral_large_gatherings',\n",
    "        'behavioral_outside_home','behavioral_touch_face','doctor_recc_h1n1'\n",
    "        ,'doctor_recc_seasonal','chronic_med_condition','child_under_6_months','health_worker',\n",
    "        'opinion_h1n1_vacc_effective'\n",
    "        ,'opinion_h1n1_risk','opinion_h1n1_sick_from_vacc','opinion_seas_vacc_effective',\n",
    "        'opinion_seas_risk','opinion_seas_sick_from_vacc',\n",
    "        'household_adults','household_children','h1n1_vaccine','seasonal_vaccine']\n",
    "\n",
    "for i in impute:\n",
    "    merged_df[i].fillna(merged_df[i].median(),inplace=True)"
   ]
  },
  {
   "cell_type": "code",
   "execution_count": 17,
   "metadata": {},
   "outputs": [
    {
     "data": {
      "text/plain": [
       "1"
      ]
     },
     "execution_count": 17,
     "metadata": {},
     "output_type": "execute_result"
    }
   ],
   "source": [
    "# Check for duplicates\n",
    "merged_df.duplicated().sum()"
   ]
  },
  {
   "cell_type": "markdown",
   "metadata": {},
   "source": [
    "- The dataset does not have any duplicates."
   ]
  },
  {
   "cell_type": "markdown",
   "metadata": {},
   "source": [
    "# Exploratory Data Analysis"
   ]
  },
  {
   "cell_type": "markdown",
   "metadata": {},
   "source": [
    "## Univariate Analysis"
   ]
  },
  {
   "cell_type": "code",
   "execution_count": 18,
   "metadata": {},
   "outputs": [
    {
     "data": {
      "image/png": "[encoded data removed]",
      "text/plain": [
       "<Figure size 864x432 with 1 Axes>"
      ]
     },
     "metadata": {
      "needs_background": "light"
     },
     "output_type": "display_data"
    }
   ],
   "source": [
    "# Checking for class distribution\n",
    "fig, ax = plt.subplots(figsize=(12, 6))\n",
    "sns.countplot(x='h1n1_vaccine', data=merged_df, ax=ax, palette=[\"steelblue\", \"salmon\"])\n",
    "\n",
    "ax.set_title('h1n1 vaccination class ratios')\n",
    "ax.set_xlabel('Vaccine Status')\n",
    "ax.set_ylabel('Count')\n",
    "\n",
    "# Add separate legend labels for each class\n",
    "legend_labels = ['Received Vaccine', \"Didn't Receive Vaccine\"]\n",
    "colors = [\"steelblue\", \"salmon\"]\n",
    "legend_handles = [plt.Rectangle((0, 0), 1, 1, color=color) for color in colors]\n",
    "ax.legend(legend_handles, legend_labels, title='Legend')\n",
    "\n",
    "plt.tight_layout()\n",
    "plt.show()"
   ]
  },
  {
   "cell_type": "markdown",
   "metadata": {},
   "source": [
    "## Bivariate Analysis"
   ]
  },
  {
   "cell_type": "markdown",
   "metadata": {},
   "source": [
    "- Relationship between age group and `h1n1_vaccine_uptake`"
   ]
  },
  {
   "cell_type": "code",
   "execution_count": 19,
   "metadata": {},
   "outputs": [
    {
     "data": {
      "image/png": "[encoded data removed]",
      "text/plain": [
       "<Figure size 1440x720 with 1 Axes>"
      ]
     },
     "metadata": {
      "needs_background": "light"
     },
     "output_type": "display_data"
    }
   ],
   "source": [
    "# Relationship between age group and h1n1 vaccine uptake\n",
    "fig, ax = plt.subplots(figsize=(20,10))\n",
    "ax = sns.countplot(x='age_group', hue='h1n1_vaccine', data=merged_df, dodge=False)\n",
    "ax.set_title('Relationship between age group and h1n1 vaccine uptake');"
   ]
  },
  {
   "cell_type": "code",
   "execution_count": 20,
   "metadata": {
    "scrolled": false
   },
   "outputs": [],
   "source": [
    "# # List of columns to plot\n",
    "# columns = ['h1n1_concern', 'h1n1_knowledge', 'behavioral_antiviral_meds', 'behavioral_avoidance',\n",
    "#           'behavioral_face_mask', 'behavioral_wash_hands', 'behavioral_large_gatherings',\n",
    "#           'behavioral_outside_home', 'behavioral_touch_face', 'doctor_recc_h1n1',\n",
    "#           'doctor_recc_seasonal', 'chronic_med_condition', 'child_under_6_months', 'health_worker',\n",
    "#           'opinion_h1n1_vacc_effective', 'opinion_h1n1_risk', 'opinion_h1n1_sick_from_vacc',\n",
    "#           'opinion_seas_vacc_effective', 'opinion_seas_risk', 'opinion_seas_sick_from_vacc',\n",
    "#           'household_adults', 'household_children', 'h1n1_vaccine', 'seasonal_vaccine']\n",
    "# # Select columns for plotting\n",
    "# columns_to_plot = columns[:25]\n",
    "# # Determine the number of rows and columns for subplots\n",
    "# num_rows = (len(columns_to_plot) + 1) // 2\n",
    "# num_cols = 2\n",
    "# # Create subplots\n",
    "# fig, axes = plt.subplots(num_rows, num_cols, figsize=(12, 8 * num_rows))\n",
    "# axes = axes.flatten()\n",
    "# # Iterate over the columns and create count plots\n",
    "# for i, column in enumerate(columns_to_plot):\n",
    "#     sns.countplot(x=column, hue='h1n1_vaccine', data=merged_df, ax=axes[i], dodge=False)\n",
    "#     axes[i].set_title(f\"{column} and h1n1 vaccine uptake\")\n",
    "#     axes[i].set_xlabel('')\n",
    "#     axes[i].set_ylabel('Count')\n",
    "# # Remove any empty subplots\n",
    "# if len(columns_to_plot) % 2 == 1:\n",
    "#     fig.delaxes(axes[-1])\n",
    "# # Adjust spacing between subplots\n",
    "# plt.tight_layout()\n",
    "# # Display the plot\n",
    "# plt.show()"
   ]
  },
  {
   "cell_type": "code",
   "execution_count": null,
   "metadata": {},
   "outputs": [],
   "source": []
  },
  {
   "cell_type": "markdown",
   "metadata": {},
   "source": [
    "**Once we determine the important features from our final model, we can use this code to plot those features**"
   ]
  },
  {
   "cell_type": "code",
   "execution_count": 21,
   "metadata": {},
   "outputs": [],
   "source": [
    "# def vaccination_rate_plot(col, target, data, ax=None):\n",
    "#     \"\"\"Stacked bar chart of vaccination rate for `target` against \n",
    "#     `col`. \n",
    "    \n",
    "#     Args:\n",
    "#         col (string): column name of feature variable\n",
    "#         target (string): column name of target variable\n",
    "#         data (pandas DataFrame): dataframe that contains columns \n",
    "#             `col` and `target`\n",
    "#         ax (matplotlib axes object, optional): matplotlib axes \n",
    "#             object to attach plot to\n",
    "#     \"\"\"\n",
    "#     counts = (joined_df[[target, col]]\n",
    "#                   .groupby([target, col])\n",
    "#                   .size()\n",
    "#                   .unstack(target)\n",
    "#              )\n",
    "#     group_counts = counts.sum(axis='columns')\n",
    "#     props = counts.div(group_counts, axis='index')\n",
    "\n",
    "#     props.plot(kind=\"barh\", stacked=True, ax=ax)\n",
    "#     ax.invert_yaxis()\n",
    "#     ax.legend().remove()"
   ]
  },
  {
   "cell_type": "code",
   "execution_count": 22,
   "metadata": {},
   "outputs": [],
   "source": [
    "# cols_to_plot = [\n",
    "#     'h1n1_concern',\n",
    "#     'h1n1_knowledge',\n",
    "#     'opinion_h1n1_vacc_effective',\n",
    "#     'opinion_h1n1_risk',\n",
    "#     'opinion_h1n1_sick_from_vacc',\n",
    "#     'opinion_seas_vacc_effective',\n",
    "#     'opinion_seas_risk',\n",
    "#     'opinion_seas_sick_from_vacc',\n",
    "#     'sex',\n",
    "#     'age_group',\n",
    "#     'race',\n",
    "# ]\n",
    "\n",
    "# fig, ax = plt.subplots(\n",
    "#     len(cols_to_plot), 2, figsize=(9,len(cols_to_plot)*2.5)\n",
    "# )\n",
    "# for idx, col in enumerate(cols_to_plot):\n",
    "#     vaccination_rate_plot(\n",
    "#         col, 'h1n1_vaccine', joined_df, ax=ax[idx, 0]\n",
    "#     )\n",
    "#     vaccination_rate_plot(\n",
    "#         col, 'seasonal_vaccine', joined_df, ax=ax[idx, 1]\n",
    "#     )\n",
    "# ax[0, 0].legend(\n",
    "#     loc='lower center', bbox_to_anchor=(0.5, 1.05), title='h1n1_vaccine'\n",
    "# )\n",
    "# ax[0, 1].legend(\n",
    "#     loc='lower center', bbox_to_anchor=(0.5, 1.05), title='seasonal_vaccine'\n",
    "# )\n",
    "# fig.tight_layout()    "
   ]
  },
  {
   "cell_type": "code",
   "execution_count": 23,
   "metadata": {},
   "outputs": [
    {
     "data": {
      "text/plain": [
       "'\\nIt looks like the knowledge and opinion questions have pretty strong signal for both target variables.\\nThe demographic features have stronger correlation with seasonal_vaccine, but much less so far h1n1_vaccine. \\nIn particular, we interestingly see a strong correlation with age_group with the seasonal_vaccine,\\nbut not with h1n1_vaccine. It appears that with seasonal flu,\\npeople act appropriately according to the fact that people more impacted,\\nand have higher risk of flu-related complications with age. \\nIt turns out though that H1N1 flu has an interesting relationship with age: \\neven though older people have higher risk of complications, they were less likely to get vaccinated! \\nWhile we know anything about causality from this analysis, \\nit seems like the risk factors ended up being reflected in the vaccination rates.\\n'"
      ]
     },
     "execution_count": 23,
     "metadata": {},
     "output_type": "execute_result"
    }
   ],
   "source": [
    "\"\"\"\n",
    "It looks like the knowledge and opinion questions have pretty strong signal for both target variables.\n",
    "The demographic features have stronger correlation with seasonal_vaccine, but much less so far h1n1_vaccine. \n",
    "In particular, we interestingly see a strong correlation with age_group with the seasonal_vaccine,\n",
    "but not with h1n1_vaccine. It appears that with seasonal flu,\n",
    "people act appropriately according to the fact that people more impacted,\n",
    "and have higher risk of flu-related complications with age. \n",
    "It turns out though that H1N1 flu has an interesting relationship with age: \n",
    "even though older people have higher risk of complications, they were less likely to get vaccinated! \n",
    "While we know anything about causality from this analysis, \n",
    "it seems like the risk factors ended up being reflected in the vaccination rates.\n",
    "\"\"\""
   ]
  },
  {
   "cell_type": "code",
   "execution_count": null,
   "metadata": {},
   "outputs": [],
   "source": []
  },
  {
   "cell_type": "code",
   "execution_count": null,
   "metadata": {},
   "outputs": [],
   "source": []
  },
  {
   "cell_type": "code",
   "execution_count": null,
   "metadata": {},
   "outputs": [],
   "source": []
  },
  {
   "cell_type": "markdown",
   "metadata": {},
   "source": [
    "# MODELING\n",
    "\n",
    "## Defining a Function for Modeling\n",
    "\n",
    "- Here we will define a function and wrap our whole modeling process in it. This approach allows us to reuse the function for various classifiers by simply passing the appropriate data and `model` object.\n",
    "- The function also takes in an argument `param_grid`, which when specified, it will perform a grid-search and hence hyperparameter tuning to see if the given model will have a performance improvement compared to when using the default parameters.\n",
    "- This will help to reduce redundancy and makes our code more modular and organized."
   ]
  },
  {
   "cell_type": "markdown",
   "metadata": {},
   "source": [
    "## Data Preprocessing before model training\n",
    "\n",
    "\n",
    "- The function also contains data preprocessing techniques such as: \n",
    " - Imputing Missing Values\n",
    " - One Hot Encoding of Categorical variables\n",
    " - Using SMOTE algorithm to oversample the minority class and eliminate class imbalance\n",
    " - Standardization/Normalization for models such as Logistic Regression and K-Nearest Neighbors, while if a non-parametric model is passed in the function, no scaling will take place."
   ]
  },
  {
   "cell_type": "markdown",
   "metadata": {},
   "source": [
    "- In a bid to prevent **data leakage**, we do the preprocessing and transformations by fitting and transforming our functions on the training data, then just transforming on the test data."
   ]
  },
  {
   "cell_type": "code",
   "execution_count": 64,
   "metadata": {},
   "outputs": [],
   "source": [
    "# Separating the features and the target\n",
    "X = features_df\n",
    "y = labels_df['h1n1_vaccine']"
   ]
  },
  {
   "cell_type": "code",
   "execution_count": 128,
   "metadata": {},
   "outputs": [],
   "source": [
    "# Defining our function\n",
    "\n",
    "def train_and_evaluate_model(X, y, model, param_grid=None):\n",
    "    # Perform train-test split\n",
    "    X_train, X_test, y_train, y_test = train_test_split(X, y, test_size=0.2, random_state=42)\n",
    "\n",
    "    # List of categorical column names to one-hot encode\n",
    "    categorical_columns = ['age_group', 'education', 'race', 'sex', 'income_poverty',\n",
    "                           'marital_status', 'rent_or_own', 'employment_status',\n",
    "                           'hhs_geo_region', 'census_msa', 'employment_industry',\n",
    "                           'employment_occupation']\n",
    "\n",
    "    # List of numerical column names\n",
    "    numerical_columns = ['h1n1_concern', 'h1n1_knowledge', 'behavioral_antiviral_meds',\n",
    "                         'behavioral_avoidance', 'behavioral_face_mask', 'behavioral_wash_hands',\n",
    "                         'behavioral_large_gatherings', 'behavioral_outside_home',\n",
    "                         'behavioral_touch_face', 'doctor_recc_h1n1', 'doctor_recc_seasonal',\n",
    "                         'chronic_med_condition', 'child_under_6_months', 'health_worker',\n",
    "                         'health_insurance', 'opinion_h1n1_vacc_effective', 'opinion_h1n1_risk',\n",
    "                         'opinion_h1n1_sick_from_vacc', 'opinion_seas_vacc_effective',\n",
    "                         'opinion_seas_risk', 'opinion_seas_sick_from_vacc', 'household_adults',\n",
    "                         'household_children']\n",
    "\n",
    "    # Impute missing values in numerical columns with median\n",
    "    numerical_imputer = SimpleImputer(strategy='median')\n",
    "    X_train[numerical_columns] = numerical_imputer.fit_transform(X_train[numerical_columns])\n",
    "    X_test[numerical_columns] = numerical_imputer.transform(X_test[numerical_columns])\n",
    "\n",
    "    # Impute missing values in categorical columns with most frequent\n",
    "    categorical_imputer = SimpleImputer(strategy='most_frequent')\n",
    "    X_train[categorical_columns] = categorical_imputer.fit_transform(X_train[categorical_columns])\n",
    "    X_test[categorical_columns] = categorical_imputer.transform(X_test[categorical_columns])\n",
    "\n",
    "    # Fit the OneHotEncoder on the training data\n",
    "    encoder = OneHotEncoder(handle_unknown='ignore')\n",
    "    encoder.fit(X_train[categorical_columns])\n",
    "\n",
    "    # Transform the categorical columns in the training set\n",
    "    X_train_encoded = encoder.transform(X_train[categorical_columns])\n",
    "    X_train_encoded_df = pd.DataFrame(X_train_encoded.toarray(), columns=encoder.get_feature_names(categorical_columns))\n",
    "\n",
    "    # Transform the categorical columns in the test set\n",
    "    X_test_encoded = encoder.transform(X_test[categorical_columns])\n",
    "    X_test_encoded_df = pd.DataFrame(X_test_encoded.toarray(), columns=encoder.get_feature_names(categorical_columns))\n",
    "\n",
    "    # Using SMOTE algorithm to oversample the minority class\n",
    "    oversample = SMOTE()\n",
    "    X_train_smote, y_train_smote = oversample.fit_resample(X_train_encoded, y_train)\n",
    "\n",
    "    if param_grid is not None:\n",
    "        # Check if the model supports grid search\n",
    "        if hasattr(model, 'fit'):\n",
    "            if model.__class__.__name__ in ['LogisticRegression', 'KNeighborsClassifier']:\n",
    "                # Normalize/Standardize the data\n",
    "                scaler = StandardScaler(with_mean=False)\n",
    "                X_train_scaled = scaler.fit_transform(X_train_encoded)\n",
    "                X_test_scaled = scaler.transform(X_test_encoded)\n",
    "\n",
    "                oversample = SMOTE()\n",
    "                X_train_smote_scaled, y_train_smote = oversample.fit_resample(X_train_scaled, y_train)\n",
    "                model.fit(X_train_smote_scaled, y_train_smote)\n",
    "\n",
    "                y_pred_train = model.predict(X_train_scaled)\n",
    "                y_pred_test = model.predict(X_test_scaled)\n",
    "            else:\n",
    "                oversample = SMOTE()\n",
    "                X_train_smote_scaled, y_train_smote = oversample.fit_resample(X_train_encoded, y_train)\n",
    "                model.fit(X_train_smote_scaled, y_train_smote)\n",
    "\n",
    "                y_pred_train = model.predict(X_train_encoded)\n",
    "                y_pred_test = model.predict(X_test_encoded)\n",
    "\n",
    "            # Create the GridSearchCV object\n",
    "            grid_search = GridSearchCV(model, param_grid, cv=3, scoring='f1', verbose=1)\n",
    "            grid_search.fit(X_train_smote_scaled, y_train_smote)\n",
    "\n",
    "            # Use the best model from the grid search\n",
    "            model = grid_search.best_estimator_\n",
    "\n",
    "            # Print the best hyperparameters, best score, and best estimator\n",
    "            best_params = grid_search.best_params_\n",
    "            best_score = grid_search.best_score_\n",
    "            best_estimator = grid_search.best_estimator_\n",
    "            print(\"Best Hyperparameters:\", best_params)\n",
    "            print(\"Best F1 Score:\", best_score)\n",
    "            print(\"Best Estimator:\", best_estimator)\n",
    "        else:\n",
    "            print(\"Grid search is not supported for the chosen model.\")\n",
    "    else:\n",
    "        # Fit the model\n",
    "        model.fit(X_train_smote, y_train_smote)\n",
    "\n",
    "        # Predictions on the training and test sets\n",
    "        y_pred_train = model.predict(X_train_encoded)\n",
    "        y_pred_test = model.predict(X_test_encoded)\n",
    "\n",
    "    # Evaluation metrics on the training set\n",
    "    train_acc = round(accuracy_score(y_train, y_pred_train), 3)\n",
    "    train_prec = round(precision_score(y_train, y_pred_train), 3)\n",
    "    train_rec = round(recall_score(y_train, y_pred_train), 3)\n",
    "    train_f1 = round(f1_score(y_train, y_pred_train), 3)\n",
    "    train_roc_auc = round(roc_auc_score(y_train, y_pred_train), 3)\n",
    "\n",
    "    # Evaluation metrics on the test set\n",
    "    test_acc = round(accuracy_score(y_test, y_pred_test), 3)\n",
    "    test_prec = round(precision_score(y_test, y_pred_test), 3)\n",
    "    test_rec = round(recall_score(y_test, y_pred_test), 3)\n",
    "    test_f1 = round(f1_score(y_test, y_pred_test), 3)\n",
    "    test_roc_auc = round(roc_auc_score(y_test, y_pred_test), 3)\n",
    "\n",
    "    print(f\"\"\"\n",
    "    \\t       Train \\t \\t Test\n",
    "    Accuracy:  {train_acc} \\t \\t {test_acc}\n",
    "\n",
    "    Precision: {train_prec} \\t \\t {test_prec}\n",
    "\n",
    "    Recall:    {train_rec} \\t \\t {test_rec}\n",
    "\n",
    "    F1 score:  {train_f1} \\t \\t {test_f1}\n",
    "    \"\"\")\n",
    "\n",
    "    # Classification report for both train and test sets\n",
    "    print(\"Classification Report (Training Set):\")\n",
    "    print(classification_report(y_train, y_pred_train))\n",
    "\n",
    "    print(\"Classification Report (Test Set):\")\n",
    "    print(classification_report(y_test, y_pred_test))\n",
    "\n",
    "    # Confusion matrix for both train and test sets\n",
    "    fig, axes = plt.subplots(nrows=1, ncols=2, figsize=(10, 5))\n",
    "\n",
    "    # Plot confusion matrix for the training set\n",
    "    ax1 = axes[0]\n",
    "    plot_confusion_matrix(model, X_train_encoded, y_train, ax=ax1)\n",
    "    ax1.set_title('Training Set')\n",
    "\n",
    "    # Plot confusion matrix for the test set\n",
    "    ax2 = axes[1]\n",
    "    plot_confusion_matrix(model, X_test_encoded, y_test, ax=ax2)\n",
    "    ax2.set_title('Test Set')\n",
    "\n",
    "    plt.tight_layout()\n",
    "    plt.show()"
   ]
  },
  {
   "cell_type": "code",
   "execution_count": 123,
   "metadata": {},
   "outputs": [],
   "source": [
    "# With RFE\n",
    "\n",
    "def train_and_evaluate_model(X, y, model, param_grid=None):\n",
    "    # Perform train-test split\n",
    "    X_train, X_test, y_train, y_test = train_test_split(X, y, test_size=0.2, random_state=42)\n",
    "\n",
    "    # List of categorical column names to one-hot encode\n",
    "    categorical_columns = ['age_group', 'education', 'race', 'sex', 'income_poverty',\n",
    "                           'marital_status', 'rent_or_own', 'employment_status',\n",
    "                           'hhs_geo_region', 'census_msa', 'employment_industry',\n",
    "                           'employment_occupation']\n",
    "\n",
    "    # List of numerical column names\n",
    "    numerical_columns = ['h1n1_concern', 'h1n1_knowledge', 'behavioral_antiviral_meds',\n",
    "                         'behavioral_avoidance', 'behavioral_face_mask', 'behavioral_wash_hands',\n",
    "                         'behavioral_large_gatherings', 'behavioral_outside_home',\n",
    "                         'behavioral_touch_face', 'doctor_recc_h1n1', 'doctor_recc_seasonal',\n",
    "                         'chronic_med_condition', 'child_under_6_months', 'health_worker',\n",
    "                         'health_insurance', 'opinion_h1n1_vacc_effective', 'opinion_h1n1_risk',\n",
    "                         'opinion_h1n1_sick_from_vacc', 'opinion_seas_vacc_effective',\n",
    "                         'opinion_seas_risk', 'opinion_seas_sick_from_vacc', 'household_adults',\n",
    "                         'household_children']\n",
    "\n",
    "    # Impute missing values in numerical columns with median\n",
    "    numerical_imputer = SimpleImputer(strategy='median')\n",
    "    X_train[numerical_columns] = numerical_imputer.fit_transform(X_train[numerical_columns])\n",
    "    X_test[numerical_columns] = numerical_imputer.transform(X_test[numerical_columns])\n",
    "\n",
    "    # Impute missing values in categorical columns with most frequent\n",
    "    categorical_imputer = SimpleImputer(strategy='most_frequent')\n",
    "    X_train[categorical_columns] = categorical_imputer.fit_transform(X_train[categorical_columns])\n",
    "    X_test[categorical_columns] = categorical_imputer.transform(X_test[categorical_columns])\n",
    "\n",
    "    # Fit the OneHotEncoder on the training data\n",
    "    encoder = OneHotEncoder(handle_unknown='ignore')\n",
    "    encoder.fit(X_train[categorical_columns])\n",
    "\n",
    "    # Transform the categorical columns in the training set\n",
    "    X_train_encoded = encoder.transform(X_train[categorical_columns])\n",
    "    X_train_encoded_df = pd.DataFrame(X_train_encoded.toarray(), columns=encoder.get_feature_names(categorical_columns))\n",
    "\n",
    "    # Transform the categorical columns in the test set\n",
    "    X_test_encoded = encoder.transform(X_test[categorical_columns])\n",
    "    X_test_encoded_df = pd.DataFrame(X_test_encoded.toarray(), columns=encoder.get_feature_names(categorical_columns))\n",
    "\n",
    "    # Using SMOTE algorithm to oversample the minority class\n",
    "    oversample = SMOTE()\n",
    "    X_train_smote, y_train_smote = oversample.fit_resample(X_train_encoded, y_train)\n",
    "\n",
    "    if param_grid is not None:\n",
    "        # Check if the model supports grid search\n",
    "        if hasattr(model, 'fit'):\n",
    "            if model.__class__.__name__ in ['LogisticRegression', 'KNeighborsClassifier']:\n",
    "                # Normalize/Standardize the data\n",
    "                scaler = StandardScaler(with_mean=False)\n",
    "                X_train_scaled = scaler.fit_transform(X_train_encoded)\n",
    "                X_test_scaled = scaler.transform(X_test_encoded)\n",
    "\n",
    "                oversample = SMOTE()\n",
    "                X_train_smote_scaled, y_train_smote = oversample.fit_resample(X_train_scaled, y_train)\n",
    "\n",
    "                # Apply RFE with the best estimator from GridSearchCV\n",
    "                rfe = RFE(estimator=model.best_estimator_, n_features_to_select=10)\n",
    "                X_train_rfe = rfe.fit_transform(X_train_smote_scaled, y_train_smote)\n",
    "                X_test_rfe = rfe.transform(X_test_scaled)\n",
    "\n",
    "                model.fit(X_train_rfe, y_train_smote)\n",
    "\n",
    "                y_pred_train = model.predict(X_train_rfe)\n",
    "                y_pred_test = model.predict(X_test_rfe)\n",
    "            else:\n",
    "                oversample = SMOTE()\n",
    "                X_train_smote_scaled, y_train_smote = oversample.fit_resample(X_train_encoded, y_train)\n",
    "\n",
    "                # Apply RFE with the best estimator from GridSearchCV\n",
    "                rfe = RFE(estimator=model.best_estimator_, n_features_to_select=30)\n",
    "                X_train_rfe = rfe.fit_transform(X_train_smote_scaled, y_train_smote)\n",
    "                X_test_rfe = rfe.transform(X_test_encoded)\n",
    "\n",
    "                model.fit(X_train_rfe, y_train_smote)\n",
    "\n",
    "                y_pred_train = model.predict(X_train_rfe)\n",
    "                y_pred_test = model.predict(X_test_rfe)\n",
    "\n",
    "            # Create the GridSearchCV object\n",
    "            grid_search = GridSearchCV(model, param_grid, cv=3, scoring='f1', verbose=1)\n",
    "            grid_search.fit(X_train_rfe, y_train_smote)\n",
    "\n",
    "            # Use the best model from the grid search\n",
    "            model = grid_search.best_estimator_\n",
    "\n",
    "            # Print the best hyperparameters, best score, and best estimator\n",
    "            best_params = grid_search.best_params_\n",
    "            best_score = grid_search.best_score_\n",
    "            best_estimator = grid_search.best_estimator_\n",
    "            print(\"Best Hyperparameters:\", best_params)\n",
    "            print(\"Best F1 Score:\", best_score)\n",
    "            print(\"Best Estimator:\", best_estimator)\n",
    "        else:\n",
    "            print(\"Grid search is not supported for the chosen model.\")\n",
    "    else:\n",
    "        # Apply RFE with the specified model\n",
    "        rfe = RFE(estimator=model, n_features_to_select=30)\n",
    "        X_train_rfe = rfe.fit_transform(X_train_smote, y_train_smote)\n",
    "        X_test_rfe = rfe.transform(X_test_encoded)\n",
    "\n",
    "        # Fit the model\n",
    "        model.fit(X_train_rfe, y_train_smote)\n",
    "\n",
    "        # Predictions on the training and test sets\n",
    "        y_pred_train = model.predict(X_train_rfe)\n",
    "        y_pred_test = model.predict(X_test_rfe)\n",
    "\n",
    "    # Evaluation metrics on the training set\n",
    "    train_acc = round(accuracy_score(y_train_smote, y_pred_train), 3)\n",
    "    train_prec = round(precision_score(y_train_smote, y_pred_train), 3)\n",
    "    train_rec = round(recall_score(y_train_smote, y_pred_train), 3)\n",
    "    train_f1 = round(f1_score(y_train_smote, y_pred_train), 3)\n",
    "\n",
    "    # Evaluation metrics on the test set\n",
    "    test_acc = round(accuracy_score(y_test, y_pred_test), 3)\n",
    "    test_prec = round(precision_score(y_test, y_pred_test), 3)\n",
    "    test_rec = round(recall_score(y_test, y_pred_test), 3)\n",
    "    test_f1 = round(f1_score(y_test, y_pred_test), 3)\n",
    "\n",
    "    print(f\"\"\"\n",
    "    \\t       Train \\t \\t Test\n",
    "    Accuracy:  {train_acc} \\t \\t {test_acc}\n",
    "\n",
    "    Precision: {train_prec} \\t \\t {test_prec}\n",
    "\n",
    "    Recall:    {train_rec} \\t \\t {test_rec}\n",
    "\n",
    "    F1 score:  {train_f1} \\t \\t {test_f1}\n",
    "    \"\"\")\n",
    "\n",
    "    # Classification report for both train and test sets\n",
    "    print(\"Classification Report (Training Set):\")\n",
    "    print(classification_report(y_train_smote, y_pred_train))\n",
    "\n",
    "    print(\"Classification Report (Test Set):\")\n",
    "    print(classification_report(y_test, y_pred_test))\n",
    "\n",
    "    # Confusion matrix for both train and test sets\n",
    "    fig, axes = plt.subplots(nrows=1, ncols=2, figsize=(10, 5))\n",
    "\n",
    "    # Plot confusion matrix for the training set\n",
    "    ax1 = axes[0]\n",
    "    plot_confusion_matrix(model, X_train_rfe, y_train_smote, ax=ax1)\n",
    "    ax1.set_title('Training Set')\n",
    "\n",
    "    # Plot confusion matrix for the test set\n",
    "    ax2 = axes[1]\n",
    "    plot_confusion_matrix(model, X_test_rfe, y_test, ax=ax2)\n",
    "    ax2.set_title('Test Set')\n",
    "\n",
    "    plt.tight_layout()\n",
    "    plt.show()\n",
    "\n",
    "    # Get the selected feature names\n",
    "    selected_features = X_train_encoded_df.columns[rfe.support_]\n",
    "\n",
    "    # Print the selected feature names\n",
    "    print(\"Selected Features:\")\n",
    "    print(selected_features)"
   ]
  },
  {
   "cell_type": "markdown",
   "metadata": {},
   "source": [
    "# Baseline Model (Logistic Regression)"
   ]
  },
  {
   "cell_type": "code",
   "execution_count": 129,
   "metadata": {},
   "outputs": [
    {
     "name": "stdout",
     "output_type": "stream",
     "text": [
      "\n",
      "    \t       Train \t \t Test\n",
      "    Accuracy:  0.602 \t \t 0.591\n",
      "\n",
      "    Precision: 0.288 \t \t 0.274\n",
      "\n",
      "    Recall:    0.593 \t \t 0.564\n",
      "\n",
      "    F1 score:  0.388 \t \t 0.368\n",
      "    \n",
      "Classification Report (Training Set):\n",
      "              precision    recall  f1-score   support\n",
      "\n",
      "           0       0.85      0.60      0.71     16821\n",
      "           1       0.29      0.59      0.39      4544\n",
      "\n",
      "    accuracy                           0.60     21365\n",
      "   macro avg       0.57      0.60      0.55     21365\n",
      "weighted avg       0.73      0.60      0.64     21365\n",
      "\n",
      "Classification Report (Test Set):\n",
      "              precision    recall  f1-score   support\n",
      "\n",
      "           0       0.84      0.60      0.70      4212\n",
      "           1       0.27      0.56      0.37      1130\n",
      "\n",
      "    accuracy                           0.59      5342\n",
      "   macro avg       0.55      0.58      0.53      5342\n",
      "weighted avg       0.72      0.59      0.63      5342\n",
      "\n"
     ]
    },
    {
     "data": {
      "image/png": "[encoded data removed]",
      "text/plain": [
       "<Figure size 720x360 with 4 Axes>"
      ]
     },
     "metadata": {
      "needs_background": "light"
     },
     "output_type": "display_data"
    }
   ],
   "source": [
    "# Instantiate the classifier\n",
    "logreg = LogisticRegression()\n",
    "\n",
    "# Call the function with the classifier\n",
    "train_and_evaluate_model(X, y, logreg)"
   ]
  },
  {
   "cell_type": "markdown",
   "metadata": {},
   "source": [
    "# Hyperparameter Tuning for the baseline Logistic Regression model\n",
    "\n",
    "Here we will use the `GridSearchCV` function to tune the main parameters for Logistic Regression."
   ]
  },
  {
   "cell_type": "code",
   "execution_count": 51,
   "metadata": {},
   "outputs": [
    {
     "name": "stdout",
     "output_type": "stream",
     "text": [
      "Fitting 5 folds for each of 20 candidates, totalling 100 fits\n"
     ]
    },
    {
     "name": "stderr",
     "output_type": "stream",
     "text": [
      "[Parallel(n_jobs=1)]: Using backend SequentialBackend with 1 concurrent workers.\n",
      "[Parallel(n_jobs=1)]: Done 100 out of 100 | elapsed:  1.1min finished\n"
     ]
    },
    {
     "name": "stdout",
     "output_type": "stream",
     "text": [
      "Best Hyperparameters: {'C': 1, 'penalty': 'l1', 'solver': 'liblinear'}\n",
      "Best F1 Score: 0.6034406263826112\n",
      "Best Estimator: LogisticRegression(C=1, penalty='l1', solver='liblinear')\n",
      "\n",
      "    \t       Train \t \t Test\n",
      "    Accuracy:  0.602 \t \t 0.589\n",
      "\n",
      "    Precision: 0.286 \t \t 0.269\n",
      "\n",
      "    Recall:    0.581 \t \t 0.551\n",
      "\n",
      "    F1 score:  0.383 \t \t 0.362\n",
      "    \n",
      "Classification Report (Training Set):\n",
      "              precision    recall  f1-score   support\n",
      "\n",
      "           0       0.84      0.61      0.71     16821\n",
      "           1       0.29      0.58      0.38      4544\n",
      "\n",
      "    accuracy                           0.60     21365\n",
      "   macro avg       0.56      0.59      0.54     21365\n",
      "weighted avg       0.72      0.60      0.64     21365\n",
      "\n",
      "Classification Report (Test Set):\n",
      "              precision    recall  f1-score   support\n",
      "\n",
      "           0       0.83      0.60      0.70      4212\n",
      "           1       0.27      0.55      0.36      1130\n",
      "\n",
      "    accuracy                           0.59      5342\n",
      "   macro avg       0.55      0.58      0.53      5342\n",
      "weighted avg       0.71      0.59      0.63      5342\n",
      "\n"
     ]
    },
    {
     "data": {
      "image/png": "[encoded data removed]",
      "text/plain": [
       "<Figure size 720x360 with 4 Axes>"
      ]
     },
     "metadata": {
      "needs_background": "light"
     },
     "output_type": "display_data"
    }
   ],
   "source": [
    "# Define the hyperparameters to tune\n",
    "param_grid = {\n",
    "    'penalty': ['l1', 'l2'],\n",
    "    'C': [0.001, 0.01, 0.1, 1, 10],\n",
    "    'solver': ['liblinear', 'saga']\n",
    "}\n",
    "\n",
    "# Instantiate the model\n",
    "logreg_tuned = LogisticRegression()\n",
    "\n",
    "# Train and evaluate the model with grid search\n",
    "train_and_evaluate_model(X, y, logreg_tuned, param_grid)"
   ]
  },
  {
   "cell_type": "markdown",
   "metadata": {},
   "source": [
    "# Iteration 1: Decision Tree"
   ]
  },
  {
   "cell_type": "code",
   "execution_count": 131,
   "metadata": {},
   "outputs": [
    {
     "name": "stdout",
     "output_type": "stream",
     "text": [
      "\n",
      "    \t       Train \t \t Test\n",
      "    Accuracy:  0.478 \t \t 0.47\n",
      "\n",
      "    Precision: 0.251 \t \t 0.245\n",
      "\n",
      "    Recall:    0.73 \t \t 0.719\n",
      "\n",
      "    F1 score:  0.373 \t \t 0.365\n",
      "    \n",
      "Classification Report (Training Set):\n",
      "              precision    recall  f1-score   support\n",
      "\n",
      "           0       0.85      0.41      0.55     16821\n",
      "           1       0.25      0.73      0.37      4544\n",
      "\n",
      "    accuracy                           0.48     21365\n",
      "   macro avg       0.55      0.57      0.46     21365\n",
      "weighted avg       0.72      0.48      0.51     21365\n",
      "\n",
      "Classification Report (Test Set):\n",
      "              precision    recall  f1-score   support\n",
      "\n",
      "           0       0.84      0.40      0.55      4212\n",
      "           1       0.24      0.72      0.36      1130\n",
      "\n",
      "    accuracy                           0.47      5342\n",
      "   macro avg       0.54      0.56      0.46      5342\n",
      "weighted avg       0.72      0.47      0.51      5342\n",
      "\n"
     ]
    },
    {
     "data": {
      "image/png": "[encoded data removed]",
      "text/plain": [
       "<Figure size 720x360 with 4 Axes>"
      ]
     },
     "metadata": {
      "needs_background": "light"
     },
     "output_type": "display_data"
    }
   ],
   "source": [
    "# Instantiate the classifier\n",
    "dec_tree = DecisionTreeClassifier(max_depth=5)\n",
    "\n",
    "# Call the function with the classifier\n",
    "train_and_evaluate_model(X, y, dec_tree)"
   ]
  },
  {
   "cell_type": "markdown",
   "metadata": {},
   "source": [
    "- Here we will use the `feature_importances_` function of our Decision Tree algorithm to see which features have the largest impact on our model."
   ]
  },
  {
   "cell_type": "code",
   "execution_count": 126,
   "metadata": {},
   "outputs": [
    {
     "name": "stdout",
     "output_type": "stream",
     "text": [
      "h1n1_concern: 0.00055887166653391\n",
      "h1n1_knowledge: 0.0\n",
      "behavioral_antiviral_meds: 0.0\n",
      "behavioral_avoidance: 0.0\n",
      "behavioral_face_mask: 0.0\n",
      "behavioral_wash_hands: 0.0010699852088367392\n",
      "behavioral_large_gatherings: 0.0\n",
      "behavioral_outside_home: 0.0\n",
      "behavioral_touch_face: 0.0\n",
      "doctor_recc_h1n1: 0.0024810723406825594\n",
      "doctor_recc_seasonal: 0.001653758045026047\n",
      "chronic_med_condition: 0.0221288777422573\n",
      "child_under_6_months: 0.004128582375392365\n",
      "health_worker: 0.004233041058177664\n",
      "health_insurance: 0.041641050588464505\n",
      "opinion_h1n1_vacc_effective: 0.0034008518466829216\n",
      "opinion_h1n1_risk: 0.14936314978477236\n",
      "opinion_h1n1_sick_from_vacc: 0.0444195532985108\n",
      "opinion_seas_vacc_effective: 0.2604646892541687\n",
      "opinion_seas_risk: 0.06864307209922436\n",
      "opinion_seas_sick_from_vacc: 0.0\n",
      "age_group: 0.0\n",
      "education: 0.0\n",
      "race: 0.0\n",
      "sex: 0.0\n",
      "income_poverty: 0.0\n",
      "marital_status: 0.0\n",
      "rent_or_own: 0.12196690194748486\n",
      "employment_status: 0.0\n",
      "hhs_geo_region: 0.273846542743785\n"
     ]
    }
   ],
   "source": [
    "# Get the feature importances\n",
    "importances = dec_tree.feature_importances_\n",
    "\n",
    "# Print the feature importances\n",
    "for feature, importance in zip(X.columns, importances):\n",
    "     print(f\"{feature}: {importance}\")\n",
    "    \n",
    "# # Calculate total importances\n",
    "# total_importance = sum(importances)\n",
    "\n",
    "# # Print the feature importances as percentages\n",
    "# for feature, importance in zip(X.columns, importances):\n",
    "#     importance_percentage = (importance / total_importance) * 100\n",
    "#     print(f\"{feature}: {importance_percentage:.2f}%\")"
   ]
  },
  {
   "cell_type": "markdown",
   "metadata": {},
   "source": [
    "# Hyperparameter Tuning for our Decision Tree model"
   ]
  },
  {
   "cell_type": "code",
   "execution_count": 130,
   "metadata": {},
   "outputs": [
    {
     "name": "stdout",
     "output_type": "stream",
     "text": [
      "Fitting 3 folds for each of 72 candidates, totalling 216 fits\n"
     ]
    },
    {
     "name": "stderr",
     "output_type": "stream",
     "text": [
      "[Parallel(n_jobs=1)]: Using backend SequentialBackend with 1 concurrent workers.\n",
      "[Parallel(n_jobs=1)]: Done 216 out of 216 | elapsed:   40.3s finished\n"
     ]
    },
    {
     "name": "stdout",
     "output_type": "stream",
     "text": [
      "Best Hyperparameters: {'criterion': 'gini', 'max_depth': 9, 'min_samples_leaf': 1, 'min_samples_split': 2}\n",
      "Best F1 Score: 0.582065849038413\n",
      "Best Estimator: DecisionTreeClassifier(max_depth=9)\n",
      "\n",
      "    \t       Train \t \t Test\n",
      "    Accuracy:  0.924 \t \t 0.686\n",
      "\n",
      "    Precision: 0.858 \t \t 0.256\n",
      "\n",
      "    Recall:    0.768 \t \t 0.255\n",
      "\n",
      "    F1 score:  0.81 \t \t 0.255\n",
      "    \n",
      "Classification Report (Training Set):\n",
      "              precision    recall  f1-score   support\n",
      "\n",
      "           0       0.94      0.97      0.95     16821\n",
      "           1       0.86      0.77      0.81      4544\n",
      "\n",
      "    accuracy                           0.92     21365\n",
      "   macro avg       0.90      0.87      0.88     21365\n",
      "weighted avg       0.92      0.92      0.92     21365\n",
      "\n",
      "Classification Report (Test Set):\n",
      "              precision    recall  f1-score   support\n",
      "\n",
      "           0       0.80      0.80      0.80      4212\n",
      "           1       0.26      0.25      0.26      1130\n",
      "\n",
      "    accuracy                           0.69      5342\n",
      "   macro avg       0.53      0.53      0.53      5342\n",
      "weighted avg       0.69      0.69      0.69      5342\n",
      "\n"
     ]
    },
    {
     "data": {
      "image/png": "[encoded data removed]",
      "text/plain": [
       "<Figure size 720x360 with 4 Axes>"
      ]
     },
     "metadata": {
      "needs_background": "light"
     },
     "output_type": "display_data"
    }
   ],
   "source": [
    "# Define the parameter grid\n",
    "param_grid = {\n",
    "    'max_depth': [3, 5, 7, 9],\n",
    "    'criterion': ['gini', 'entropy'],\n",
    "    'min_samples_split': [2, 4, 6],\n",
    "    'min_samples_leaf': [1, 2, 3]\n",
    "}\n",
    "\n",
    "# Instantiate the classifier\n",
    "dec_tree_tuned = DecisionTreeClassifier()\n",
    "\n",
    "# Train and evaluate the model with grid search\n",
    "train_and_evaluate_model(X, y, dec_tree_tuned, param_grid)"
   ]
  },
  {
   "cell_type": "markdown",
   "metadata": {},
   "source": [
    "# Iteration 2: K-Nearest Neighbors"
   ]
  },
  {
   "cell_type": "code",
   "execution_count": 132,
   "metadata": {},
   "outputs": [
    {
     "name": "stdout",
     "output_type": "stream",
     "text": [
      "\n",
      "    \t       Train \t \t Test\n",
      "    Accuracy:  0.669 \t \t 0.503\n",
      "\n",
      "    Precision: 0.38 \t \t 0.232\n",
      "\n",
      "    Recall:    0.874 \t \t 0.586\n",
      "\n",
      "    F1 score:  0.529 \t \t 0.333\n",
      "    \n",
      "Classification Report (Training Set):\n",
      "              precision    recall  f1-score   support\n",
      "\n",
      "           0       0.95      0.61      0.75     16821\n",
      "           1       0.38      0.87      0.53      4544\n",
      "\n",
      "    accuracy                           0.67     21365\n",
      "   macro avg       0.66      0.74      0.64     21365\n",
      "weighted avg       0.83      0.67      0.70     21365\n",
      "\n",
      "Classification Report (Test Set):\n",
      "              precision    recall  f1-score   support\n",
      "\n",
      "           0       0.81      0.48      0.60      4212\n",
      "           1       0.23      0.59      0.33      1130\n",
      "\n",
      "    accuracy                           0.50      5342\n",
      "   macro avg       0.52      0.53      0.47      5342\n",
      "weighted avg       0.69      0.50      0.55      5342\n",
      "\n"
     ]
    },
    {
     "data": {
      "image/png": "[encoded data removed]",
      "text/plain": [
       "<Figure size 720x360 with 4 Axes>"
      ]
     },
     "metadata": {
      "needs_background": "light"
     },
     "output_type": "display_data"
    }
   ],
   "source": [
    "# Instantiate the classifier\n",
    "knn = KNeighborsClassifier(n_neighbors=5)\n",
    "\n",
    "# Call the function with the classifier\n",
    "train_and_evaluate_model(X, y, knn)"
   ]
  },
  {
   "cell_type": "markdown",
   "metadata": {},
   "source": [
    "# Hyperparameter Tuning for our K-NN model"
   ]
  },
  {
   "cell_type": "code",
   "execution_count": 67,
   "metadata": {},
   "outputs": [
    {
     "name": "stdout",
     "output_type": "stream",
     "text": [
      "Fitting 3 folds for each of 16 candidates, totalling 48 fits\n"
     ]
    },
    {
     "name": "stderr",
     "output_type": "stream",
     "text": [
      "[Parallel(n_jobs=1)]: Using backend SequentialBackend with 1 concurrent workers.\n",
      "[Parallel(n_jobs=1)]: Done  48 out of  48 | elapsed:  9.9min finished\n"
     ]
    },
    {
     "name": "stdout",
     "output_type": "stream",
     "text": [
      "Best Hyperparameters: {'n_neighbors': 5, 'p': 1, 'weights': 'distance'}\n",
      "Best F1 Score: 0.794490494519927\n",
      "Best Estimator: KNeighborsClassifier(p=1, weights='distance')\n",
      "\n",
      "    \t       Train \t \t Test\n",
      "    Accuracy:  0.739 \t \t 0.581\n",
      "\n",
      "    Precision: 0.44 \t \t 0.246\n",
      "\n",
      "    Recall:    0.847 \t \t 0.477\n",
      "\n",
      "    F1 score:  0.58 \t \t 0.325\n",
      "    \n",
      "Classification Report (Training Set):\n",
      "              precision    recall  f1-score   support\n",
      "\n",
      "           0       0.95      0.71      0.81     16821\n",
      "           1       0.44      0.85      0.58      4544\n",
      "\n",
      "    accuracy                           0.74     21365\n",
      "   macro avg       0.69      0.78      0.69     21365\n",
      "weighted avg       0.84      0.74      0.76     21365\n",
      "\n",
      "Classification Report (Test Set):\n",
      "              precision    recall  f1-score   support\n",
      "\n",
      "           0       0.81      0.61      0.70      4212\n",
      "           1       0.25      0.48      0.32      1130\n",
      "\n",
      "    accuracy                           0.58      5342\n",
      "   macro avg       0.53      0.54      0.51      5342\n",
      "weighted avg       0.69      0.58      0.62      5342\n",
      "\n"
     ]
    },
    {
     "data": {
      "image/png": "[encoded data removed]",
      "text/plain": [
       "<Figure size 720x360 with 4 Axes>"
      ]
     },
     "metadata": {
      "needs_background": "light"
     },
     "output_type": "display_data"
    }
   ],
   "source": [
    "# Define the parameter grid\n",
    "param_grid = {\n",
    "    'n_neighbors': [3, 5, 7, 9],\n",
    "    'weights': ['uniform', 'distance'],\n",
    "    'p': [1, 2]\n",
    "}\n",
    "\n",
    "# Instantiate the classifier\n",
    "knn_tuned = KNeighborsClassifier()\n",
    "\n",
    "# Train and evaluate the model with grid search\n",
    "train_and_evaluate_model(X, y, knn_tuned, param_grid)"
   ]
  },
  {
   "cell_type": "markdown",
   "metadata": {},
   "source": [
    "The K-NN model might be **overfitting**. This is because the performance metrics for the training set are good; while for the test set are wanting. "
   ]
  },
  {
   "cell_type": "markdown",
   "metadata": {},
   "source": [
    "# Iteration 3: Random Forest"
   ]
  },
  {
   "cell_type": "code",
   "execution_count": 55,
   "metadata": {},
   "outputs": [
    {
     "name": "stdout",
     "output_type": "stream",
     "text": [
      "\n",
      "    \t       Train \t \t Test\n",
      "    Accuracy:  0.922 \t \t 0.742\n",
      "\n",
      "    Precision: 0.821 \t \t 0.298\n",
      "\n",
      "    Recall:    0.809 \t \t 0.164\n",
      "\n",
      "    F1 score:  0.815 \t \t 0.211\n",
      "    \n",
      "Classification Report (Training Set):\n",
      "              precision    recall  f1-score   support\n",
      "\n",
      "           0       0.95      0.95      0.95     16821\n",
      "           1       0.82      0.81      0.82      4544\n",
      "\n",
      "    accuracy                           0.92     21365\n",
      "   macro avg       0.88      0.88      0.88     21365\n",
      "weighted avg       0.92      0.92      0.92     21365\n",
      "\n",
      "Classification Report (Test Set):\n",
      "              precision    recall  f1-score   support\n",
      "\n",
      "           0       0.80      0.90      0.85      4212\n",
      "           1       0.30      0.16      0.21      1130\n",
      "\n",
      "    accuracy                           0.74      5342\n",
      "   macro avg       0.55      0.53      0.53      5342\n",
      "weighted avg       0.69      0.74      0.71      5342\n",
      "\n"
     ]
    },
    {
     "data": {
      "image/png": "[encoded data removed]",
      "text/plain": [
       "<Figure size 720x360 with 4 Axes>"
      ]
     },
     "metadata": {
      "needs_background": "light"
     },
     "output_type": "display_data"
    }
   ],
   "source": [
    "# Instantiate the classifier\n",
    "RF = RandomForestClassifier()\n",
    "\n",
    "# Call the function with the classifier\n",
    "train_and_evaluate_model(X, y, RF)"
   ]
  },
  {
   "cell_type": "markdown",
   "metadata": {},
   "source": [
    "- Get the important features."
   ]
  },
  {
   "cell_type": "code",
   "execution_count": 56,
   "metadata": {},
   "outputs": [
    {
     "name": "stdout",
     "output_type": "stream",
     "text": [
      "h1n1_concern: 0.023370903514746022\n",
      "h1n1_knowledge: 0.021513097658525982\n",
      "behavioral_antiviral_meds: 0.02515925223712459\n",
      "behavioral_avoidance: 0.026331528232112086\n",
      "behavioral_face_mask: 0.024464982325683216\n",
      "behavioral_wash_hands: 0.023006044339270323\n",
      "behavioral_large_gatherings: 0.014933205521961104\n",
      "behavioral_outside_home: 0.024896240667290955\n",
      "behavioral_touch_face: 0.0233843882484714\n",
      "doctor_recc_h1n1: 0.011797715230214898\n",
      "doctor_recc_seasonal: 0.009982718710042778\n",
      "chronic_med_condition: 0.010340140095338868\n",
      "child_under_6_months: 0.026033965888544643\n",
      "health_worker: 0.024943174273378475\n",
      "health_insurance: 0.02385621193520964\n",
      "opinion_h1n1_vacc_effective: 0.024494650697892723\n",
      "opinion_h1n1_risk: 0.018980615576611074\n",
      "opinion_h1n1_sick_from_vacc: 0.011529556431678672\n",
      "opinion_seas_vacc_effective: 0.022422739355004388\n",
      "opinion_seas_risk: 0.02092722268826208\n",
      "opinion_seas_sick_from_vacc: 0.016499725551330342\n",
      "age_group: 0.01783462581858996\n",
      "education: 0.010026689121344998\n",
      "race: 0.013443717084201896\n",
      "sex: 0.00941764348741642\n",
      "income_poverty: 0.017000255409979938\n",
      "marital_status: 0.026058954518850683\n",
      "rent_or_own: 0.012631260843231835\n",
      "employment_status: 0.024708261673528586\n",
      "hhs_geo_region: 0.02228284621374724\n",
      "census_msa: 0.01859295403120869\n",
      "household_adults: 0.032128532263813646\n",
      "household_children: 0.01717780375523191\n",
      "employment_industry: 0.0219991148084107\n",
      "employment_occupation: 0.02206826076110034\n"
     ]
    }
   ],
   "source": [
    "# Get the feature importances\n",
    "importances = RF.feature_importances_\n",
    "\n",
    "# Print the feature importances\n",
    "for feature, importance in zip(X.columns, importances):\n",
    "    print(f\"{feature}: {importance}\")\n",
    "    \n",
    "# # Calculate total importances\n",
    "# total_importance = sum(importances)\n",
    "\n",
    "# # Print the feature importances as percentages\n",
    "# for feature, importance in zip(X.columns, importances):\n",
    "#     importance_percentage = (importance / total_importance) * 100\n",
    "#     print(f\"{feature}: {importance_percentage:.2f}%\")"
   ]
  },
  {
   "cell_type": "markdown",
   "metadata": {},
   "source": [
    "# Hyperparameter Tuning for our Random Forest model"
   ]
  },
  {
   "cell_type": "code",
   "execution_count": 57,
   "metadata": {},
   "outputs": [
    {
     "name": "stdout",
     "output_type": "stream",
     "text": [
      "Fitting 5 folds for each of 162 candidates, totalling 810 fits\n"
     ]
    },
    {
     "name": "stderr",
     "output_type": "stream",
     "text": [
      "[Parallel(n_jobs=1)]: Using backend SequentialBackend with 1 concurrent workers.\n"
     ]
    },
    {
     "ename": "KeyboardInterrupt",
     "evalue": "",
     "output_type": "error",
     "traceback": [
      "\u001b[1;31m---------------------------------------------------------------------------\u001b[0m",
      "\u001b[1;31mKeyboardInterrupt\u001b[0m                         Traceback (most recent call last)",
      "\u001b[1;32m<ipython-input-57-c009a32526a2>\u001b[0m in \u001b[0;36m<module>\u001b[1;34m\u001b[0m\n\u001b[0;32m     12\u001b[0m \u001b[1;33m\u001b[0m\u001b[0m\n\u001b[0;32m     13\u001b[0m \u001b[1;31m# Train and evaluate the model with grid search\u001b[0m\u001b[1;33m\u001b[0m\u001b[1;33m\u001b[0m\u001b[1;33m\u001b[0m\u001b[0m\n\u001b[1;32m---> 14\u001b[1;33m \u001b[0mtrain_and_evaluate_model\u001b[0m\u001b[1;33m(\u001b[0m\u001b[0mX\u001b[0m\u001b[1;33m,\u001b[0m \u001b[0my\u001b[0m\u001b[1;33m,\u001b[0m \u001b[0mRF_tuned\u001b[0m\u001b[1;33m,\u001b[0m \u001b[0mparam_grid\u001b[0m\u001b[1;33m)\u001b[0m\u001b[1;33m\u001b[0m\u001b[1;33m\u001b[0m\u001b[0m\n\u001b[0m",
      "\u001b[1;32m<ipython-input-50-688b1762cb1f>\u001b[0m in \u001b[0;36mtrain_and_evaluate_model\u001b[1;34m(X, y, model, param_grid)\u001b[0m\n\u001b[0;32m     73\u001b[0m             \u001b[1;31m# Create the GridSearchCV object\u001b[0m\u001b[1;33m\u001b[0m\u001b[1;33m\u001b[0m\u001b[1;33m\u001b[0m\u001b[0m\n\u001b[0;32m     74\u001b[0m             \u001b[0mgrid_search\u001b[0m \u001b[1;33m=\u001b[0m \u001b[0mGridSearchCV\u001b[0m\u001b[1;33m(\u001b[0m\u001b[0mmodel\u001b[0m\u001b[1;33m,\u001b[0m \u001b[0mparam_grid\u001b[0m\u001b[1;33m,\u001b[0m \u001b[0mcv\u001b[0m\u001b[1;33m=\u001b[0m\u001b[1;36m5\u001b[0m\u001b[1;33m,\u001b[0m \u001b[0mscoring\u001b[0m\u001b[1;33m=\u001b[0m\u001b[1;34m'f1'\u001b[0m\u001b[1;33m,\u001b[0m \u001b[0mverbose\u001b[0m\u001b[1;33m=\u001b[0m\u001b[1;36m1\u001b[0m\u001b[1;33m)\u001b[0m\u001b[1;33m\u001b[0m\u001b[1;33m\u001b[0m\u001b[0m\n\u001b[1;32m---> 75\u001b[1;33m             \u001b[0mgrid_search\u001b[0m\u001b[1;33m.\u001b[0m\u001b[0mfit\u001b[0m\u001b[1;33m(\u001b[0m\u001b[0mX_train_smote_scaled\u001b[0m\u001b[1;33m,\u001b[0m \u001b[0my_train_smote\u001b[0m\u001b[1;33m)\u001b[0m\u001b[1;33m\u001b[0m\u001b[1;33m\u001b[0m\u001b[0m\n\u001b[0m\u001b[0;32m     76\u001b[0m \u001b[1;33m\u001b[0m\u001b[0m\n\u001b[0;32m     77\u001b[0m             \u001b[1;31m# Use the best model from the grid search\u001b[0m\u001b[1;33m\u001b[0m\u001b[1;33m\u001b[0m\u001b[1;33m\u001b[0m\u001b[0m\n",
      "\u001b[1;32m~\\anaconda3\\envs\\learn-env\\lib\\site-packages\\sklearn\\utils\\validation.py\u001b[0m in \u001b[0;36minner_f\u001b[1;34m(*args, **kwargs)\u001b[0m\n\u001b[0;32m     70\u001b[0m                           FutureWarning)\n\u001b[0;32m     71\u001b[0m         \u001b[0mkwargs\u001b[0m\u001b[1;33m.\u001b[0m\u001b[0mupdate\u001b[0m\u001b[1;33m(\u001b[0m\u001b[1;33m{\u001b[0m\u001b[0mk\u001b[0m\u001b[1;33m:\u001b[0m \u001b[0marg\u001b[0m \u001b[1;32mfor\u001b[0m \u001b[0mk\u001b[0m\u001b[1;33m,\u001b[0m \u001b[0marg\u001b[0m \u001b[1;32min\u001b[0m \u001b[0mzip\u001b[0m\u001b[1;33m(\u001b[0m\u001b[0msig\u001b[0m\u001b[1;33m.\u001b[0m\u001b[0mparameters\u001b[0m\u001b[1;33m,\u001b[0m \u001b[0margs\u001b[0m\u001b[1;33m)\u001b[0m\u001b[1;33m}\u001b[0m\u001b[1;33m)\u001b[0m\u001b[1;33m\u001b[0m\u001b[1;33m\u001b[0m\u001b[0m\n\u001b[1;32m---> 72\u001b[1;33m         \u001b[1;32mreturn\u001b[0m \u001b[0mf\u001b[0m\u001b[1;33m(\u001b[0m\u001b[1;33m**\u001b[0m\u001b[0mkwargs\u001b[0m\u001b[1;33m)\u001b[0m\u001b[1;33m\u001b[0m\u001b[1;33m\u001b[0m\u001b[0m\n\u001b[0m\u001b[0;32m     73\u001b[0m     \u001b[1;32mreturn\u001b[0m \u001b[0minner_f\u001b[0m\u001b[1;33m\u001b[0m\u001b[1;33m\u001b[0m\u001b[0m\n\u001b[0;32m     74\u001b[0m \u001b[1;33m\u001b[0m\u001b[0m\n",
      "\u001b[1;32m~\\anaconda3\\envs\\learn-env\\lib\\site-packages\\sklearn\\model_selection\\_search.py\u001b[0m in \u001b[0;36mfit\u001b[1;34m(self, X, y, groups, **fit_params)\u001b[0m\n\u001b[0;32m    734\u001b[0m                 \u001b[1;32mreturn\u001b[0m \u001b[0mresults\u001b[0m\u001b[1;33m\u001b[0m\u001b[1;33m\u001b[0m\u001b[0m\n\u001b[0;32m    735\u001b[0m \u001b[1;33m\u001b[0m\u001b[0m\n\u001b[1;32m--> 736\u001b[1;33m             \u001b[0mself\u001b[0m\u001b[1;33m.\u001b[0m\u001b[0m_run_search\u001b[0m\u001b[1;33m(\u001b[0m\u001b[0mevaluate_candidates\u001b[0m\u001b[1;33m)\u001b[0m\u001b[1;33m\u001b[0m\u001b[1;33m\u001b[0m\u001b[0m\n\u001b[0m\u001b[0;32m    737\u001b[0m \u001b[1;33m\u001b[0m\u001b[0m\n\u001b[0;32m    738\u001b[0m         \u001b[1;31m# For multi-metric evaluation, store the best_index_, best_params_ and\u001b[0m\u001b[1;33m\u001b[0m\u001b[1;33m\u001b[0m\u001b[1;33m\u001b[0m\u001b[0m\n",
      "\u001b[1;32m~\\anaconda3\\envs\\learn-env\\lib\\site-packages\\sklearn\\model_selection\\_search.py\u001b[0m in \u001b[0;36m_run_search\u001b[1;34m(self, evaluate_candidates)\u001b[0m\n\u001b[0;32m   1186\u001b[0m     \u001b[1;32mdef\u001b[0m \u001b[0m_run_search\u001b[0m\u001b[1;33m(\u001b[0m\u001b[0mself\u001b[0m\u001b[1;33m,\u001b[0m \u001b[0mevaluate_candidates\u001b[0m\u001b[1;33m)\u001b[0m\u001b[1;33m:\u001b[0m\u001b[1;33m\u001b[0m\u001b[1;33m\u001b[0m\u001b[0m\n\u001b[0;32m   1187\u001b[0m         \u001b[1;34m\"\"\"Search all candidates in param_grid\"\"\"\u001b[0m\u001b[1;33m\u001b[0m\u001b[1;33m\u001b[0m\u001b[0m\n\u001b[1;32m-> 1188\u001b[1;33m         \u001b[0mevaluate_candidates\u001b[0m\u001b[1;33m(\u001b[0m\u001b[0mParameterGrid\u001b[0m\u001b[1;33m(\u001b[0m\u001b[0mself\u001b[0m\u001b[1;33m.\u001b[0m\u001b[0mparam_grid\u001b[0m\u001b[1;33m)\u001b[0m\u001b[1;33m)\u001b[0m\u001b[1;33m\u001b[0m\u001b[1;33m\u001b[0m\u001b[0m\n\u001b[0m\u001b[0;32m   1189\u001b[0m \u001b[1;33m\u001b[0m\u001b[0m\n\u001b[0;32m   1190\u001b[0m \u001b[1;33m\u001b[0m\u001b[0m\n",
      "\u001b[1;32m~\\anaconda3\\envs\\learn-env\\lib\\site-packages\\sklearn\\model_selection\\_search.py\u001b[0m in \u001b[0;36mevaluate_candidates\u001b[1;34m(candidate_params)\u001b[0m\n\u001b[0;32m    706\u001b[0m                               n_splits, n_candidates, n_candidates * n_splits))\n\u001b[0;32m    707\u001b[0m \u001b[1;33m\u001b[0m\u001b[0m\n\u001b[1;32m--> 708\u001b[1;33m                 out = parallel(delayed(_fit_and_score)(clone(base_estimator),\n\u001b[0m\u001b[0;32m    709\u001b[0m                                                        \u001b[0mX\u001b[0m\u001b[1;33m,\u001b[0m \u001b[0my\u001b[0m\u001b[1;33m,\u001b[0m\u001b[1;33m\u001b[0m\u001b[1;33m\u001b[0m\u001b[0m\n\u001b[0;32m    710\u001b[0m                                                        \u001b[0mtrain\u001b[0m\u001b[1;33m=\u001b[0m\u001b[0mtrain\u001b[0m\u001b[1;33m,\u001b[0m \u001b[0mtest\u001b[0m\u001b[1;33m=\u001b[0m\u001b[0mtest\u001b[0m\u001b[1;33m,\u001b[0m\u001b[1;33m\u001b[0m\u001b[1;33m\u001b[0m\u001b[0m\n",
      "\u001b[1;32m~\\anaconda3\\envs\\learn-env\\lib\\site-packages\\joblib\\parallel.py\u001b[0m in \u001b[0;36m__call__\u001b[1;34m(self, iterable)\u001b[0m\n\u001b[0;32m   1049\u001b[0m                 \u001b[0mself\u001b[0m\u001b[1;33m.\u001b[0m\u001b[0m_iterating\u001b[0m \u001b[1;33m=\u001b[0m \u001b[0mself\u001b[0m\u001b[1;33m.\u001b[0m\u001b[0m_original_iterator\u001b[0m \u001b[1;32mis\u001b[0m \u001b[1;32mnot\u001b[0m \u001b[1;32mNone\u001b[0m\u001b[1;33m\u001b[0m\u001b[1;33m\u001b[0m\u001b[0m\n\u001b[0;32m   1050\u001b[0m \u001b[1;33m\u001b[0m\u001b[0m\n\u001b[1;32m-> 1051\u001b[1;33m             \u001b[1;32mwhile\u001b[0m \u001b[0mself\u001b[0m\u001b[1;33m.\u001b[0m\u001b[0mdispatch_one_batch\u001b[0m\u001b[1;33m(\u001b[0m\u001b[0miterator\u001b[0m\u001b[1;33m)\u001b[0m\u001b[1;33m:\u001b[0m\u001b[1;33m\u001b[0m\u001b[1;33m\u001b[0m\u001b[0m\n\u001b[0m\u001b[0;32m   1052\u001b[0m                 \u001b[1;32mpass\u001b[0m\u001b[1;33m\u001b[0m\u001b[1;33m\u001b[0m\u001b[0m\n\u001b[0;32m   1053\u001b[0m \u001b[1;33m\u001b[0m\u001b[0m\n",
      "\u001b[1;32m~\\anaconda3\\envs\\learn-env\\lib\\site-packages\\joblib\\parallel.py\u001b[0m in \u001b[0;36mdispatch_one_batch\u001b[1;34m(self, iterator)\u001b[0m\n\u001b[0;32m    864\u001b[0m                 \u001b[1;32mreturn\u001b[0m \u001b[1;32mFalse\u001b[0m\u001b[1;33m\u001b[0m\u001b[1;33m\u001b[0m\u001b[0m\n\u001b[0;32m    865\u001b[0m             \u001b[1;32melse\u001b[0m\u001b[1;33m:\u001b[0m\u001b[1;33m\u001b[0m\u001b[1;33m\u001b[0m\u001b[0m\n\u001b[1;32m--> 866\u001b[1;33m                 \u001b[0mself\u001b[0m\u001b[1;33m.\u001b[0m\u001b[0m_dispatch\u001b[0m\u001b[1;33m(\u001b[0m\u001b[0mtasks\u001b[0m\u001b[1;33m)\u001b[0m\u001b[1;33m\u001b[0m\u001b[1;33m\u001b[0m\u001b[0m\n\u001b[0m\u001b[0;32m    867\u001b[0m                 \u001b[1;32mreturn\u001b[0m \u001b[1;32mTrue\u001b[0m\u001b[1;33m\u001b[0m\u001b[1;33m\u001b[0m\u001b[0m\n\u001b[0;32m    868\u001b[0m \u001b[1;33m\u001b[0m\u001b[0m\n",
      "\u001b[1;32m~\\anaconda3\\envs\\learn-env\\lib\\site-packages\\joblib\\parallel.py\u001b[0m in \u001b[0;36m_dispatch\u001b[1;34m(self, batch)\u001b[0m\n\u001b[0;32m    782\u001b[0m         \u001b[1;32mwith\u001b[0m \u001b[0mself\u001b[0m\u001b[1;33m.\u001b[0m\u001b[0m_lock\u001b[0m\u001b[1;33m:\u001b[0m\u001b[1;33m\u001b[0m\u001b[1;33m\u001b[0m\u001b[0m\n\u001b[0;32m    783\u001b[0m             \u001b[0mjob_idx\u001b[0m \u001b[1;33m=\u001b[0m \u001b[0mlen\u001b[0m\u001b[1;33m(\u001b[0m\u001b[0mself\u001b[0m\u001b[1;33m.\u001b[0m\u001b[0m_jobs\u001b[0m\u001b[1;33m)\u001b[0m\u001b[1;33m\u001b[0m\u001b[1;33m\u001b[0m\u001b[0m\n\u001b[1;32m--> 784\u001b[1;33m             \u001b[0mjob\u001b[0m \u001b[1;33m=\u001b[0m \u001b[0mself\u001b[0m\u001b[1;33m.\u001b[0m\u001b[0m_backend\u001b[0m\u001b[1;33m.\u001b[0m\u001b[0mapply_async\u001b[0m\u001b[1;33m(\u001b[0m\u001b[0mbatch\u001b[0m\u001b[1;33m,\u001b[0m \u001b[0mcallback\u001b[0m\u001b[1;33m=\u001b[0m\u001b[0mcb\u001b[0m\u001b[1;33m)\u001b[0m\u001b[1;33m\u001b[0m\u001b[1;33m\u001b[0m\u001b[0m\n\u001b[0m\u001b[0;32m    785\u001b[0m             \u001b[1;31m# A job can complete so quickly than its callback is\u001b[0m\u001b[1;33m\u001b[0m\u001b[1;33m\u001b[0m\u001b[1;33m\u001b[0m\u001b[0m\n\u001b[0;32m    786\u001b[0m             \u001b[1;31m# called before we get here, causing self._jobs to\u001b[0m\u001b[1;33m\u001b[0m\u001b[1;33m\u001b[0m\u001b[1;33m\u001b[0m\u001b[0m\n",
      "\u001b[1;32m~\\anaconda3\\envs\\learn-env\\lib\\site-packages\\joblib\\_parallel_backends.py\u001b[0m in \u001b[0;36mapply_async\u001b[1;34m(self, func, callback)\u001b[0m\n\u001b[0;32m    206\u001b[0m     \u001b[1;32mdef\u001b[0m \u001b[0mapply_async\u001b[0m\u001b[1;33m(\u001b[0m\u001b[0mself\u001b[0m\u001b[1;33m,\u001b[0m \u001b[0mfunc\u001b[0m\u001b[1;33m,\u001b[0m \u001b[0mcallback\u001b[0m\u001b[1;33m=\u001b[0m\u001b[1;32mNone\u001b[0m\u001b[1;33m)\u001b[0m\u001b[1;33m:\u001b[0m\u001b[1;33m\u001b[0m\u001b[1;33m\u001b[0m\u001b[0m\n\u001b[0;32m    207\u001b[0m         \u001b[1;34m\"\"\"Schedule a func to be run\"\"\"\u001b[0m\u001b[1;33m\u001b[0m\u001b[1;33m\u001b[0m\u001b[0m\n\u001b[1;32m--> 208\u001b[1;33m         \u001b[0mresult\u001b[0m \u001b[1;33m=\u001b[0m \u001b[0mImmediateResult\u001b[0m\u001b[1;33m(\u001b[0m\u001b[0mfunc\u001b[0m\u001b[1;33m)\u001b[0m\u001b[1;33m\u001b[0m\u001b[1;33m\u001b[0m\u001b[0m\n\u001b[0m\u001b[0;32m    209\u001b[0m         \u001b[1;32mif\u001b[0m \u001b[0mcallback\u001b[0m\u001b[1;33m:\u001b[0m\u001b[1;33m\u001b[0m\u001b[1;33m\u001b[0m\u001b[0m\n\u001b[0;32m    210\u001b[0m             \u001b[0mcallback\u001b[0m\u001b[1;33m(\u001b[0m\u001b[0mresult\u001b[0m\u001b[1;33m)\u001b[0m\u001b[1;33m\u001b[0m\u001b[1;33m\u001b[0m\u001b[0m\n",
      "\u001b[1;32m~\\anaconda3\\envs\\learn-env\\lib\\site-packages\\joblib\\_parallel_backends.py\u001b[0m in \u001b[0;36m__init__\u001b[1;34m(self, batch)\u001b[0m\n\u001b[0;32m    570\u001b[0m         \u001b[1;31m# Don't delay the application, to avoid keeping the input\u001b[0m\u001b[1;33m\u001b[0m\u001b[1;33m\u001b[0m\u001b[1;33m\u001b[0m\u001b[0m\n\u001b[0;32m    571\u001b[0m         \u001b[1;31m# arguments in memory\u001b[0m\u001b[1;33m\u001b[0m\u001b[1;33m\u001b[0m\u001b[1;33m\u001b[0m\u001b[0m\n\u001b[1;32m--> 572\u001b[1;33m         \u001b[0mself\u001b[0m\u001b[1;33m.\u001b[0m\u001b[0mresults\u001b[0m \u001b[1;33m=\u001b[0m \u001b[0mbatch\u001b[0m\u001b[1;33m(\u001b[0m\u001b[1;33m)\u001b[0m\u001b[1;33m\u001b[0m\u001b[1;33m\u001b[0m\u001b[0m\n\u001b[0m\u001b[0;32m    573\u001b[0m \u001b[1;33m\u001b[0m\u001b[0m\n\u001b[0;32m    574\u001b[0m     \u001b[1;32mdef\u001b[0m \u001b[0mget\u001b[0m\u001b[1;33m(\u001b[0m\u001b[0mself\u001b[0m\u001b[1;33m)\u001b[0m\u001b[1;33m:\u001b[0m\u001b[1;33m\u001b[0m\u001b[1;33m\u001b[0m\u001b[0m\n",
      "\u001b[1;32m~\\anaconda3\\envs\\learn-env\\lib\\site-packages\\joblib\\parallel.py\u001b[0m in \u001b[0;36m__call__\u001b[1;34m(self)\u001b[0m\n\u001b[0;32m    260\u001b[0m         \u001b[1;31m# change the default number of processes to -1\u001b[0m\u001b[1;33m\u001b[0m\u001b[1;33m\u001b[0m\u001b[1;33m\u001b[0m\u001b[0m\n\u001b[0;32m    261\u001b[0m         \u001b[1;32mwith\u001b[0m \u001b[0mparallel_backend\u001b[0m\u001b[1;33m(\u001b[0m\u001b[0mself\u001b[0m\u001b[1;33m.\u001b[0m\u001b[0m_backend\u001b[0m\u001b[1;33m,\u001b[0m \u001b[0mn_jobs\u001b[0m\u001b[1;33m=\u001b[0m\u001b[0mself\u001b[0m\u001b[1;33m.\u001b[0m\u001b[0m_n_jobs\u001b[0m\u001b[1;33m)\u001b[0m\u001b[1;33m:\u001b[0m\u001b[1;33m\u001b[0m\u001b[1;33m\u001b[0m\u001b[0m\n\u001b[1;32m--> 262\u001b[1;33m             return [func(*args, **kwargs)\n\u001b[0m\u001b[0;32m    263\u001b[0m                     for func, args, kwargs in self.items]\n\u001b[0;32m    264\u001b[0m \u001b[1;33m\u001b[0m\u001b[0m\n",
      "\u001b[1;32m~\\anaconda3\\envs\\learn-env\\lib\\site-packages\\joblib\\parallel.py\u001b[0m in \u001b[0;36m<listcomp>\u001b[1;34m(.0)\u001b[0m\n\u001b[0;32m    260\u001b[0m         \u001b[1;31m# change the default number of processes to -1\u001b[0m\u001b[1;33m\u001b[0m\u001b[1;33m\u001b[0m\u001b[1;33m\u001b[0m\u001b[0m\n\u001b[0;32m    261\u001b[0m         \u001b[1;32mwith\u001b[0m \u001b[0mparallel_backend\u001b[0m\u001b[1;33m(\u001b[0m\u001b[0mself\u001b[0m\u001b[1;33m.\u001b[0m\u001b[0m_backend\u001b[0m\u001b[1;33m,\u001b[0m \u001b[0mn_jobs\u001b[0m\u001b[1;33m=\u001b[0m\u001b[0mself\u001b[0m\u001b[1;33m.\u001b[0m\u001b[0m_n_jobs\u001b[0m\u001b[1;33m)\u001b[0m\u001b[1;33m:\u001b[0m\u001b[1;33m\u001b[0m\u001b[1;33m\u001b[0m\u001b[0m\n\u001b[1;32m--> 262\u001b[1;33m             return [func(*args, **kwargs)\n\u001b[0m\u001b[0;32m    263\u001b[0m                     for func, args, kwargs in self.items]\n\u001b[0;32m    264\u001b[0m \u001b[1;33m\u001b[0m\u001b[0m\n",
      "\u001b[1;32m~\\anaconda3\\envs\\learn-env\\lib\\site-packages\\sklearn\\model_selection\\_validation.py\u001b[0m in \u001b[0;36m_fit_and_score\u001b[1;34m(estimator, X, y, scorer, train, test, verbose, parameters, fit_params, return_train_score, return_parameters, return_n_test_samples, return_times, return_estimator, error_score)\u001b[0m\n\u001b[0;32m    529\u001b[0m             \u001b[0mestimator\u001b[0m\u001b[1;33m.\u001b[0m\u001b[0mfit\u001b[0m\u001b[1;33m(\u001b[0m\u001b[0mX_train\u001b[0m\u001b[1;33m,\u001b[0m \u001b[1;33m**\u001b[0m\u001b[0mfit_params\u001b[0m\u001b[1;33m)\u001b[0m\u001b[1;33m\u001b[0m\u001b[1;33m\u001b[0m\u001b[0m\n\u001b[0;32m    530\u001b[0m         \u001b[1;32melse\u001b[0m\u001b[1;33m:\u001b[0m\u001b[1;33m\u001b[0m\u001b[1;33m\u001b[0m\u001b[0m\n\u001b[1;32m--> 531\u001b[1;33m             \u001b[0mestimator\u001b[0m\u001b[1;33m.\u001b[0m\u001b[0mfit\u001b[0m\u001b[1;33m(\u001b[0m\u001b[0mX_train\u001b[0m\u001b[1;33m,\u001b[0m \u001b[0my_train\u001b[0m\u001b[1;33m,\u001b[0m \u001b[1;33m**\u001b[0m\u001b[0mfit_params\u001b[0m\u001b[1;33m)\u001b[0m\u001b[1;33m\u001b[0m\u001b[1;33m\u001b[0m\u001b[0m\n\u001b[0m\u001b[0;32m    532\u001b[0m \u001b[1;33m\u001b[0m\u001b[0m\n\u001b[0;32m    533\u001b[0m     \u001b[1;32mexcept\u001b[0m \u001b[0mException\u001b[0m \u001b[1;32mas\u001b[0m \u001b[0me\u001b[0m\u001b[1;33m:\u001b[0m\u001b[1;33m\u001b[0m\u001b[1;33m\u001b[0m\u001b[0m\n",
      "\u001b[1;32m~\\anaconda3\\envs\\learn-env\\lib\\site-packages\\sklearn\\ensemble\\_forest.py\u001b[0m in \u001b[0;36mfit\u001b[1;34m(self, X, y, sample_weight)\u001b[0m\n\u001b[0;32m    384\u001b[0m             \u001b[1;31m# parallel_backend contexts set at a higher level,\u001b[0m\u001b[1;33m\u001b[0m\u001b[1;33m\u001b[0m\u001b[1;33m\u001b[0m\u001b[0m\n\u001b[0;32m    385\u001b[0m             \u001b[1;31m# since correctness does not rely on using threads.\u001b[0m\u001b[1;33m\u001b[0m\u001b[1;33m\u001b[0m\u001b[1;33m\u001b[0m\u001b[0m\n\u001b[1;32m--> 386\u001b[1;33m             trees = Parallel(n_jobs=self.n_jobs, verbose=self.verbose,\n\u001b[0m\u001b[0;32m    387\u001b[0m                              \u001b[1;33m**\u001b[0m\u001b[0m_joblib_parallel_args\u001b[0m\u001b[1;33m(\u001b[0m\u001b[0mprefer\u001b[0m\u001b[1;33m=\u001b[0m\u001b[1;34m'threads'\u001b[0m\u001b[1;33m)\u001b[0m\u001b[1;33m)\u001b[0m\u001b[1;33m(\u001b[0m\u001b[1;33m\u001b[0m\u001b[1;33m\u001b[0m\u001b[0m\n\u001b[0;32m    388\u001b[0m                 delayed(_parallel_build_trees)(\n",
      "\u001b[1;32m~\\anaconda3\\envs\\learn-env\\lib\\site-packages\\joblib\\parallel.py\u001b[0m in \u001b[0;36m__call__\u001b[1;34m(self, iterable)\u001b[0m\n\u001b[0;32m   1049\u001b[0m                 \u001b[0mself\u001b[0m\u001b[1;33m.\u001b[0m\u001b[0m_iterating\u001b[0m \u001b[1;33m=\u001b[0m \u001b[0mself\u001b[0m\u001b[1;33m.\u001b[0m\u001b[0m_original_iterator\u001b[0m \u001b[1;32mis\u001b[0m \u001b[1;32mnot\u001b[0m \u001b[1;32mNone\u001b[0m\u001b[1;33m\u001b[0m\u001b[1;33m\u001b[0m\u001b[0m\n\u001b[0;32m   1050\u001b[0m \u001b[1;33m\u001b[0m\u001b[0m\n\u001b[1;32m-> 1051\u001b[1;33m             \u001b[1;32mwhile\u001b[0m \u001b[0mself\u001b[0m\u001b[1;33m.\u001b[0m\u001b[0mdispatch_one_batch\u001b[0m\u001b[1;33m(\u001b[0m\u001b[0miterator\u001b[0m\u001b[1;33m)\u001b[0m\u001b[1;33m:\u001b[0m\u001b[1;33m\u001b[0m\u001b[1;33m\u001b[0m\u001b[0m\n\u001b[0m\u001b[0;32m   1052\u001b[0m                 \u001b[1;32mpass\u001b[0m\u001b[1;33m\u001b[0m\u001b[1;33m\u001b[0m\u001b[0m\n\u001b[0;32m   1053\u001b[0m \u001b[1;33m\u001b[0m\u001b[0m\n",
      "\u001b[1;32m~\\anaconda3\\envs\\learn-env\\lib\\site-packages\\joblib\\parallel.py\u001b[0m in \u001b[0;36mdispatch_one_batch\u001b[1;34m(self, iterator)\u001b[0m\n\u001b[0;32m    864\u001b[0m                 \u001b[1;32mreturn\u001b[0m \u001b[1;32mFalse\u001b[0m\u001b[1;33m\u001b[0m\u001b[1;33m\u001b[0m\u001b[0m\n\u001b[0;32m    865\u001b[0m             \u001b[1;32melse\u001b[0m\u001b[1;33m:\u001b[0m\u001b[1;33m\u001b[0m\u001b[1;33m\u001b[0m\u001b[0m\n\u001b[1;32m--> 866\u001b[1;33m                 \u001b[0mself\u001b[0m\u001b[1;33m.\u001b[0m\u001b[0m_dispatch\u001b[0m\u001b[1;33m(\u001b[0m\u001b[0mtasks\u001b[0m\u001b[1;33m)\u001b[0m\u001b[1;33m\u001b[0m\u001b[1;33m\u001b[0m\u001b[0m\n\u001b[0m\u001b[0;32m    867\u001b[0m                 \u001b[1;32mreturn\u001b[0m \u001b[1;32mTrue\u001b[0m\u001b[1;33m\u001b[0m\u001b[1;33m\u001b[0m\u001b[0m\n\u001b[0;32m    868\u001b[0m \u001b[1;33m\u001b[0m\u001b[0m\n",
      "\u001b[1;32m~\\anaconda3\\envs\\learn-env\\lib\\site-packages\\joblib\\parallel.py\u001b[0m in \u001b[0;36m_dispatch\u001b[1;34m(self, batch)\u001b[0m\n\u001b[0;32m    782\u001b[0m         \u001b[1;32mwith\u001b[0m \u001b[0mself\u001b[0m\u001b[1;33m.\u001b[0m\u001b[0m_lock\u001b[0m\u001b[1;33m:\u001b[0m\u001b[1;33m\u001b[0m\u001b[1;33m\u001b[0m\u001b[0m\n\u001b[0;32m    783\u001b[0m             \u001b[0mjob_idx\u001b[0m \u001b[1;33m=\u001b[0m \u001b[0mlen\u001b[0m\u001b[1;33m(\u001b[0m\u001b[0mself\u001b[0m\u001b[1;33m.\u001b[0m\u001b[0m_jobs\u001b[0m\u001b[1;33m)\u001b[0m\u001b[1;33m\u001b[0m\u001b[1;33m\u001b[0m\u001b[0m\n\u001b[1;32m--> 784\u001b[1;33m             \u001b[0mjob\u001b[0m \u001b[1;33m=\u001b[0m \u001b[0mself\u001b[0m\u001b[1;33m.\u001b[0m\u001b[0m_backend\u001b[0m\u001b[1;33m.\u001b[0m\u001b[0mapply_async\u001b[0m\u001b[1;33m(\u001b[0m\u001b[0mbatch\u001b[0m\u001b[1;33m,\u001b[0m \u001b[0mcallback\u001b[0m\u001b[1;33m=\u001b[0m\u001b[0mcb\u001b[0m\u001b[1;33m)\u001b[0m\u001b[1;33m\u001b[0m\u001b[1;33m\u001b[0m\u001b[0m\n\u001b[0m\u001b[0;32m    785\u001b[0m             \u001b[1;31m# A job can complete so quickly than its callback is\u001b[0m\u001b[1;33m\u001b[0m\u001b[1;33m\u001b[0m\u001b[1;33m\u001b[0m\u001b[0m\n\u001b[0;32m    786\u001b[0m             \u001b[1;31m# called before we get here, causing self._jobs to\u001b[0m\u001b[1;33m\u001b[0m\u001b[1;33m\u001b[0m\u001b[1;33m\u001b[0m\u001b[0m\n",
      "\u001b[1;32m~\\anaconda3\\envs\\learn-env\\lib\\site-packages\\joblib\\_parallel_backends.py\u001b[0m in \u001b[0;36mapply_async\u001b[1;34m(self, func, callback)\u001b[0m\n\u001b[0;32m    206\u001b[0m     \u001b[1;32mdef\u001b[0m \u001b[0mapply_async\u001b[0m\u001b[1;33m(\u001b[0m\u001b[0mself\u001b[0m\u001b[1;33m,\u001b[0m \u001b[0mfunc\u001b[0m\u001b[1;33m,\u001b[0m \u001b[0mcallback\u001b[0m\u001b[1;33m=\u001b[0m\u001b[1;32mNone\u001b[0m\u001b[1;33m)\u001b[0m\u001b[1;33m:\u001b[0m\u001b[1;33m\u001b[0m\u001b[1;33m\u001b[0m\u001b[0m\n\u001b[0;32m    207\u001b[0m         \u001b[1;34m\"\"\"Schedule a func to be run\"\"\"\u001b[0m\u001b[1;33m\u001b[0m\u001b[1;33m\u001b[0m\u001b[0m\n\u001b[1;32m--> 208\u001b[1;33m         \u001b[0mresult\u001b[0m \u001b[1;33m=\u001b[0m \u001b[0mImmediateResult\u001b[0m\u001b[1;33m(\u001b[0m\u001b[0mfunc\u001b[0m\u001b[1;33m)\u001b[0m\u001b[1;33m\u001b[0m\u001b[1;33m\u001b[0m\u001b[0m\n\u001b[0m\u001b[0;32m    209\u001b[0m         \u001b[1;32mif\u001b[0m \u001b[0mcallback\u001b[0m\u001b[1;33m:\u001b[0m\u001b[1;33m\u001b[0m\u001b[1;33m\u001b[0m\u001b[0m\n\u001b[0;32m    210\u001b[0m             \u001b[0mcallback\u001b[0m\u001b[1;33m(\u001b[0m\u001b[0mresult\u001b[0m\u001b[1;33m)\u001b[0m\u001b[1;33m\u001b[0m\u001b[1;33m\u001b[0m\u001b[0m\n",
      "\u001b[1;32m~\\anaconda3\\envs\\learn-env\\lib\\site-packages\\joblib\\_parallel_backends.py\u001b[0m in \u001b[0;36m__init__\u001b[1;34m(self, batch)\u001b[0m\n\u001b[0;32m    570\u001b[0m         \u001b[1;31m# Don't delay the application, to avoid keeping the input\u001b[0m\u001b[1;33m\u001b[0m\u001b[1;33m\u001b[0m\u001b[1;33m\u001b[0m\u001b[0m\n\u001b[0;32m    571\u001b[0m         \u001b[1;31m# arguments in memory\u001b[0m\u001b[1;33m\u001b[0m\u001b[1;33m\u001b[0m\u001b[1;33m\u001b[0m\u001b[0m\n\u001b[1;32m--> 572\u001b[1;33m         \u001b[0mself\u001b[0m\u001b[1;33m.\u001b[0m\u001b[0mresults\u001b[0m \u001b[1;33m=\u001b[0m \u001b[0mbatch\u001b[0m\u001b[1;33m(\u001b[0m\u001b[1;33m)\u001b[0m\u001b[1;33m\u001b[0m\u001b[1;33m\u001b[0m\u001b[0m\n\u001b[0m\u001b[0;32m    573\u001b[0m \u001b[1;33m\u001b[0m\u001b[0m\n\u001b[0;32m    574\u001b[0m     \u001b[1;32mdef\u001b[0m \u001b[0mget\u001b[0m\u001b[1;33m(\u001b[0m\u001b[0mself\u001b[0m\u001b[1;33m)\u001b[0m\u001b[1;33m:\u001b[0m\u001b[1;33m\u001b[0m\u001b[1;33m\u001b[0m\u001b[0m\n",
      "\u001b[1;32m~\\anaconda3\\envs\\learn-env\\lib\\site-packages\\joblib\\parallel.py\u001b[0m in \u001b[0;36m__call__\u001b[1;34m(self)\u001b[0m\n\u001b[0;32m    260\u001b[0m         \u001b[1;31m# change the default number of processes to -1\u001b[0m\u001b[1;33m\u001b[0m\u001b[1;33m\u001b[0m\u001b[1;33m\u001b[0m\u001b[0m\n\u001b[0;32m    261\u001b[0m         \u001b[1;32mwith\u001b[0m \u001b[0mparallel_backend\u001b[0m\u001b[1;33m(\u001b[0m\u001b[0mself\u001b[0m\u001b[1;33m.\u001b[0m\u001b[0m_backend\u001b[0m\u001b[1;33m,\u001b[0m \u001b[0mn_jobs\u001b[0m\u001b[1;33m=\u001b[0m\u001b[0mself\u001b[0m\u001b[1;33m.\u001b[0m\u001b[0m_n_jobs\u001b[0m\u001b[1;33m)\u001b[0m\u001b[1;33m:\u001b[0m\u001b[1;33m\u001b[0m\u001b[1;33m\u001b[0m\u001b[0m\n\u001b[1;32m--> 262\u001b[1;33m             return [func(*args, **kwargs)\n\u001b[0m\u001b[0;32m    263\u001b[0m                     for func, args, kwargs in self.items]\n\u001b[0;32m    264\u001b[0m \u001b[1;33m\u001b[0m\u001b[0m\n",
      "\u001b[1;32m~\\anaconda3\\envs\\learn-env\\lib\\site-packages\\joblib\\parallel.py\u001b[0m in \u001b[0;36m<listcomp>\u001b[1;34m(.0)\u001b[0m\n\u001b[0;32m    260\u001b[0m         \u001b[1;31m# change the default number of processes to -1\u001b[0m\u001b[1;33m\u001b[0m\u001b[1;33m\u001b[0m\u001b[1;33m\u001b[0m\u001b[0m\n\u001b[0;32m    261\u001b[0m         \u001b[1;32mwith\u001b[0m \u001b[0mparallel_backend\u001b[0m\u001b[1;33m(\u001b[0m\u001b[0mself\u001b[0m\u001b[1;33m.\u001b[0m\u001b[0m_backend\u001b[0m\u001b[1;33m,\u001b[0m \u001b[0mn_jobs\u001b[0m\u001b[1;33m=\u001b[0m\u001b[0mself\u001b[0m\u001b[1;33m.\u001b[0m\u001b[0m_n_jobs\u001b[0m\u001b[1;33m)\u001b[0m\u001b[1;33m:\u001b[0m\u001b[1;33m\u001b[0m\u001b[1;33m\u001b[0m\u001b[0m\n\u001b[1;32m--> 262\u001b[1;33m             return [func(*args, **kwargs)\n\u001b[0m\u001b[0;32m    263\u001b[0m                     for func, args, kwargs in self.items]\n\u001b[0;32m    264\u001b[0m \u001b[1;33m\u001b[0m\u001b[0m\n",
      "\u001b[1;32m~\\anaconda3\\envs\\learn-env\\lib\\site-packages\\sklearn\\ensemble\\_forest.py\u001b[0m in \u001b[0;36m_parallel_build_trees\u001b[1;34m(tree, forest, X, y, sample_weight, tree_idx, n_trees, verbose, class_weight, n_samples_bootstrap)\u001b[0m\n\u001b[0;32m    166\u001b[0m                                                         indices=indices)\n\u001b[0;32m    167\u001b[0m \u001b[1;33m\u001b[0m\u001b[0m\n\u001b[1;32m--> 168\u001b[1;33m         \u001b[0mtree\u001b[0m\u001b[1;33m.\u001b[0m\u001b[0mfit\u001b[0m\u001b[1;33m(\u001b[0m\u001b[0mX\u001b[0m\u001b[1;33m,\u001b[0m \u001b[0my\u001b[0m\u001b[1;33m,\u001b[0m \u001b[0msample_weight\u001b[0m\u001b[1;33m=\u001b[0m\u001b[0mcurr_sample_weight\u001b[0m\u001b[1;33m,\u001b[0m \u001b[0mcheck_input\u001b[0m\u001b[1;33m=\u001b[0m\u001b[1;32mFalse\u001b[0m\u001b[1;33m)\u001b[0m\u001b[1;33m\u001b[0m\u001b[1;33m\u001b[0m\u001b[0m\n\u001b[0m\u001b[0;32m    169\u001b[0m     \u001b[1;32melse\u001b[0m\u001b[1;33m:\u001b[0m\u001b[1;33m\u001b[0m\u001b[1;33m\u001b[0m\u001b[0m\n\u001b[0;32m    170\u001b[0m         \u001b[0mtree\u001b[0m\u001b[1;33m.\u001b[0m\u001b[0mfit\u001b[0m\u001b[1;33m(\u001b[0m\u001b[0mX\u001b[0m\u001b[1;33m,\u001b[0m \u001b[0my\u001b[0m\u001b[1;33m,\u001b[0m \u001b[0msample_weight\u001b[0m\u001b[1;33m=\u001b[0m\u001b[0msample_weight\u001b[0m\u001b[1;33m,\u001b[0m \u001b[0mcheck_input\u001b[0m\u001b[1;33m=\u001b[0m\u001b[1;32mFalse\u001b[0m\u001b[1;33m)\u001b[0m\u001b[1;33m\u001b[0m\u001b[1;33m\u001b[0m\u001b[0m\n",
      "\u001b[1;32m~\\anaconda3\\envs\\learn-env\\lib\\site-packages\\sklearn\\tree\\_classes.py\u001b[0m in \u001b[0;36mfit\u001b[1;34m(self, X, y, sample_weight, check_input, X_idx_sorted)\u001b[0m\n\u001b[0;32m    888\u001b[0m         \"\"\"\n\u001b[0;32m    889\u001b[0m \u001b[1;33m\u001b[0m\u001b[0m\n\u001b[1;32m--> 890\u001b[1;33m         super().fit(\n\u001b[0m\u001b[0;32m    891\u001b[0m             \u001b[0mX\u001b[0m\u001b[1;33m,\u001b[0m \u001b[0my\u001b[0m\u001b[1;33m,\u001b[0m\u001b[1;33m\u001b[0m\u001b[1;33m\u001b[0m\u001b[0m\n\u001b[0;32m    892\u001b[0m             \u001b[0msample_weight\u001b[0m\u001b[1;33m=\u001b[0m\u001b[0msample_weight\u001b[0m\u001b[1;33m,\u001b[0m\u001b[1;33m\u001b[0m\u001b[1;33m\u001b[0m\u001b[0m\n",
      "\u001b[1;32m~\\anaconda3\\envs\\learn-env\\lib\\site-packages\\sklearn\\tree\\_classes.py\u001b[0m in \u001b[0;36mfit\u001b[1;34m(self, X, y, sample_weight, check_input, X_idx_sorted)\u001b[0m\n\u001b[0;32m    373\u001b[0m                                            min_impurity_split)\n\u001b[0;32m    374\u001b[0m \u001b[1;33m\u001b[0m\u001b[0m\n\u001b[1;32m--> 375\u001b[1;33m         \u001b[0mbuilder\u001b[0m\u001b[1;33m.\u001b[0m\u001b[0mbuild\u001b[0m\u001b[1;33m(\u001b[0m\u001b[0mself\u001b[0m\u001b[1;33m.\u001b[0m\u001b[0mtree_\u001b[0m\u001b[1;33m,\u001b[0m \u001b[0mX\u001b[0m\u001b[1;33m,\u001b[0m \u001b[0my\u001b[0m\u001b[1;33m,\u001b[0m \u001b[0msample_weight\u001b[0m\u001b[1;33m,\u001b[0m \u001b[0mX_idx_sorted\u001b[0m\u001b[1;33m)\u001b[0m\u001b[1;33m\u001b[0m\u001b[1;33m\u001b[0m\u001b[0m\n\u001b[0m\u001b[0;32m    376\u001b[0m \u001b[1;33m\u001b[0m\u001b[0m\n\u001b[0;32m    377\u001b[0m         \u001b[1;32mif\u001b[0m \u001b[0mself\u001b[0m\u001b[1;33m.\u001b[0m\u001b[0mn_outputs_\u001b[0m \u001b[1;33m==\u001b[0m \u001b[1;36m1\u001b[0m \u001b[1;32mand\u001b[0m \u001b[0mis_classifier\u001b[0m\u001b[1;33m(\u001b[0m\u001b[0mself\u001b[0m\u001b[1;33m)\u001b[0m\u001b[1;33m:\u001b[0m\u001b[1;33m\u001b[0m\u001b[1;33m\u001b[0m\u001b[0m\n",
      "\u001b[1;31mKeyboardInterrupt\u001b[0m: "
     ]
    }
   ],
   "source": [
    "# Define the hyperparameters to tune\n",
    "param_grid = {\n",
    "    'n_estimators': [100, 200, 300],\n",
    "    'max_depth': [None, 5, 10],\n",
    "    'min_samples_split': [2, 4, 6],\n",
    "    'min_samples_leaf': [1, 2, 3],\n",
    "    'max_features': ['auto', 'sqrt']\n",
    "}\n",
    "\n",
    "# Instantiate the model\n",
    "RF_tuned = RandomForestClassifier(n_jobs=3)\n",
    "\n",
    "# Train and evaluate the model with grid search\n",
    "train_and_evaluate_model(X, y, RF_tuned, param_grid)"
   ]
  },
  {
   "cell_type": "markdown",
   "metadata": {},
   "source": [
    "# Iteration 4: XGBoost"
   ]
  },
  {
   "cell_type": "code",
   "execution_count": 60,
   "metadata": {},
   "outputs": [
    {
     "name": "stdout",
     "output_type": "stream",
     "text": [
      "\n",
      "    \t       Train \t \t Test\n",
      "    Accuracy:  0.795 \t \t 0.788\n",
      "\n",
      "    Precision: 0.599 \t \t 0.497\n",
      "\n",
      "    Recall:    0.103 \t \t 0.078\n",
      "\n",
      "    F1 score:  0.176 \t \t 0.135\n",
      "    \n",
      "Classification Report (Training Set):\n",
      "              precision    recall  f1-score   support\n",
      "\n",
      "           0       0.80      0.98      0.88     16821\n",
      "           1       0.60      0.10      0.18      4544\n",
      "\n",
      "    accuracy                           0.79     21365\n",
      "   macro avg       0.70      0.54      0.53     21365\n",
      "weighted avg       0.76      0.79      0.73     21365\n",
      "\n",
      "Classification Report (Test Set):\n",
      "              precision    recall  f1-score   support\n",
      "\n",
      "           0       0.80      0.98      0.88      4212\n",
      "           1       0.50      0.08      0.13      1130\n",
      "\n",
      "    accuracy                           0.79      5342\n",
      "   macro avg       0.65      0.53      0.51      5342\n",
      "weighted avg       0.73      0.79      0.72      5342\n",
      "\n"
     ]
    },
    {
     "data": {
      "image/png": "[encoded data removed]",
      "text/plain": [
       "<Figure size 720x360 with 4 Axes>"
      ]
     },
     "metadata": {
      "needs_background": "light"
     },
     "output_type": "display_data"
    }
   ],
   "source": [
    "# Instantiate the classifier\n",
    "xgb_model = XGBClassifier(n_jobs=3)\n",
    "\n",
    "# Call the function with the classifier\n",
    "train_and_evaluate_model(X, y, xgb_model)"
   ]
  },
  {
   "cell_type": "markdown",
   "metadata": {},
   "source": [
    "# Hyperparameter Tuning for XGBoost"
   ]
  },
  {
   "cell_type": "code",
   "execution_count": 61,
   "metadata": {},
   "outputs": [
    {
     "name": "stdout",
     "output_type": "stream",
     "text": [
      "Fitting 5 folds for each of 108 candidates, totalling 540 fits\n",
      "[CV] colsample_bytree=0.8, learning_rate=0.1, max_depth=3, n_estimators=100, subsample=0.8 \n"
     ]
    },
    {
     "name": "stderr",
     "output_type": "stream",
     "text": [
      "[Parallel(n_jobs=1)]: Using backend SequentialBackend with 1 concurrent workers.\n"
     ]
    },
    {
     "name": "stdout",
     "output_type": "stream",
     "text": [
      "[CV]  colsample_bytree=0.8, learning_rate=0.1, max_depth=3, n_estimators=100, subsample=0.8, total=   1.0s\n",
      "[CV] colsample_bytree=0.8, learning_rate=0.1, max_depth=3, n_estimators=100, subsample=0.8 \n"
     ]
    },
    {
     "name": "stderr",
     "output_type": "stream",
     "text": [
      "[Parallel(n_jobs=1)]: Done   1 out of   1 | elapsed:    0.9s remaining:    0.0s\n"
     ]
    },
    {
     "name": "stdout",
     "output_type": "stream",
     "text": [
      "[CV]  colsample_bytree=0.8, learning_rate=0.1, max_depth=3, n_estimators=100, subsample=0.8, total=   1.0s\n",
      "[CV] colsample_bytree=0.8, learning_rate=0.1, max_depth=3, n_estimators=100, subsample=0.8 \n",
      "[CV]  colsample_bytree=0.8, learning_rate=0.1, max_depth=3, n_estimators=100, subsample=0.8, total=   1.0s\n",
      "[CV] colsample_bytree=0.8, learning_rate=0.1, max_depth=3, n_estimators=100, subsample=0.8 \n",
      "[CV]  colsample_bytree=0.8, learning_rate=0.1, max_depth=3, n_estimators=100, subsample=0.8, total=   1.0s\n",
      "[CV] colsample_bytree=0.8, learning_rate=0.1, max_depth=3, n_estimators=100, subsample=0.8 \n",
      "[CV]  colsample_bytree=0.8, learning_rate=0.1, max_depth=3, n_estimators=100, subsample=0.8, total=   0.9s\n",
      "[CV] colsample_bytree=0.8, learning_rate=0.1, max_depth=3, n_estimators=100, subsample=1.0 \n",
      "[CV]  colsample_bytree=0.8, learning_rate=0.1, max_depth=3, n_estimators=100, subsample=1.0, total=   0.8s\n",
      "[CV] colsample_bytree=0.8, learning_rate=0.1, max_depth=3, n_estimators=100, subsample=1.0 \n",
      "[CV]  colsample_bytree=0.8, learning_rate=0.1, max_depth=3, n_estimators=100, subsample=1.0, total=   0.8s\n",
      "[CV] colsample_bytree=0.8, learning_rate=0.1, max_depth=3, n_estimators=100, subsample=1.0 \n",
      "[CV]  colsample_bytree=0.8, learning_rate=0.1, max_depth=3, n_estimators=100, subsample=1.0, total=   0.8s\n",
      "[CV] colsample_bytree=0.8, learning_rate=0.1, max_depth=3, n_estimators=100, subsample=1.0 \n",
      "[CV]  colsample_bytree=0.8, learning_rate=0.1, max_depth=3, n_estimators=100, subsample=1.0, total=   0.8s\n",
      "[CV] colsample_bytree=0.8, learning_rate=0.1, max_depth=3, n_estimators=100, subsample=1.0 \n",
      "[CV]  colsample_bytree=0.8, learning_rate=0.1, max_depth=3, n_estimators=100, subsample=1.0, total=   0.8s\n",
      "[CV] colsample_bytree=0.8, learning_rate=0.1, max_depth=3, n_estimators=200, subsample=0.8 \n",
      "[CV]  colsample_bytree=0.8, learning_rate=0.1, max_depth=3, n_estimators=200, subsample=0.8, total=   1.7s\n",
      "[CV] colsample_bytree=0.8, learning_rate=0.1, max_depth=3, n_estimators=200, subsample=0.8 \n",
      "[CV]  colsample_bytree=0.8, learning_rate=0.1, max_depth=3, n_estimators=200, subsample=0.8, total=   1.7s\n",
      "[CV] colsample_bytree=0.8, learning_rate=0.1, max_depth=3, n_estimators=200, subsample=0.8 \n",
      "[CV]  colsample_bytree=0.8, learning_rate=0.1, max_depth=3, n_estimators=200, subsample=0.8, total=   1.7s\n",
      "[CV] colsample_bytree=0.8, learning_rate=0.1, max_depth=3, n_estimators=200, subsample=0.8 \n",
      "[CV]  colsample_bytree=0.8, learning_rate=0.1, max_depth=3, n_estimators=200, subsample=0.8, total=   1.7s\n",
      "[CV] colsample_bytree=0.8, learning_rate=0.1, max_depth=3, n_estimators=200, subsample=0.8 \n",
      "[CV]  colsample_bytree=0.8, learning_rate=0.1, max_depth=3, n_estimators=200, subsample=0.8, total=   1.7s\n",
      "[CV] colsample_bytree=0.8, learning_rate=0.1, max_depth=3, n_estimators=200, subsample=1.0 \n",
      "[CV]  colsample_bytree=0.8, learning_rate=0.1, max_depth=3, n_estimators=200, subsample=1.0, total=   1.4s\n",
      "[CV] colsample_bytree=0.8, learning_rate=0.1, max_depth=3, n_estimators=200, subsample=1.0 \n",
      "[CV]  colsample_bytree=0.8, learning_rate=0.1, max_depth=3, n_estimators=200, subsample=1.0, total=   1.3s\n",
      "[CV] colsample_bytree=0.8, learning_rate=0.1, max_depth=3, n_estimators=200, subsample=1.0 \n",
      "[CV]  colsample_bytree=0.8, learning_rate=0.1, max_depth=3, n_estimators=200, subsample=1.0, total=   1.4s\n",
      "[CV] colsample_bytree=0.8, learning_rate=0.1, max_depth=3, n_estimators=200, subsample=1.0 \n",
      "[CV]  colsample_bytree=0.8, learning_rate=0.1, max_depth=3, n_estimators=200, subsample=1.0, total=   1.4s\n",
      "[CV] colsample_bytree=0.8, learning_rate=0.1, max_depth=3, n_estimators=200, subsample=1.0 \n",
      "[CV]  colsample_bytree=0.8, learning_rate=0.1, max_depth=3, n_estimators=200, subsample=1.0, total=   1.3s\n",
      "[CV] colsample_bytree=0.8, learning_rate=0.1, max_depth=3, n_estimators=300, subsample=0.8 \n",
      "[CV]  colsample_bytree=0.8, learning_rate=0.1, max_depth=3, n_estimators=300, subsample=0.8, total=   2.6s\n",
      "[CV] colsample_bytree=0.8, learning_rate=0.1, max_depth=3, n_estimators=300, subsample=0.8 \n",
      "[CV]  colsample_bytree=0.8, learning_rate=0.1, max_depth=3, n_estimators=300, subsample=0.8, total=   2.8s\n",
      "[CV] colsample_bytree=0.8, learning_rate=0.1, max_depth=3, n_estimators=300, subsample=0.8 \n",
      "[CV]  colsample_bytree=0.8, learning_rate=0.1, max_depth=3, n_estimators=300, subsample=0.8, total=   2.9s\n",
      "[CV] colsample_bytree=0.8, learning_rate=0.1, max_depth=3, n_estimators=300, subsample=0.8 \n",
      "[CV]  colsample_bytree=0.8, learning_rate=0.1, max_depth=3, n_estimators=300, subsample=0.8, total=   2.8s\n",
      "[CV] colsample_bytree=0.8, learning_rate=0.1, max_depth=3, n_estimators=300, subsample=0.8 \n",
      "[CV]  colsample_bytree=0.8, learning_rate=0.1, max_depth=3, n_estimators=300, subsample=0.8, total=   2.8s\n",
      "[CV] colsample_bytree=0.8, learning_rate=0.1, max_depth=3, n_estimators=300, subsample=1.0 \n",
      "[CV]  colsample_bytree=0.8, learning_rate=0.1, max_depth=3, n_estimators=300, subsample=1.0, total=   2.4s\n",
      "[CV] colsample_bytree=0.8, learning_rate=0.1, max_depth=3, n_estimators=300, subsample=1.0 \n",
      "[CV]  colsample_bytree=0.8, learning_rate=0.1, max_depth=3, n_estimators=300, subsample=1.0, total=   2.3s\n",
      "[CV] colsample_bytree=0.8, learning_rate=0.1, max_depth=3, n_estimators=300, subsample=1.0 \n",
      "[CV]  colsample_bytree=0.8, learning_rate=0.1, max_depth=3, n_estimators=300, subsample=1.0, total=   2.4s\n",
      "[CV] colsample_bytree=0.8, learning_rate=0.1, max_depth=3, n_estimators=300, subsample=1.0 \n",
      "[CV]  colsample_bytree=0.8, learning_rate=0.1, max_depth=3, n_estimators=300, subsample=1.0, total=   2.3s\n",
      "[CV] colsample_bytree=0.8, learning_rate=0.1, max_depth=3, n_estimators=300, subsample=1.0 \n",
      "[CV]  colsample_bytree=0.8, learning_rate=0.1, max_depth=3, n_estimators=300, subsample=1.0, total=   2.3s\n",
      "[CV] colsample_bytree=0.8, learning_rate=0.1, max_depth=5, n_estimators=100, subsample=0.8 \n",
      "[CV]  colsample_bytree=0.8, learning_rate=0.1, max_depth=5, n_estimators=100, subsample=0.8, total=   1.5s\n",
      "[CV] colsample_bytree=0.8, learning_rate=0.1, max_depth=5, n_estimators=100, subsample=0.8 \n",
      "[CV]  colsample_bytree=0.8, learning_rate=0.1, max_depth=5, n_estimators=100, subsample=0.8, total=   1.5s\n",
      "[CV] colsample_bytree=0.8, learning_rate=0.1, max_depth=5, n_estimators=100, subsample=0.8 \n",
      "[CV]  colsample_bytree=0.8, learning_rate=0.1, max_depth=5, n_estimators=100, subsample=0.8, total=   1.5s\n",
      "[CV] colsample_bytree=0.8, learning_rate=0.1, max_depth=5, n_estimators=100, subsample=0.8 \n",
      "[CV]  colsample_bytree=0.8, learning_rate=0.1, max_depth=5, n_estimators=100, subsample=0.8, total=   1.5s\n",
      "[CV] colsample_bytree=0.8, learning_rate=0.1, max_depth=5, n_estimators=100, subsample=0.8 \n",
      "[CV]  colsample_bytree=0.8, learning_rate=0.1, max_depth=5, n_estimators=100, subsample=0.8, total=   1.5s\n",
      "[CV] colsample_bytree=0.8, learning_rate=0.1, max_depth=5, n_estimators=100, subsample=1.0 \n",
      "[CV]  colsample_bytree=0.8, learning_rate=0.1, max_depth=5, n_estimators=100, subsample=1.0, total=   1.4s\n",
      "[CV] colsample_bytree=0.8, learning_rate=0.1, max_depth=5, n_estimators=100, subsample=1.0 \n",
      "[CV]  colsample_bytree=0.8, learning_rate=0.1, max_depth=5, n_estimators=100, subsample=1.0, total=   1.3s\n",
      "[CV] colsample_bytree=0.8, learning_rate=0.1, max_depth=5, n_estimators=100, subsample=1.0 \n",
      "[CV]  colsample_bytree=0.8, learning_rate=0.1, max_depth=5, n_estimators=100, subsample=1.0, total=   1.2s\n",
      "[CV] colsample_bytree=0.8, learning_rate=0.1, max_depth=5, n_estimators=100, subsample=1.0 \n",
      "[CV]  colsample_bytree=0.8, learning_rate=0.1, max_depth=5, n_estimators=100, subsample=1.0, total=   1.3s\n",
      "[CV] colsample_bytree=0.8, learning_rate=0.1, max_depth=5, n_estimators=100, subsample=1.0 \n",
      "[CV]  colsample_bytree=0.8, learning_rate=0.1, max_depth=5, n_estimators=100, subsample=1.0, total=   1.3s\n",
      "[CV] colsample_bytree=0.8, learning_rate=0.1, max_depth=5, n_estimators=200, subsample=0.8 \n",
      "[CV]  colsample_bytree=0.8, learning_rate=0.1, max_depth=5, n_estimators=200, subsample=0.8, total=   2.8s\n",
      "[CV] colsample_bytree=0.8, learning_rate=0.1, max_depth=5, n_estimators=200, subsample=0.8 \n",
      "[CV]  colsample_bytree=0.8, learning_rate=0.1, max_depth=5, n_estimators=200, subsample=0.8, total=   2.9s\n",
      "[CV] colsample_bytree=0.8, learning_rate=0.1, max_depth=5, n_estimators=200, subsample=0.8 \n",
      "[CV]  colsample_bytree=0.8, learning_rate=0.1, max_depth=5, n_estimators=200, subsample=0.8, total=   2.8s\n",
      "[CV] colsample_bytree=0.8, learning_rate=0.1, max_depth=5, n_estimators=200, subsample=0.8 \n",
      "[CV]  colsample_bytree=0.8, learning_rate=0.1, max_depth=5, n_estimators=200, subsample=0.8, total=   2.8s\n",
      "[CV] colsample_bytree=0.8, learning_rate=0.1, max_depth=5, n_estimators=200, subsample=0.8 \n",
      "[CV]  colsample_bytree=0.8, learning_rate=0.1, max_depth=5, n_estimators=200, subsample=0.8, total=   2.7s\n",
      "[CV] colsample_bytree=0.8, learning_rate=0.1, max_depth=5, n_estimators=200, subsample=1.0 \n",
      "[CV]  colsample_bytree=0.8, learning_rate=0.1, max_depth=5, n_estimators=200, subsample=1.0, total=   2.4s\n",
      "[CV] colsample_bytree=0.8, learning_rate=0.1, max_depth=5, n_estimators=200, subsample=1.0 \n",
      "[CV]  colsample_bytree=0.8, learning_rate=0.1, max_depth=5, n_estimators=200, subsample=1.0, total=   2.3s\n",
      "[CV] colsample_bytree=0.8, learning_rate=0.1, max_depth=5, n_estimators=200, subsample=1.0 \n",
      "[CV]  colsample_bytree=0.8, learning_rate=0.1, max_depth=5, n_estimators=200, subsample=1.0, total=   2.3s\n",
      "[CV] colsample_bytree=0.8, learning_rate=0.1, max_depth=5, n_estimators=200, subsample=1.0 \n",
      "[CV]  colsample_bytree=0.8, learning_rate=0.1, max_depth=5, n_estimators=200, subsample=1.0, total=   2.3s\n",
      "[CV] colsample_bytree=0.8, learning_rate=0.1, max_depth=5, n_estimators=200, subsample=1.0 \n",
      "[CV]  colsample_bytree=0.8, learning_rate=0.1, max_depth=5, n_estimators=200, subsample=1.0, total=   2.3s\n",
      "[CV] colsample_bytree=0.8, learning_rate=0.1, max_depth=5, n_estimators=300, subsample=0.8 \n",
      "[CV]  colsample_bytree=0.8, learning_rate=0.1, max_depth=5, n_estimators=300, subsample=0.8, total=   4.3s\n",
      "[CV] colsample_bytree=0.8, learning_rate=0.1, max_depth=5, n_estimators=300, subsample=0.8 \n",
      "[CV]  colsample_bytree=0.8, learning_rate=0.1, max_depth=5, n_estimators=300, subsample=0.8, total=   4.0s\n",
      "[CV] colsample_bytree=0.8, learning_rate=0.1, max_depth=5, n_estimators=300, subsample=0.8 \n",
      "[CV]  colsample_bytree=0.8, learning_rate=0.1, max_depth=5, n_estimators=300, subsample=0.8, total=   3.9s\n",
      "[CV] colsample_bytree=0.8, learning_rate=0.1, max_depth=5, n_estimators=300, subsample=0.8 \n",
      "[CV]  colsample_bytree=0.8, learning_rate=0.1, max_depth=5, n_estimators=300, subsample=0.8, total=   4.0s\n",
      "[CV] colsample_bytree=0.8, learning_rate=0.1, max_depth=5, n_estimators=300, subsample=0.8 \n",
      "[CV]  colsample_bytree=0.8, learning_rate=0.1, max_depth=5, n_estimators=300, subsample=0.8, total=   4.4s\n",
      "[CV] colsample_bytree=0.8, learning_rate=0.1, max_depth=5, n_estimators=300, subsample=1.0 \n",
      "[CV]  colsample_bytree=0.8, learning_rate=0.1, max_depth=5, n_estimators=300, subsample=1.0, total=   4.1s\n",
      "[CV] colsample_bytree=0.8, learning_rate=0.1, max_depth=5, n_estimators=300, subsample=1.0 \n",
      "[CV]  colsample_bytree=0.8, learning_rate=0.1, max_depth=5, n_estimators=300, subsample=1.0, total=   3.5s\n",
      "[CV] colsample_bytree=0.8, learning_rate=0.1, max_depth=5, n_estimators=300, subsample=1.0 \n",
      "[CV]  colsample_bytree=0.8, learning_rate=0.1, max_depth=5, n_estimators=300, subsample=1.0, total=   3.3s\n",
      "[CV] colsample_bytree=0.8, learning_rate=0.1, max_depth=5, n_estimators=300, subsample=1.0 \n",
      "[CV]  colsample_bytree=0.8, learning_rate=0.1, max_depth=5, n_estimators=300, subsample=1.0, total=   3.3s\n",
      "[CV] colsample_bytree=0.8, learning_rate=0.1, max_depth=5, n_estimators=300, subsample=1.0 \n",
      "[CV]  colsample_bytree=0.8, learning_rate=0.1, max_depth=5, n_estimators=300, subsample=1.0, total=   3.3s\n",
      "[CV] colsample_bytree=0.8, learning_rate=0.1, max_depth=7, n_estimators=100, subsample=0.8 \n",
      "[CV]  colsample_bytree=0.8, learning_rate=0.1, max_depth=7, n_estimators=100, subsample=0.8, total=   2.0s\n",
      "[CV] colsample_bytree=0.8, learning_rate=0.1, max_depth=7, n_estimators=100, subsample=0.8 \n",
      "[CV]  colsample_bytree=0.8, learning_rate=0.1, max_depth=7, n_estimators=100, subsample=0.8, total=   1.9s\n",
      "[CV] colsample_bytree=0.8, learning_rate=0.1, max_depth=7, n_estimators=100, subsample=0.8 \n",
      "[CV]  colsample_bytree=0.8, learning_rate=0.1, max_depth=7, n_estimators=100, subsample=0.8, total=   1.9s\n",
      "[CV] colsample_bytree=0.8, learning_rate=0.1, max_depth=7, n_estimators=100, subsample=0.8 \n",
      "[CV]  colsample_bytree=0.8, learning_rate=0.1, max_depth=7, n_estimators=100, subsample=0.8, total=   1.9s\n",
      "[CV] colsample_bytree=0.8, learning_rate=0.1, max_depth=7, n_estimators=100, subsample=0.8 \n",
      "[CV]  colsample_bytree=0.8, learning_rate=0.1, max_depth=7, n_estimators=100, subsample=0.8, total=   1.9s\n",
      "[CV] colsample_bytree=0.8, learning_rate=0.1, max_depth=7, n_estimators=100, subsample=1.0 \n",
      "[CV]  colsample_bytree=0.8, learning_rate=0.1, max_depth=7, n_estimators=100, subsample=1.0, total=   1.7s\n",
      "[CV] colsample_bytree=0.8, learning_rate=0.1, max_depth=7, n_estimators=100, subsample=1.0 \n",
      "[CV]  colsample_bytree=0.8, learning_rate=0.1, max_depth=7, n_estimators=100, subsample=1.0, total=   1.7s\n",
      "[CV] colsample_bytree=0.8, learning_rate=0.1, max_depth=7, n_estimators=100, subsample=1.0 \n",
      "[CV]  colsample_bytree=0.8, learning_rate=0.1, max_depth=7, n_estimators=100, subsample=1.0, total=   1.7s\n",
      "[CV] colsample_bytree=0.8, learning_rate=0.1, max_depth=7, n_estimators=100, subsample=1.0 \n",
      "[CV]  colsample_bytree=0.8, learning_rate=0.1, max_depth=7, n_estimators=100, subsample=1.0, total=   1.7s\n",
      "[CV] colsample_bytree=0.8, learning_rate=0.1, max_depth=7, n_estimators=100, subsample=1.0 \n",
      "[CV]  colsample_bytree=0.8, learning_rate=0.1, max_depth=7, n_estimators=100, subsample=1.0, total=   1.7s\n",
      "[CV] colsample_bytree=0.8, learning_rate=0.1, max_depth=7, n_estimators=200, subsample=0.8 \n",
      "[CV]  colsample_bytree=0.8, learning_rate=0.1, max_depth=7, n_estimators=200, subsample=0.8, total=   3.8s\n",
      "[CV] colsample_bytree=0.8, learning_rate=0.1, max_depth=7, n_estimators=200, subsample=0.8 \n",
      "[CV]  colsample_bytree=0.8, learning_rate=0.1, max_depth=7, n_estimators=200, subsample=0.8, total=   4.1s\n",
      "[CV] colsample_bytree=0.8, learning_rate=0.1, max_depth=7, n_estimators=200, subsample=0.8 \n",
      "[CV]  colsample_bytree=0.8, learning_rate=0.1, max_depth=7, n_estimators=200, subsample=0.8, total=   4.3s\n",
      "[CV] colsample_bytree=0.8, learning_rate=0.1, max_depth=7, n_estimators=200, subsample=0.8 \n",
      "[CV]  colsample_bytree=0.8, learning_rate=0.1, max_depth=7, n_estimators=200, subsample=0.8, total=   3.7s\n",
      "[CV] colsample_bytree=0.8, learning_rate=0.1, max_depth=7, n_estimators=200, subsample=0.8 \n",
      "[CV]  colsample_bytree=0.8, learning_rate=0.1, max_depth=7, n_estimators=200, subsample=0.8, total=   3.5s\n",
      "[CV] colsample_bytree=0.8, learning_rate=0.1, max_depth=7, n_estimators=200, subsample=1.0 \n",
      "[CV]  colsample_bytree=0.8, learning_rate=0.1, max_depth=7, n_estimators=200, subsample=1.0, total=   3.3s\n",
      "[CV] colsample_bytree=0.8, learning_rate=0.1, max_depth=7, n_estimators=200, subsample=1.0 \n",
      "[CV]  colsample_bytree=0.8, learning_rate=0.1, max_depth=7, n_estimators=200, subsample=1.0, total=   3.2s\n",
      "[CV] colsample_bytree=0.8, learning_rate=0.1, max_depth=7, n_estimators=200, subsample=1.0 \n",
      "[CV]  colsample_bytree=0.8, learning_rate=0.1, max_depth=7, n_estimators=200, subsample=1.0, total=   3.0s\n",
      "[CV] colsample_bytree=0.8, learning_rate=0.1, max_depth=7, n_estimators=200, subsample=1.0 \n",
      "[CV]  colsample_bytree=0.8, learning_rate=0.1, max_depth=7, n_estimators=200, subsample=1.0, total=   2.9s\n",
      "[CV] colsample_bytree=0.8, learning_rate=0.1, max_depth=7, n_estimators=200, subsample=1.0 \n",
      "[CV]  colsample_bytree=0.8, learning_rate=0.1, max_depth=7, n_estimators=200, subsample=1.0, total=   3.0s\n",
      "[CV] colsample_bytree=0.8, learning_rate=0.1, max_depth=7, n_estimators=300, subsample=0.8 \n",
      "[CV]  colsample_bytree=0.8, learning_rate=0.1, max_depth=7, n_estimators=300, subsample=0.8, total=   5.6s\n",
      "[CV] colsample_bytree=0.8, learning_rate=0.1, max_depth=7, n_estimators=300, subsample=0.8 \n",
      "[CV]  colsample_bytree=0.8, learning_rate=0.1, max_depth=7, n_estimators=300, subsample=0.8, total=   5.5s\n",
      "[CV] colsample_bytree=0.8, learning_rate=0.1, max_depth=7, n_estimators=300, subsample=0.8 \n",
      "[CV]  colsample_bytree=0.8, learning_rate=0.1, max_depth=7, n_estimators=300, subsample=0.8, total=   5.2s\n",
      "[CV] colsample_bytree=0.8, learning_rate=0.1, max_depth=7, n_estimators=300, subsample=0.8 \n",
      "[CV]  colsample_bytree=0.8, learning_rate=0.1, max_depth=7, n_estimators=300, subsample=0.8, total=   5.3s\n",
      "[CV] colsample_bytree=0.8, learning_rate=0.1, max_depth=7, n_estimators=300, subsample=0.8 \n",
      "[CV]  colsample_bytree=0.8, learning_rate=0.1, max_depth=7, n_estimators=300, subsample=0.8, total=   5.2s\n",
      "[CV] colsample_bytree=0.8, learning_rate=0.1, max_depth=7, n_estimators=300, subsample=1.0 \n",
      "[CV]  colsample_bytree=0.8, learning_rate=0.1, max_depth=7, n_estimators=300, subsample=1.0, total=   4.6s\n",
      "[CV] colsample_bytree=0.8, learning_rate=0.1, max_depth=7, n_estimators=300, subsample=1.0 \n",
      "[CV]  colsample_bytree=0.8, learning_rate=0.1, max_depth=7, n_estimators=300, subsample=1.0, total=   4.5s\n",
      "[CV] colsample_bytree=0.8, learning_rate=0.1, max_depth=7, n_estimators=300, subsample=1.0 \n",
      "[CV]  colsample_bytree=0.8, learning_rate=0.1, max_depth=7, n_estimators=300, subsample=1.0, total=   4.4s\n",
      "[CV] colsample_bytree=0.8, learning_rate=0.1, max_depth=7, n_estimators=300, subsample=1.0 \n",
      "[CV]  colsample_bytree=0.8, learning_rate=0.1, max_depth=7, n_estimators=300, subsample=1.0, total=   4.2s\n",
      "[CV] colsample_bytree=0.8, learning_rate=0.1, max_depth=7, n_estimators=300, subsample=1.0 \n",
      "[CV]  colsample_bytree=0.8, learning_rate=0.1, max_depth=7, n_estimators=300, subsample=1.0, total=   4.3s\n",
      "[CV] colsample_bytree=0.8, learning_rate=0.01, max_depth=3, n_estimators=100, subsample=0.8 \n",
      "[CV]  colsample_bytree=0.8, learning_rate=0.01, max_depth=3, n_estimators=100, subsample=0.8, total=   1.2s\n",
      "[CV] colsample_bytree=0.8, learning_rate=0.01, max_depth=3, n_estimators=100, subsample=0.8 \n",
      "[CV]  colsample_bytree=0.8, learning_rate=0.01, max_depth=3, n_estimators=100, subsample=0.8, total=   1.1s\n",
      "[CV] colsample_bytree=0.8, learning_rate=0.01, max_depth=3, n_estimators=100, subsample=0.8 \n",
      "[CV]  colsample_bytree=0.8, learning_rate=0.01, max_depth=3, n_estimators=100, subsample=0.8, total=   1.1s\n",
      "[CV] colsample_bytree=0.8, learning_rate=0.01, max_depth=3, n_estimators=100, subsample=0.8 \n",
      "[CV]  colsample_bytree=0.8, learning_rate=0.01, max_depth=3, n_estimators=100, subsample=0.8, total=   1.1s\n",
      "[CV] colsample_bytree=0.8, learning_rate=0.01, max_depth=3, n_estimators=100, subsample=0.8 \n",
      "[CV]  colsample_bytree=0.8, learning_rate=0.01, max_depth=3, n_estimators=100, subsample=0.8, total=   1.1s\n",
      "[CV] colsample_bytree=0.8, learning_rate=0.01, max_depth=3, n_estimators=100, subsample=1.0 \n",
      "[CV]  colsample_bytree=0.8, learning_rate=0.01, max_depth=3, n_estimators=100, subsample=1.0, total=   0.9s\n",
      "[CV] colsample_bytree=0.8, learning_rate=0.01, max_depth=3, n_estimators=100, subsample=1.0 \n",
      "[CV]  colsample_bytree=0.8, learning_rate=0.01, max_depth=3, n_estimators=100, subsample=1.0, total=   0.9s\n",
      "[CV] colsample_bytree=0.8, learning_rate=0.01, max_depth=3, n_estimators=100, subsample=1.0 \n",
      "[CV]  colsample_bytree=0.8, learning_rate=0.01, max_depth=3, n_estimators=100, subsample=1.0, total=   0.9s\n",
      "[CV] colsample_bytree=0.8, learning_rate=0.01, max_depth=3, n_estimators=100, subsample=1.0 \n",
      "[CV]  colsample_bytree=0.8, learning_rate=0.01, max_depth=3, n_estimators=100, subsample=1.0, total=   0.8s\n",
      "[CV] colsample_bytree=0.8, learning_rate=0.01, max_depth=3, n_estimators=100, subsample=1.0 \n",
      "[CV]  colsample_bytree=0.8, learning_rate=0.01, max_depth=3, n_estimators=100, subsample=1.0, total=   0.9s\n",
      "[CV] colsample_bytree=0.8, learning_rate=0.01, max_depth=3, n_estimators=200, subsample=0.8 \n",
      "[CV]  colsample_bytree=0.8, learning_rate=0.01, max_depth=3, n_estimators=200, subsample=0.8, total=   2.2s\n",
      "[CV] colsample_bytree=0.8, learning_rate=0.01, max_depth=3, n_estimators=200, subsample=0.8 \n",
      "[CV]  colsample_bytree=0.8, learning_rate=0.01, max_depth=3, n_estimators=200, subsample=0.8, total=   2.4s\n",
      "[CV] colsample_bytree=0.8, learning_rate=0.01, max_depth=3, n_estimators=200, subsample=0.8 \n",
      "[CV]  colsample_bytree=0.8, learning_rate=0.01, max_depth=3, n_estimators=200, subsample=0.8, total=   2.0s\n",
      "[CV] colsample_bytree=0.8, learning_rate=0.01, max_depth=3, n_estimators=200, subsample=0.8 \n",
      "[CV]  colsample_bytree=0.8, learning_rate=0.01, max_depth=3, n_estimators=200, subsample=0.8, total=   1.9s\n",
      "[CV] colsample_bytree=0.8, learning_rate=0.01, max_depth=3, n_estimators=200, subsample=0.8 \n",
      "[CV]  colsample_bytree=0.8, learning_rate=0.01, max_depth=3, n_estimators=200, subsample=0.8, total=   2.0s\n",
      "[CV] colsample_bytree=0.8, learning_rate=0.01, max_depth=3, n_estimators=200, subsample=1.0 \n",
      "[CV]  colsample_bytree=0.8, learning_rate=0.01, max_depth=3, n_estimators=200, subsample=1.0, total=   1.6s\n",
      "[CV] colsample_bytree=0.8, learning_rate=0.01, max_depth=3, n_estimators=200, subsample=1.0 \n",
      "[CV]  colsample_bytree=0.8, learning_rate=0.01, max_depth=3, n_estimators=200, subsample=1.0, total=   1.6s\n",
      "[CV] colsample_bytree=0.8, learning_rate=0.01, max_depth=3, n_estimators=200, subsample=1.0 \n",
      "[CV]  colsample_bytree=0.8, learning_rate=0.01, max_depth=3, n_estimators=200, subsample=1.0, total=   1.6s\n",
      "[CV] colsample_bytree=0.8, learning_rate=0.01, max_depth=3, n_estimators=200, subsample=1.0 \n",
      "[CV]  colsample_bytree=0.8, learning_rate=0.01, max_depth=3, n_estimators=200, subsample=1.0, total=   1.5s\n",
      "[CV] colsample_bytree=0.8, learning_rate=0.01, max_depth=3, n_estimators=200, subsample=1.0 \n",
      "[CV]  colsample_bytree=0.8, learning_rate=0.01, max_depth=3, n_estimators=200, subsample=1.0, total=   1.6s\n",
      "[CV] colsample_bytree=0.8, learning_rate=0.01, max_depth=3, n_estimators=300, subsample=0.8 \n",
      "[CV]  colsample_bytree=0.8, learning_rate=0.01, max_depth=3, n_estimators=300, subsample=0.8, total=   2.9s\n",
      "[CV] colsample_bytree=0.8, learning_rate=0.01, max_depth=3, n_estimators=300, subsample=0.8 \n",
      "[CV]  colsample_bytree=0.8, learning_rate=0.01, max_depth=3, n_estimators=300, subsample=0.8, total=   2.9s\n",
      "[CV] colsample_bytree=0.8, learning_rate=0.01, max_depth=3, n_estimators=300, subsample=0.8 \n",
      "[CV]  colsample_bytree=0.8, learning_rate=0.01, max_depth=3, n_estimators=300, subsample=0.8, total=   2.9s\n",
      "[CV] colsample_bytree=0.8, learning_rate=0.01, max_depth=3, n_estimators=300, subsample=0.8 \n",
      "[CV]  colsample_bytree=0.8, learning_rate=0.01, max_depth=3, n_estimators=300, subsample=0.8, total=   2.9s\n",
      "[CV] colsample_bytree=0.8, learning_rate=0.01, max_depth=3, n_estimators=300, subsample=0.8 \n",
      "[CV]  colsample_bytree=0.8, learning_rate=0.01, max_depth=3, n_estimators=300, subsample=0.8, total=   2.9s\n",
      "[CV] colsample_bytree=0.8, learning_rate=0.01, max_depth=3, n_estimators=300, subsample=1.0 \n",
      "[CV]  colsample_bytree=0.8, learning_rate=0.01, max_depth=3, n_estimators=300, subsample=1.0, total=   2.4s\n",
      "[CV] colsample_bytree=0.8, learning_rate=0.01, max_depth=3, n_estimators=300, subsample=1.0 \n",
      "[CV]  colsample_bytree=0.8, learning_rate=0.01, max_depth=3, n_estimators=300, subsample=1.0, total=   2.3s\n",
      "[CV] colsample_bytree=0.8, learning_rate=0.01, max_depth=3, n_estimators=300, subsample=1.0 \n",
      "[CV]  colsample_bytree=0.8, learning_rate=0.01, max_depth=3, n_estimators=300, subsample=1.0, total=   2.3s\n",
      "[CV] colsample_bytree=0.8, learning_rate=0.01, max_depth=3, n_estimators=300, subsample=1.0 \n",
      "[CV]  colsample_bytree=0.8, learning_rate=0.01, max_depth=3, n_estimators=300, subsample=1.0, total=   2.3s\n",
      "[CV] colsample_bytree=0.8, learning_rate=0.01, max_depth=3, n_estimators=300, subsample=1.0 \n",
      "[CV]  colsample_bytree=0.8, learning_rate=0.01, max_depth=3, n_estimators=300, subsample=1.0, total=   2.4s\n",
      "[CV] colsample_bytree=0.8, learning_rate=0.01, max_depth=5, n_estimators=100, subsample=0.8 \n",
      "[CV]  colsample_bytree=0.8, learning_rate=0.01, max_depth=5, n_estimators=100, subsample=0.8, total=   1.6s\n",
      "[CV] colsample_bytree=0.8, learning_rate=0.01, max_depth=5, n_estimators=100, subsample=0.8 \n",
      "[CV]  colsample_bytree=0.8, learning_rate=0.01, max_depth=5, n_estimators=100, subsample=0.8, total=   1.5s\n",
      "[CV] colsample_bytree=0.8, learning_rate=0.01, max_depth=5, n_estimators=100, subsample=0.8 \n",
      "[CV]  colsample_bytree=0.8, learning_rate=0.01, max_depth=5, n_estimators=100, subsample=0.8, total=   1.5s\n",
      "[CV] colsample_bytree=0.8, learning_rate=0.01, max_depth=5, n_estimators=100, subsample=0.8 \n",
      "[CV]  colsample_bytree=0.8, learning_rate=0.01, max_depth=5, n_estimators=100, subsample=0.8, total=   1.5s\n",
      "[CV] colsample_bytree=0.8, learning_rate=0.01, max_depth=5, n_estimators=100, subsample=0.8 \n",
      "[CV]  colsample_bytree=0.8, learning_rate=0.01, max_depth=5, n_estimators=100, subsample=0.8, total=   1.6s\n",
      "[CV] colsample_bytree=0.8, learning_rate=0.01, max_depth=5, n_estimators=100, subsample=1.0 \n",
      "[CV]  colsample_bytree=0.8, learning_rate=0.01, max_depth=5, n_estimators=100, subsample=1.0, total=   1.4s\n",
      "[CV] colsample_bytree=0.8, learning_rate=0.01, max_depth=5, n_estimators=100, subsample=1.0 \n",
      "[CV]  colsample_bytree=0.8, learning_rate=0.01, max_depth=5, n_estimators=100, subsample=1.0, total=   1.3s\n",
      "[CV] colsample_bytree=0.8, learning_rate=0.01, max_depth=5, n_estimators=100, subsample=1.0 \n",
      "[CV]  colsample_bytree=0.8, learning_rate=0.01, max_depth=5, n_estimators=100, subsample=1.0, total=   1.2s\n",
      "[CV] colsample_bytree=0.8, learning_rate=0.01, max_depth=5, n_estimators=100, subsample=1.0 \n",
      "[CV]  colsample_bytree=0.8, learning_rate=0.01, max_depth=5, n_estimators=100, subsample=1.0, total=   1.3s\n",
      "[CV] colsample_bytree=0.8, learning_rate=0.01, max_depth=5, n_estimators=100, subsample=1.0 \n",
      "[CV]  colsample_bytree=0.8, learning_rate=0.01, max_depth=5, n_estimators=100, subsample=1.0, total=   1.3s\n",
      "[CV] colsample_bytree=0.8, learning_rate=0.01, max_depth=5, n_estimators=200, subsample=0.8 \n"
     ]
    },
    {
     "ename": "KeyboardInterrupt",
     "evalue": "",
     "output_type": "error",
     "traceback": [
      "\u001b[1;31m---------------------------------------------------------------------------\u001b[0m",
      "\u001b[1;31mKeyboardInterrupt\u001b[0m                         Traceback (most recent call last)",
      "\u001b[1;32m<ipython-input-61-9883576af360>\u001b[0m in \u001b[0;36m<module>\u001b[1;34m\u001b[0m\n\u001b[0;32m     12\u001b[0m \u001b[1;33m\u001b[0m\u001b[0m\n\u001b[0;32m     13\u001b[0m \u001b[1;31m# Train and evaluate the model with grid search\u001b[0m\u001b[1;33m\u001b[0m\u001b[1;33m\u001b[0m\u001b[1;33m\u001b[0m\u001b[0m\n\u001b[1;32m---> 14\u001b[1;33m \u001b[0mtrain_and_evaluate_model\u001b[0m\u001b[1;33m(\u001b[0m\u001b[0mX\u001b[0m\u001b[1;33m,\u001b[0m \u001b[0my\u001b[0m\u001b[1;33m,\u001b[0m \u001b[0mxgb_tuned\u001b[0m\u001b[1;33m,\u001b[0m \u001b[0mparam_grid\u001b[0m\u001b[1;33m)\u001b[0m\u001b[1;33m\u001b[0m\u001b[1;33m\u001b[0m\u001b[0m\n\u001b[0m",
      "\u001b[1;32m<ipython-input-58-fa5140021d3c>\u001b[0m in \u001b[0;36mtrain_and_evaluate_model\u001b[1;34m(X, y, model, param_grid)\u001b[0m\n\u001b[0;32m     73\u001b[0m             \u001b[1;31m# Create the GridSearchCV object\u001b[0m\u001b[1;33m\u001b[0m\u001b[1;33m\u001b[0m\u001b[1;33m\u001b[0m\u001b[0m\n\u001b[0;32m     74\u001b[0m             \u001b[0mgrid_search\u001b[0m \u001b[1;33m=\u001b[0m \u001b[0mGridSearchCV\u001b[0m\u001b[1;33m(\u001b[0m\u001b[0mmodel\u001b[0m\u001b[1;33m,\u001b[0m \u001b[0mparam_grid\u001b[0m\u001b[1;33m,\u001b[0m \u001b[0mcv\u001b[0m\u001b[1;33m=\u001b[0m\u001b[1;36m5\u001b[0m\u001b[1;33m,\u001b[0m \u001b[0mscoring\u001b[0m\u001b[1;33m=\u001b[0m\u001b[1;34m'f1'\u001b[0m\u001b[1;33m,\u001b[0m \u001b[0mverbose\u001b[0m\u001b[1;33m=\u001b[0m\u001b[1;36m2\u001b[0m\u001b[1;33m)\u001b[0m\u001b[1;33m\u001b[0m\u001b[1;33m\u001b[0m\u001b[0m\n\u001b[1;32m---> 75\u001b[1;33m             \u001b[0mgrid_search\u001b[0m\u001b[1;33m.\u001b[0m\u001b[0mfit\u001b[0m\u001b[1;33m(\u001b[0m\u001b[0mX_train_smote_scaled\u001b[0m\u001b[1;33m,\u001b[0m \u001b[0my_train_smote\u001b[0m\u001b[1;33m)\u001b[0m\u001b[1;33m\u001b[0m\u001b[1;33m\u001b[0m\u001b[0m\n\u001b[0m\u001b[0;32m     76\u001b[0m \u001b[1;33m\u001b[0m\u001b[0m\n\u001b[0;32m     77\u001b[0m             \u001b[1;31m# Use the best model from the grid search\u001b[0m\u001b[1;33m\u001b[0m\u001b[1;33m\u001b[0m\u001b[1;33m\u001b[0m\u001b[0m\n",
      "\u001b[1;32m~\\anaconda3\\envs\\learn-env\\lib\\site-packages\\sklearn\\utils\\validation.py\u001b[0m in \u001b[0;36minner_f\u001b[1;34m(*args, **kwargs)\u001b[0m\n\u001b[0;32m     70\u001b[0m                           FutureWarning)\n\u001b[0;32m     71\u001b[0m         \u001b[0mkwargs\u001b[0m\u001b[1;33m.\u001b[0m\u001b[0mupdate\u001b[0m\u001b[1;33m(\u001b[0m\u001b[1;33m{\u001b[0m\u001b[0mk\u001b[0m\u001b[1;33m:\u001b[0m \u001b[0marg\u001b[0m \u001b[1;32mfor\u001b[0m \u001b[0mk\u001b[0m\u001b[1;33m,\u001b[0m \u001b[0marg\u001b[0m \u001b[1;32min\u001b[0m \u001b[0mzip\u001b[0m\u001b[1;33m(\u001b[0m\u001b[0msig\u001b[0m\u001b[1;33m.\u001b[0m\u001b[0mparameters\u001b[0m\u001b[1;33m,\u001b[0m \u001b[0margs\u001b[0m\u001b[1;33m)\u001b[0m\u001b[1;33m}\u001b[0m\u001b[1;33m)\u001b[0m\u001b[1;33m\u001b[0m\u001b[1;33m\u001b[0m\u001b[0m\n\u001b[1;32m---> 72\u001b[1;33m         \u001b[1;32mreturn\u001b[0m \u001b[0mf\u001b[0m\u001b[1;33m(\u001b[0m\u001b[1;33m**\u001b[0m\u001b[0mkwargs\u001b[0m\u001b[1;33m)\u001b[0m\u001b[1;33m\u001b[0m\u001b[1;33m\u001b[0m\u001b[0m\n\u001b[0m\u001b[0;32m     73\u001b[0m     \u001b[1;32mreturn\u001b[0m \u001b[0minner_f\u001b[0m\u001b[1;33m\u001b[0m\u001b[1;33m\u001b[0m\u001b[0m\n\u001b[0;32m     74\u001b[0m \u001b[1;33m\u001b[0m\u001b[0m\n",
      "\u001b[1;32m~\\anaconda3\\envs\\learn-env\\lib\\site-packages\\sklearn\\model_selection\\_search.py\u001b[0m in \u001b[0;36mfit\u001b[1;34m(self, X, y, groups, **fit_params)\u001b[0m\n\u001b[0;32m    734\u001b[0m                 \u001b[1;32mreturn\u001b[0m \u001b[0mresults\u001b[0m\u001b[1;33m\u001b[0m\u001b[1;33m\u001b[0m\u001b[0m\n\u001b[0;32m    735\u001b[0m \u001b[1;33m\u001b[0m\u001b[0m\n\u001b[1;32m--> 736\u001b[1;33m             \u001b[0mself\u001b[0m\u001b[1;33m.\u001b[0m\u001b[0m_run_search\u001b[0m\u001b[1;33m(\u001b[0m\u001b[0mevaluate_candidates\u001b[0m\u001b[1;33m)\u001b[0m\u001b[1;33m\u001b[0m\u001b[1;33m\u001b[0m\u001b[0m\n\u001b[0m\u001b[0;32m    737\u001b[0m \u001b[1;33m\u001b[0m\u001b[0m\n\u001b[0;32m    738\u001b[0m         \u001b[1;31m# For multi-metric evaluation, store the best_index_, best_params_ and\u001b[0m\u001b[1;33m\u001b[0m\u001b[1;33m\u001b[0m\u001b[1;33m\u001b[0m\u001b[0m\n",
      "\u001b[1;32m~\\anaconda3\\envs\\learn-env\\lib\\site-packages\\sklearn\\model_selection\\_search.py\u001b[0m in \u001b[0;36m_run_search\u001b[1;34m(self, evaluate_candidates)\u001b[0m\n\u001b[0;32m   1186\u001b[0m     \u001b[1;32mdef\u001b[0m \u001b[0m_run_search\u001b[0m\u001b[1;33m(\u001b[0m\u001b[0mself\u001b[0m\u001b[1;33m,\u001b[0m \u001b[0mevaluate_candidates\u001b[0m\u001b[1;33m)\u001b[0m\u001b[1;33m:\u001b[0m\u001b[1;33m\u001b[0m\u001b[1;33m\u001b[0m\u001b[0m\n\u001b[0;32m   1187\u001b[0m         \u001b[1;34m\"\"\"Search all candidates in param_grid\"\"\"\u001b[0m\u001b[1;33m\u001b[0m\u001b[1;33m\u001b[0m\u001b[0m\n\u001b[1;32m-> 1188\u001b[1;33m         \u001b[0mevaluate_candidates\u001b[0m\u001b[1;33m(\u001b[0m\u001b[0mParameterGrid\u001b[0m\u001b[1;33m(\u001b[0m\u001b[0mself\u001b[0m\u001b[1;33m.\u001b[0m\u001b[0mparam_grid\u001b[0m\u001b[1;33m)\u001b[0m\u001b[1;33m)\u001b[0m\u001b[1;33m\u001b[0m\u001b[1;33m\u001b[0m\u001b[0m\n\u001b[0m\u001b[0;32m   1189\u001b[0m \u001b[1;33m\u001b[0m\u001b[0m\n\u001b[0;32m   1190\u001b[0m \u001b[1;33m\u001b[0m\u001b[0m\n",
      "\u001b[1;32m~\\anaconda3\\envs\\learn-env\\lib\\site-packages\\sklearn\\model_selection\\_search.py\u001b[0m in \u001b[0;36mevaluate_candidates\u001b[1;34m(candidate_params)\u001b[0m\n\u001b[0;32m    706\u001b[0m                               n_splits, n_candidates, n_candidates * n_splits))\n\u001b[0;32m    707\u001b[0m \u001b[1;33m\u001b[0m\u001b[0m\n\u001b[1;32m--> 708\u001b[1;33m                 out = parallel(delayed(_fit_and_score)(clone(base_estimator),\n\u001b[0m\u001b[0;32m    709\u001b[0m                                                        \u001b[0mX\u001b[0m\u001b[1;33m,\u001b[0m \u001b[0my\u001b[0m\u001b[1;33m,\u001b[0m\u001b[1;33m\u001b[0m\u001b[1;33m\u001b[0m\u001b[0m\n\u001b[0;32m    710\u001b[0m                                                        \u001b[0mtrain\u001b[0m\u001b[1;33m=\u001b[0m\u001b[0mtrain\u001b[0m\u001b[1;33m,\u001b[0m \u001b[0mtest\u001b[0m\u001b[1;33m=\u001b[0m\u001b[0mtest\u001b[0m\u001b[1;33m,\u001b[0m\u001b[1;33m\u001b[0m\u001b[1;33m\u001b[0m\u001b[0m\n",
      "\u001b[1;32m~\\anaconda3\\envs\\learn-env\\lib\\site-packages\\joblib\\parallel.py\u001b[0m in \u001b[0;36m__call__\u001b[1;34m(self, iterable)\u001b[0m\n\u001b[0;32m   1049\u001b[0m                 \u001b[0mself\u001b[0m\u001b[1;33m.\u001b[0m\u001b[0m_iterating\u001b[0m \u001b[1;33m=\u001b[0m \u001b[0mself\u001b[0m\u001b[1;33m.\u001b[0m\u001b[0m_original_iterator\u001b[0m \u001b[1;32mis\u001b[0m \u001b[1;32mnot\u001b[0m \u001b[1;32mNone\u001b[0m\u001b[1;33m\u001b[0m\u001b[1;33m\u001b[0m\u001b[0m\n\u001b[0;32m   1050\u001b[0m \u001b[1;33m\u001b[0m\u001b[0m\n\u001b[1;32m-> 1051\u001b[1;33m             \u001b[1;32mwhile\u001b[0m \u001b[0mself\u001b[0m\u001b[1;33m.\u001b[0m\u001b[0mdispatch_one_batch\u001b[0m\u001b[1;33m(\u001b[0m\u001b[0miterator\u001b[0m\u001b[1;33m)\u001b[0m\u001b[1;33m:\u001b[0m\u001b[1;33m\u001b[0m\u001b[1;33m\u001b[0m\u001b[0m\n\u001b[0m\u001b[0;32m   1052\u001b[0m                 \u001b[1;32mpass\u001b[0m\u001b[1;33m\u001b[0m\u001b[1;33m\u001b[0m\u001b[0m\n\u001b[0;32m   1053\u001b[0m \u001b[1;33m\u001b[0m\u001b[0m\n",
      "\u001b[1;32m~\\anaconda3\\envs\\learn-env\\lib\\site-packages\\joblib\\parallel.py\u001b[0m in \u001b[0;36mdispatch_one_batch\u001b[1;34m(self, iterator)\u001b[0m\n\u001b[0;32m    864\u001b[0m                 \u001b[1;32mreturn\u001b[0m \u001b[1;32mFalse\u001b[0m\u001b[1;33m\u001b[0m\u001b[1;33m\u001b[0m\u001b[0m\n\u001b[0;32m    865\u001b[0m             \u001b[1;32melse\u001b[0m\u001b[1;33m:\u001b[0m\u001b[1;33m\u001b[0m\u001b[1;33m\u001b[0m\u001b[0m\n\u001b[1;32m--> 866\u001b[1;33m                 \u001b[0mself\u001b[0m\u001b[1;33m.\u001b[0m\u001b[0m_dispatch\u001b[0m\u001b[1;33m(\u001b[0m\u001b[0mtasks\u001b[0m\u001b[1;33m)\u001b[0m\u001b[1;33m\u001b[0m\u001b[1;33m\u001b[0m\u001b[0m\n\u001b[0m\u001b[0;32m    867\u001b[0m                 \u001b[1;32mreturn\u001b[0m \u001b[1;32mTrue\u001b[0m\u001b[1;33m\u001b[0m\u001b[1;33m\u001b[0m\u001b[0m\n\u001b[0;32m    868\u001b[0m \u001b[1;33m\u001b[0m\u001b[0m\n",
      "\u001b[1;32m~\\anaconda3\\envs\\learn-env\\lib\\site-packages\\joblib\\parallel.py\u001b[0m in \u001b[0;36m_dispatch\u001b[1;34m(self, batch)\u001b[0m\n\u001b[0;32m    782\u001b[0m         \u001b[1;32mwith\u001b[0m \u001b[0mself\u001b[0m\u001b[1;33m.\u001b[0m\u001b[0m_lock\u001b[0m\u001b[1;33m:\u001b[0m\u001b[1;33m\u001b[0m\u001b[1;33m\u001b[0m\u001b[0m\n\u001b[0;32m    783\u001b[0m             \u001b[0mjob_idx\u001b[0m \u001b[1;33m=\u001b[0m \u001b[0mlen\u001b[0m\u001b[1;33m(\u001b[0m\u001b[0mself\u001b[0m\u001b[1;33m.\u001b[0m\u001b[0m_jobs\u001b[0m\u001b[1;33m)\u001b[0m\u001b[1;33m\u001b[0m\u001b[1;33m\u001b[0m\u001b[0m\n\u001b[1;32m--> 784\u001b[1;33m             \u001b[0mjob\u001b[0m \u001b[1;33m=\u001b[0m \u001b[0mself\u001b[0m\u001b[1;33m.\u001b[0m\u001b[0m_backend\u001b[0m\u001b[1;33m.\u001b[0m\u001b[0mapply_async\u001b[0m\u001b[1;33m(\u001b[0m\u001b[0mbatch\u001b[0m\u001b[1;33m,\u001b[0m \u001b[0mcallback\u001b[0m\u001b[1;33m=\u001b[0m\u001b[0mcb\u001b[0m\u001b[1;33m)\u001b[0m\u001b[1;33m\u001b[0m\u001b[1;33m\u001b[0m\u001b[0m\n\u001b[0m\u001b[0;32m    785\u001b[0m             \u001b[1;31m# A job can complete so quickly than its callback is\u001b[0m\u001b[1;33m\u001b[0m\u001b[1;33m\u001b[0m\u001b[1;33m\u001b[0m\u001b[0m\n\u001b[0;32m    786\u001b[0m             \u001b[1;31m# called before we get here, causing self._jobs to\u001b[0m\u001b[1;33m\u001b[0m\u001b[1;33m\u001b[0m\u001b[1;33m\u001b[0m\u001b[0m\n",
      "\u001b[1;32m~\\anaconda3\\envs\\learn-env\\lib\\site-packages\\joblib\\_parallel_backends.py\u001b[0m in \u001b[0;36mapply_async\u001b[1;34m(self, func, callback)\u001b[0m\n\u001b[0;32m    206\u001b[0m     \u001b[1;32mdef\u001b[0m \u001b[0mapply_async\u001b[0m\u001b[1;33m(\u001b[0m\u001b[0mself\u001b[0m\u001b[1;33m,\u001b[0m \u001b[0mfunc\u001b[0m\u001b[1;33m,\u001b[0m \u001b[0mcallback\u001b[0m\u001b[1;33m=\u001b[0m\u001b[1;32mNone\u001b[0m\u001b[1;33m)\u001b[0m\u001b[1;33m:\u001b[0m\u001b[1;33m\u001b[0m\u001b[1;33m\u001b[0m\u001b[0m\n\u001b[0;32m    207\u001b[0m         \u001b[1;34m\"\"\"Schedule a func to be run\"\"\"\u001b[0m\u001b[1;33m\u001b[0m\u001b[1;33m\u001b[0m\u001b[0m\n\u001b[1;32m--> 208\u001b[1;33m         \u001b[0mresult\u001b[0m \u001b[1;33m=\u001b[0m \u001b[0mImmediateResult\u001b[0m\u001b[1;33m(\u001b[0m\u001b[0mfunc\u001b[0m\u001b[1;33m)\u001b[0m\u001b[1;33m\u001b[0m\u001b[1;33m\u001b[0m\u001b[0m\n\u001b[0m\u001b[0;32m    209\u001b[0m         \u001b[1;32mif\u001b[0m \u001b[0mcallback\u001b[0m\u001b[1;33m:\u001b[0m\u001b[1;33m\u001b[0m\u001b[1;33m\u001b[0m\u001b[0m\n\u001b[0;32m    210\u001b[0m             \u001b[0mcallback\u001b[0m\u001b[1;33m(\u001b[0m\u001b[0mresult\u001b[0m\u001b[1;33m)\u001b[0m\u001b[1;33m\u001b[0m\u001b[1;33m\u001b[0m\u001b[0m\n",
      "\u001b[1;32m~\\anaconda3\\envs\\learn-env\\lib\\site-packages\\joblib\\_parallel_backends.py\u001b[0m in \u001b[0;36m__init__\u001b[1;34m(self, batch)\u001b[0m\n\u001b[0;32m    570\u001b[0m         \u001b[1;31m# Don't delay the application, to avoid keeping the input\u001b[0m\u001b[1;33m\u001b[0m\u001b[1;33m\u001b[0m\u001b[1;33m\u001b[0m\u001b[0m\n\u001b[0;32m    571\u001b[0m         \u001b[1;31m# arguments in memory\u001b[0m\u001b[1;33m\u001b[0m\u001b[1;33m\u001b[0m\u001b[1;33m\u001b[0m\u001b[0m\n\u001b[1;32m--> 572\u001b[1;33m         \u001b[0mself\u001b[0m\u001b[1;33m.\u001b[0m\u001b[0mresults\u001b[0m \u001b[1;33m=\u001b[0m \u001b[0mbatch\u001b[0m\u001b[1;33m(\u001b[0m\u001b[1;33m)\u001b[0m\u001b[1;33m\u001b[0m\u001b[1;33m\u001b[0m\u001b[0m\n\u001b[0m\u001b[0;32m    573\u001b[0m \u001b[1;33m\u001b[0m\u001b[0m\n\u001b[0;32m    574\u001b[0m     \u001b[1;32mdef\u001b[0m \u001b[0mget\u001b[0m\u001b[1;33m(\u001b[0m\u001b[0mself\u001b[0m\u001b[1;33m)\u001b[0m\u001b[1;33m:\u001b[0m\u001b[1;33m\u001b[0m\u001b[1;33m\u001b[0m\u001b[0m\n",
      "\u001b[1;32m~\\anaconda3\\envs\\learn-env\\lib\\site-packages\\joblib\\parallel.py\u001b[0m in \u001b[0;36m__call__\u001b[1;34m(self)\u001b[0m\n\u001b[0;32m    260\u001b[0m         \u001b[1;31m# change the default number of processes to -1\u001b[0m\u001b[1;33m\u001b[0m\u001b[1;33m\u001b[0m\u001b[1;33m\u001b[0m\u001b[0m\n\u001b[0;32m    261\u001b[0m         \u001b[1;32mwith\u001b[0m \u001b[0mparallel_backend\u001b[0m\u001b[1;33m(\u001b[0m\u001b[0mself\u001b[0m\u001b[1;33m.\u001b[0m\u001b[0m_backend\u001b[0m\u001b[1;33m,\u001b[0m \u001b[0mn_jobs\u001b[0m\u001b[1;33m=\u001b[0m\u001b[0mself\u001b[0m\u001b[1;33m.\u001b[0m\u001b[0m_n_jobs\u001b[0m\u001b[1;33m)\u001b[0m\u001b[1;33m:\u001b[0m\u001b[1;33m\u001b[0m\u001b[1;33m\u001b[0m\u001b[0m\n\u001b[1;32m--> 262\u001b[1;33m             return [func(*args, **kwargs)\n\u001b[0m\u001b[0;32m    263\u001b[0m                     for func, args, kwargs in self.items]\n\u001b[0;32m    264\u001b[0m \u001b[1;33m\u001b[0m\u001b[0m\n",
      "\u001b[1;32m~\\anaconda3\\envs\\learn-env\\lib\\site-packages\\joblib\\parallel.py\u001b[0m in \u001b[0;36m<listcomp>\u001b[1;34m(.0)\u001b[0m\n\u001b[0;32m    260\u001b[0m         \u001b[1;31m# change the default number of processes to -1\u001b[0m\u001b[1;33m\u001b[0m\u001b[1;33m\u001b[0m\u001b[1;33m\u001b[0m\u001b[0m\n\u001b[0;32m    261\u001b[0m         \u001b[1;32mwith\u001b[0m \u001b[0mparallel_backend\u001b[0m\u001b[1;33m(\u001b[0m\u001b[0mself\u001b[0m\u001b[1;33m.\u001b[0m\u001b[0m_backend\u001b[0m\u001b[1;33m,\u001b[0m \u001b[0mn_jobs\u001b[0m\u001b[1;33m=\u001b[0m\u001b[0mself\u001b[0m\u001b[1;33m.\u001b[0m\u001b[0m_n_jobs\u001b[0m\u001b[1;33m)\u001b[0m\u001b[1;33m:\u001b[0m\u001b[1;33m\u001b[0m\u001b[1;33m\u001b[0m\u001b[0m\n\u001b[1;32m--> 262\u001b[1;33m             return [func(*args, **kwargs)\n\u001b[0m\u001b[0;32m    263\u001b[0m                     for func, args, kwargs in self.items]\n\u001b[0;32m    264\u001b[0m \u001b[1;33m\u001b[0m\u001b[0m\n",
      "\u001b[1;32m~\\anaconda3\\envs\\learn-env\\lib\\site-packages\\sklearn\\model_selection\\_validation.py\u001b[0m in \u001b[0;36m_fit_and_score\u001b[1;34m(estimator, X, y, scorer, train, test, verbose, parameters, fit_params, return_train_score, return_parameters, return_n_test_samples, return_times, return_estimator, error_score)\u001b[0m\n\u001b[0;32m    529\u001b[0m             \u001b[0mestimator\u001b[0m\u001b[1;33m.\u001b[0m\u001b[0mfit\u001b[0m\u001b[1;33m(\u001b[0m\u001b[0mX_train\u001b[0m\u001b[1;33m,\u001b[0m \u001b[1;33m**\u001b[0m\u001b[0mfit_params\u001b[0m\u001b[1;33m)\u001b[0m\u001b[1;33m\u001b[0m\u001b[1;33m\u001b[0m\u001b[0m\n\u001b[0;32m    530\u001b[0m         \u001b[1;32melse\u001b[0m\u001b[1;33m:\u001b[0m\u001b[1;33m\u001b[0m\u001b[1;33m\u001b[0m\u001b[0m\n\u001b[1;32m--> 531\u001b[1;33m             \u001b[0mestimator\u001b[0m\u001b[1;33m.\u001b[0m\u001b[0mfit\u001b[0m\u001b[1;33m(\u001b[0m\u001b[0mX_train\u001b[0m\u001b[1;33m,\u001b[0m \u001b[0my_train\u001b[0m\u001b[1;33m,\u001b[0m \u001b[1;33m**\u001b[0m\u001b[0mfit_params\u001b[0m\u001b[1;33m)\u001b[0m\u001b[1;33m\u001b[0m\u001b[1;33m\u001b[0m\u001b[0m\n\u001b[0m\u001b[0;32m    532\u001b[0m \u001b[1;33m\u001b[0m\u001b[0m\n\u001b[0;32m    533\u001b[0m     \u001b[1;32mexcept\u001b[0m \u001b[0mException\u001b[0m \u001b[1;32mas\u001b[0m \u001b[0me\u001b[0m\u001b[1;33m:\u001b[0m\u001b[1;33m\u001b[0m\u001b[1;33m\u001b[0m\u001b[0m\n",
      "\u001b[1;32m~\\anaconda3\\envs\\learn-env\\lib\\site-packages\\xgboost\\sklearn.py\u001b[0m in \u001b[0;36mfit\u001b[1;34m(self, X, y, sample_weight, base_margin, eval_set, eval_metric, early_stopping_rounds, verbose, xgb_model, sample_weight_eval_set, callbacks)\u001b[0m\n\u001b[0;32m    826\u001b[0m                                 missing=self.missing, nthread=self.n_jobs)\n\u001b[0;32m    827\u001b[0m \u001b[1;33m\u001b[0m\u001b[0m\n\u001b[1;32m--> 828\u001b[1;33m         self._Booster = train(xgb_options, train_dmatrix,\n\u001b[0m\u001b[0;32m    829\u001b[0m                               \u001b[0mself\u001b[0m\u001b[1;33m.\u001b[0m\u001b[0mget_num_boosting_rounds\u001b[0m\u001b[1;33m(\u001b[0m\u001b[1;33m)\u001b[0m\u001b[1;33m,\u001b[0m\u001b[1;33m\u001b[0m\u001b[1;33m\u001b[0m\u001b[0m\n\u001b[0;32m    830\u001b[0m                               \u001b[0mevals\u001b[0m\u001b[1;33m=\u001b[0m\u001b[0mevals\u001b[0m\u001b[1;33m,\u001b[0m\u001b[1;33m\u001b[0m\u001b[1;33m\u001b[0m\u001b[0m\n",
      "\u001b[1;32m~\\anaconda3\\envs\\learn-env\\lib\\site-packages\\xgboost\\training.py\u001b[0m in \u001b[0;36mtrain\u001b[1;34m(params, dtrain, num_boost_round, evals, obj, feval, maximize, early_stopping_rounds, evals_result, verbose_eval, xgb_model, callbacks)\u001b[0m\n\u001b[0;32m    206\u001b[0m         \u001b[0mcallbacks\u001b[0m\u001b[1;33m.\u001b[0m\u001b[0mappend\u001b[0m\u001b[1;33m(\u001b[0m\u001b[0mcallback\u001b[0m\u001b[1;33m.\u001b[0m\u001b[0mrecord_evaluation\u001b[0m\u001b[1;33m(\u001b[0m\u001b[0mevals_result\u001b[0m\u001b[1;33m)\u001b[0m\u001b[1;33m)\u001b[0m\u001b[1;33m\u001b[0m\u001b[1;33m\u001b[0m\u001b[0m\n\u001b[0;32m    207\u001b[0m \u001b[1;33m\u001b[0m\u001b[0m\n\u001b[1;32m--> 208\u001b[1;33m     return _train_internal(params, dtrain,\n\u001b[0m\u001b[0;32m    209\u001b[0m                            \u001b[0mnum_boost_round\u001b[0m\u001b[1;33m=\u001b[0m\u001b[0mnum_boost_round\u001b[0m\u001b[1;33m,\u001b[0m\u001b[1;33m\u001b[0m\u001b[1;33m\u001b[0m\u001b[0m\n\u001b[0;32m    210\u001b[0m                            \u001b[0mevals\u001b[0m\u001b[1;33m=\u001b[0m\u001b[0mevals\u001b[0m\u001b[1;33m,\u001b[0m\u001b[1;33m\u001b[0m\u001b[1;33m\u001b[0m\u001b[0m\n",
      "\u001b[1;32m~\\anaconda3\\envs\\learn-env\\lib\\site-packages\\xgboost\\training.py\u001b[0m in \u001b[0;36m_train_internal\u001b[1;34m(params, dtrain, num_boost_round, evals, obj, feval, xgb_model, callbacks)\u001b[0m\n\u001b[0;32m     73\u001b[0m         \u001b[1;31m# Skip the first update if it is a recovery step.\u001b[0m\u001b[1;33m\u001b[0m\u001b[1;33m\u001b[0m\u001b[1;33m\u001b[0m\u001b[0m\n\u001b[0;32m     74\u001b[0m         \u001b[1;32mif\u001b[0m \u001b[0mversion\u001b[0m \u001b[1;33m%\u001b[0m \u001b[1;36m2\u001b[0m \u001b[1;33m==\u001b[0m \u001b[1;36m0\u001b[0m\u001b[1;33m:\u001b[0m\u001b[1;33m\u001b[0m\u001b[1;33m\u001b[0m\u001b[0m\n\u001b[1;32m---> 75\u001b[1;33m             \u001b[0mbst\u001b[0m\u001b[1;33m.\u001b[0m\u001b[0mupdate\u001b[0m\u001b[1;33m(\u001b[0m\u001b[0mdtrain\u001b[0m\u001b[1;33m,\u001b[0m \u001b[0mi\u001b[0m\u001b[1;33m,\u001b[0m \u001b[0mobj\u001b[0m\u001b[1;33m)\u001b[0m\u001b[1;33m\u001b[0m\u001b[1;33m\u001b[0m\u001b[0m\n\u001b[0m\u001b[0;32m     76\u001b[0m             \u001b[0mbst\u001b[0m\u001b[1;33m.\u001b[0m\u001b[0msave_rabit_checkpoint\u001b[0m\u001b[1;33m(\u001b[0m\u001b[1;33m)\u001b[0m\u001b[1;33m\u001b[0m\u001b[1;33m\u001b[0m\u001b[0m\n\u001b[0;32m     77\u001b[0m             \u001b[0mversion\u001b[0m \u001b[1;33m+=\u001b[0m \u001b[1;36m1\u001b[0m\u001b[1;33m\u001b[0m\u001b[1;33m\u001b[0m\u001b[0m\n",
      "\u001b[1;32m~\\anaconda3\\envs\\learn-env\\lib\\site-packages\\xgboost\\core.py\u001b[0m in \u001b[0;36mupdate\u001b[1;34m(self, dtrain, iteration, fobj)\u001b[0m\n\u001b[0;32m   1157\u001b[0m \u001b[1;33m\u001b[0m\u001b[0m\n\u001b[0;32m   1158\u001b[0m         \u001b[1;32mif\u001b[0m \u001b[0mfobj\u001b[0m \u001b[1;32mis\u001b[0m \u001b[1;32mNone\u001b[0m\u001b[1;33m:\u001b[0m\u001b[1;33m\u001b[0m\u001b[1;33m\u001b[0m\u001b[0m\n\u001b[1;32m-> 1159\u001b[1;33m             _check_call(_LIB.XGBoosterUpdateOneIter(self.handle,\n\u001b[0m\u001b[0;32m   1160\u001b[0m                                                     \u001b[0mctypes\u001b[0m\u001b[1;33m.\u001b[0m\u001b[0mc_int\u001b[0m\u001b[1;33m(\u001b[0m\u001b[0miteration\u001b[0m\u001b[1;33m)\u001b[0m\u001b[1;33m,\u001b[0m\u001b[1;33m\u001b[0m\u001b[1;33m\u001b[0m\u001b[0m\n\u001b[0;32m   1161\u001b[0m                                                     dtrain.handle))\n",
      "\u001b[1;31mKeyboardInterrupt\u001b[0m: "
     ]
    }
   ],
   "source": [
    "# Define the hyperparameters to tune\n",
    "param_grid = {\n",
    "    'max_depth': [3, 5, 7],\n",
    "    'learning_rate': [0.1, 0.01, 0.001],\n",
    "    'n_estimators': [100, 200, 300],\n",
    "    'subsample': [0.8, 1.0],\n",
    "    'colsample_bytree': [0.8, 1.0]\n",
    "}\n",
    "\n",
    "# Instantiate the model\n",
    "xgb_tuned = XGBClassifier(n_jobs=3)\n",
    "\n",
    "# Train and evaluate the model with grid search\n",
    "train_and_evaluate_model(X, y, xgb_tuned, param_grid)"
   ]
  },
  {
   "cell_type": "code",
   "execution_count": null,
   "metadata": {},
   "outputs": [],
   "source": []
  },
  {
   "cell_type": "markdown",
   "metadata": {},
   "source": [
    "**Give justifications why you're moving from one model to another**\n",
    "\n",
    "**Try out a pipeline and roc-auc curve for the final model**\n",
    "\n",
    "**Build a Predictive System using the unseen validation data**"
   ]
  },
  {
   "cell_type": "code",
   "execution_count": null,
   "metadata": {},
   "outputs": [],
   "source": []
  }
 ],
 "metadata": {
  "kernelspec": {
   "display_name": "Python (learn-env)",
   "language": "python",
   "name": "learn-env"
  },
  "language_info": {
   "codemirror_mode": {
    "name": "ipython",
    "version": 3
   },
   "file_extension": ".py",
   "mimetype": "text/x-python",
   "name": "python",
   "nbconvert_exporter": "python",
   "pygments_lexer": "ipython3",
   "version": "3.10.10"
  }
 },
 "nbformat": 4,
 "nbformat_minor": 4
}
